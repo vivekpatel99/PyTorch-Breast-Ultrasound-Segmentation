{
 "cells": [
  {
   "cell_type": "markdown",
   "metadata": {},
   "source": [
    "# Train VGGNet and FCN as Segmentation model\n",
    "## Breast-Ultrasound-Segmentation\n",
    "\n",
    "## About Dataset\n",
    "Breast cancer is one of the most common causes of death among women worldwide. Early detection helps in reducing the number of early deaths. The data reviews the medical images of breast cancer using ultrasound scan. Breast Ultrasound Dataset is categorized into three classes: normal, benign, and malignant images. Breast ultrasound images can produce great results in classification, detection, and segmentation of breast cancer when combined with machine learning.\n",
    "\n",
    "### Data\n",
    "The data collected at baseline include breast ultrasound images among women in ages between 25 and 75 years old. This data was collected in 2018. The number of patients is 600 female patients. The dataset consists of 780 images with an average image size of 500*500 pixels. The images are in PNG format. The ground truth images are presented with original images. The images are categorized into three classes, which are normal, benign, and malignant.\n",
    "\n",
    "If you use this dataset, please cite:\n",
    "Al-Dhabyani W, Gomaa M, Khaled H, Fahmy A. Dataset of breast ultrasound images. Data in Brief. 2020 Feb;28:104863. DOI: 10.1016/j.dib.2019.104863."
   ]
  },
  {
   "cell_type": "markdown",
   "metadata": {},
   "source": [
    "## Imports"
   ]
  },
  {
   "cell_type": "code",
   "execution_count": 1,
   "metadata": {},
   "outputs": [],
   "source": [
    "import os\n",
    "\n",
    "import pyrootutils\n",
    "\n",
    "root = pyrootutils.setup_root(\n",
    "    search_from=os.path.dirname(os.getcwd()),\n",
    "    indicator=[\".git\", \"pyproject.toml\"],\n",
    "    pythonpath=True,\n",
    "    dotenv=True,\n",
    ")\n",
    "\n",
    "if os.getenv(\"DATA_ROOT\") is None:\n",
    "    os.environ[\"DATA_ROOT\"] = f\"{root}/data\""
   ]
  },
  {
   "cell_type": "code",
   "execution_count": 2,
   "metadata": {},
   "outputs": [
    {
     "name": "stdout",
     "output_type": "stream",
     "text": [
      "GPU Found!!\n"
     ]
    }
   ],
   "source": [
    "import torch\n",
    "import torch.nn as nn\n",
    "\n",
    "# Setup device-agnostic code\n",
    "if torch.cuda.is_available():\n",
    "    DEVICE = \"cuda\"  # NVIDIA GPU\n",
    "    print(\"GPU Found!!\")\n",
    "else:\n",
    "    raise Exception(\"No GPU Found!!\")"
   ]
  },
  {
   "cell_type": "code",
   "execution_count": 3,
   "metadata": {},
   "outputs": [],
   "source": [
    "import hydra\n",
    "from hydra import compose, initialize"
   ]
  },
  {
   "cell_type": "code",
   "execution_count": 4,
   "metadata": {},
   "outputs": [],
   "source": [
    "# # auto reload dotenv\n",
    "%load_ext dotenv\n",
    "%dotenv\n",
    "\n",
    "# auto reload libs\n",
    "%load_ext autoreload\n",
    "%autoreload 2"
   ]
  },
  {
   "cell_type": "markdown",
   "metadata": {},
   "source": [
    "## Paths setup"
   ]
  },
  {
   "cell_type": "code",
   "execution_count": 5,
   "metadata": {},
   "outputs": [
    {
     "name": "stdout",
     "output_type": "stream",
     "text": [
      "{'optimizer': {'_target_': 'torch.optim.Adam', '_partial_': True, 'lr': 0.001, 'weight_decay': 0.0, 'betas': [0.9, 0.999]}, 'scheduler': {'func': None}, 'model': {'_target_': 'src.models.vggnet_fcn_segmentation_model.VGGNetFCN16SegmentationModel', 'num_classes': 3}}\n"
     ]
    }
   ],
   "source": [
    "from omegaconf import DictConfig, OmegaConf\n",
    "\n",
    "# Register a resolver for torch dtypes\n",
    "OmegaConf.register_new_resolver(\"torch_dtype\", lambda name: getattr(torch, name))\n",
    "\n",
    "with initialize(config_path=\"../configs\", job_name=\"training_setup\", version_base=None):\n",
    "    cfg: DictConfig = compose(config_name=\"train.yaml\")\n",
    "    # print(OmegaConf.to_yaml(cfg))\n",
    "    print(cfg.models)"
   ]
  },
  {
   "cell_type": "code",
   "execution_count": 6,
   "metadata": {},
   "outputs": [],
   "source": [
    "os.chdir(root)"
   ]
  },
  {
   "cell_type": "markdown",
   "metadata": {},
   "source": [
    "## Loading Dataset"
   ]
  },
  {
   "cell_type": "code",
   "execution_count": 7,
   "metadata": {},
   "outputs": [
    {
     "data": {
      "text/plain": [
       "(['normal', 'malignant', 'benign'], 3, tensor([1.9774, 1.2494, 0.5903]))"
      ]
     },
     "execution_count": 7,
     "metadata": {},
     "output_type": "execute_result"
    }
   ],
   "source": [
    "data_module = hydra.utils.instantiate(cfg.datamodule)\n",
    "\n",
    "class_weights = data_module.class_weights\n",
    "class_names = data_module.classes\n",
    "num_classes = len(class_names)\n",
    "class_names, num_classes, class_weights"
   ]
  },
  {
   "cell_type": "code",
   "execution_count": 8,
   "metadata": {},
   "outputs": [],
   "source": [
    "import torch.optim as optim\n",
    "from torch.utils.data import DataLoader, Subset\n",
    "\n",
    "# # 1. Select a very small subset of your data\n",
    "train_dataset, val_dataset = data_module.split_and_preprocess_datasets()\n",
    "\n",
    "subset_indices = list(range(10))  # Select first 10 samples\n",
    "train_small_dataset = Subset(train_dataset, subset_indices)\n",
    "val_small_dataset = Subset(val_dataset, subset_indices)\n",
    "train_dl = DataLoader(train_small_dataset, batch_size=5, shuffle=False)\n",
    "val_dl = DataLoader(val_small_dataset, batch_size=5, shuffle=False)"
   ]
  },
  {
   "cell_type": "code",
   "execution_count": 9,
   "metadata": {},
   "outputs": [
    {
     "name": "stdout",
     "output_type": "stream",
     "text": [
      "torch.Size([5, 3, 224, 224]) torch.Size([5, 1, 224, 224]) torch.Size([5])\n",
      "images:torch.float32, -2.1179039478302, 2.640000104904175\n",
      "masks torch.uint8, 0, 1\n",
      "labels torch.int64, 1, 2\n"
     ]
    }
   ],
   "source": [
    "for images, targets in train_dl:\n",
    "    print(images.shape, targets[\"masks\"].shape, targets[\"labels\"].shape)\n",
    "\n",
    "    print(f\"images:{images.dtype}, {images[0].min()}, {images[0].max()}\")\n",
    "    print(\n",
    "        f'masks {targets[\"masks\"].dtype}, {targets[\"masks\"][0].min()}, {targets[\"masks\"][0].max()}'\n",
    "    )\n",
    "    print(\n",
    "        f'labels {targets[\"labels\"].dtype}, {targets[\"labels\"].min()}, {targets[\"labels\"].max()}'\n",
    "    )\n",
    "    break"
   ]
  },
  {
   "cell_type": "code",
   "execution_count": 10,
   "metadata": {},
   "outputs": [
    {
     "name": "stdout",
     "output_type": "stream",
     "text": [
      "torch.Size([5, 3, 224, 224]) torch.Size([5, 1, 224, 224]) torch.Size([5])\n",
      "images:torch.float32, -2.1179039478302, 2.5354254245758057\n",
      "masks torch.uint8, 0, 1\n",
      "labels torch.int64, 0, 2\n"
     ]
    }
   ],
   "source": [
    "for _images, _targets in val_dl:\n",
    "    print(_images.shape, _targets[\"masks\"].shape, _targets[\"labels\"].shape)\n",
    "\n",
    "    print(f\"images:{_images[0].dtype}, {_images[0].min()}, {_images[0].max()}\")\n",
    "    print(f'masks {_targets[\"masks\"].dtype}, {_targets[\"masks\"].min()}, {_targets[\"masks\"].max()}')\n",
    "    print(\n",
    "        f'labels {_targets[\"labels\"].dtype}, {_targets[\"labels\"].min()}, {_targets[\"labels\"].max()}'\n",
    "    )\n",
    "    break"
   ]
  },
  {
   "cell_type": "markdown",
   "metadata": {},
   "source": [
    "## Loading and training the FCN8 model "
   ]
  },
  {
   "cell_type": "code",
   "execution_count": 11,
   "metadata": {},
   "outputs": [],
   "source": [
    "from src.utils.gpu_utils import DeviceDataLoader, get_default_device, to_device\n",
    "\n",
    "torch.cuda.empty_cache()\n",
    "device = get_default_device()\n",
    "\n",
    "gpu_weights = to_device(class_weights, device)"
   ]
  },
  {
   "cell_type": "code",
   "execution_count": 12,
   "metadata": {},
   "outputs": [
    {
     "data": {
      "text/plain": [
       "OptimizedModule(\n",
       "  (_orig_mod): VGGNetFCN8SegmentationModel(\n",
       "    (segmentation_criterion): CrossEntropyLoss()\n",
       "    (classification_criterion): CrossEntropyLoss()\n",
       "    (encoder): VGGNetEncoder(\n",
       "      (vgg): VGG(\n",
       "        (features): Sequential(\n",
       "          (0): Conv2d(3, 64, kernel_size=(3, 3), stride=(1, 1), padding=(1, 1))\n",
       "          (1): ReLU(inplace=True)\n",
       "          (2): Conv2d(64, 64, kernel_size=(3, 3), stride=(1, 1), padding=(1, 1))\n",
       "          (3): ReLU(inplace=True)\n",
       "          (4): MaxPool2d(kernel_size=2, stride=2, padding=0, dilation=1, ceil_mode=False)\n",
       "          (5): Conv2d(64, 128, kernel_size=(3, 3), stride=(1, 1), padding=(1, 1))\n",
       "          (6): ReLU(inplace=True)\n",
       "          (7): Conv2d(128, 128, kernel_size=(3, 3), stride=(1, 1), padding=(1, 1))\n",
       "          (8): ReLU(inplace=True)\n",
       "          (9): MaxPool2d(kernel_size=2, stride=2, padding=0, dilation=1, ceil_mode=False)\n",
       "          (10): Conv2d(128, 256, kernel_size=(3, 3), stride=(1, 1), padding=(1, 1))\n",
       "          (11): ReLU(inplace=True)\n",
       "          (12): Conv2d(256, 256, kernel_size=(3, 3), stride=(1, 1), padding=(1, 1))\n",
       "          (13): ReLU(inplace=True)\n",
       "          (14): Conv2d(256, 256, kernel_size=(3, 3), stride=(1, 1), padding=(1, 1))\n",
       "          (15): ReLU(inplace=True)\n",
       "          (16): MaxPool2d(kernel_size=2, stride=2, padding=0, dilation=1, ceil_mode=False)\n",
       "          (17): Conv2d(256, 512, kernel_size=(3, 3), stride=(1, 1), padding=(1, 1))\n",
       "          (18): ReLU(inplace=True)\n",
       "          (19): Conv2d(512, 512, kernel_size=(3, 3), stride=(1, 1), padding=(1, 1))\n",
       "          (20): ReLU(inplace=True)\n",
       "          (21): Conv2d(512, 512, kernel_size=(3, 3), stride=(1, 1), padding=(1, 1))\n",
       "          (22): ReLU(inplace=True)\n",
       "          (23): MaxPool2d(kernel_size=2, stride=2, padding=0, dilation=1, ceil_mode=False)\n",
       "          (24): Conv2d(512, 512, kernel_size=(3, 3), stride=(1, 1), padding=(1, 1))\n",
       "          (25): ReLU(inplace=True)\n",
       "          (26): Conv2d(512, 512, kernel_size=(3, 3), stride=(1, 1), padding=(1, 1))\n",
       "          (27): ReLU(inplace=True)\n",
       "          (28): Conv2d(512, 512, kernel_size=(3, 3), stride=(1, 1), padding=(1, 1))\n",
       "          (29): ReLU(inplace=True)\n",
       "          (30): MaxPool2d(kernel_size=2, stride=2, padding=0, dilation=1, ceil_mode=False)\n",
       "        )\n",
       "        (avgpool): AdaptiveAvgPool2d(output_size=(7, 7))\n",
       "      )\n",
       "      (final_conv): Sequential(\n",
       "        (0): Conv2d(512, 4096, kernel_size=(7, 7), stride=(1, 1), padding=same)\n",
       "        (1): ReLU(inplace=True)\n",
       "        (2): Conv2d(4096, 4096, kernel_size=(1, 1), stride=(1, 1), padding=same)\n",
       "        (3): ReLU(inplace=True)\n",
       "      )\n",
       "    )\n",
       "    (decoder): FCN8Decoder(\n",
       "      (encoder): VGGNetEncoder(\n",
       "        (vgg): VGG(\n",
       "          (features): Sequential(\n",
       "            (0): Conv2d(3, 64, kernel_size=(3, 3), stride=(1, 1), padding=(1, 1))\n",
       "            (1): ReLU(inplace=True)\n",
       "            (2): Conv2d(64, 64, kernel_size=(3, 3), stride=(1, 1), padding=(1, 1))\n",
       "            (3): ReLU(inplace=True)\n",
       "            (4): MaxPool2d(kernel_size=2, stride=2, padding=0, dilation=1, ceil_mode=False)\n",
       "            (5): Conv2d(64, 128, kernel_size=(3, 3), stride=(1, 1), padding=(1, 1))\n",
       "            (6): ReLU(inplace=True)\n",
       "            (7): Conv2d(128, 128, kernel_size=(3, 3), stride=(1, 1), padding=(1, 1))\n",
       "            (8): ReLU(inplace=True)\n",
       "            (9): MaxPool2d(kernel_size=2, stride=2, padding=0, dilation=1, ceil_mode=False)\n",
       "            (10): Conv2d(128, 256, kernel_size=(3, 3), stride=(1, 1), padding=(1, 1))\n",
       "            (11): ReLU(inplace=True)\n",
       "            (12): Conv2d(256, 256, kernel_size=(3, 3), stride=(1, 1), padding=(1, 1))\n",
       "            (13): ReLU(inplace=True)\n",
       "            (14): Conv2d(256, 256, kernel_size=(3, 3), stride=(1, 1), padding=(1, 1))\n",
       "            (15): ReLU(inplace=True)\n",
       "            (16): MaxPool2d(kernel_size=2, stride=2, padding=0, dilation=1, ceil_mode=False)\n",
       "            (17): Conv2d(256, 512, kernel_size=(3, 3), stride=(1, 1), padding=(1, 1))\n",
       "            (18): ReLU(inplace=True)\n",
       "            (19): Conv2d(512, 512, kernel_size=(3, 3), stride=(1, 1), padding=(1, 1))\n",
       "            (20): ReLU(inplace=True)\n",
       "            (21): Conv2d(512, 512, kernel_size=(3, 3), stride=(1, 1), padding=(1, 1))\n",
       "            (22): ReLU(inplace=True)\n",
       "            (23): MaxPool2d(kernel_size=2, stride=2, padding=0, dilation=1, ceil_mode=False)\n",
       "            (24): Conv2d(512, 512, kernel_size=(3, 3), stride=(1, 1), padding=(1, 1))\n",
       "            (25): ReLU(inplace=True)\n",
       "            (26): Conv2d(512, 512, kernel_size=(3, 3), stride=(1, 1), padding=(1, 1))\n",
       "            (27): ReLU(inplace=True)\n",
       "            (28): Conv2d(512, 512, kernel_size=(3, 3), stride=(1, 1), padding=(1, 1))\n",
       "            (29): ReLU(inplace=True)\n",
       "            (30): MaxPool2d(kernel_size=2, stride=2, padding=0, dilation=1, ceil_mode=False)\n",
       "          )\n",
       "          (avgpool): AdaptiveAvgPool2d(output_size=(7, 7))\n",
       "        )\n",
       "        (final_conv): Sequential(\n",
       "          (0): Conv2d(512, 4096, kernel_size=(7, 7), stride=(1, 1), padding=same)\n",
       "          (1): ReLU(inplace=True)\n",
       "          (2): Conv2d(4096, 4096, kernel_size=(1, 1), stride=(1, 1), padding=same)\n",
       "          (3): ReLU(inplace=True)\n",
       "        )\n",
       "      )\n",
       "      (upsample_5): Sequential(\n",
       "        (0): ConvTranspose2d(4096, 512, kernel_size=(3, 3), stride=(2, 2), padding=(1, 1), output_padding=(1, 1), bias=False)\n",
       "        (1): ReLU(inplace=True)\n",
       "      )\n",
       "      (bn5): BatchNorm2d(512, eps=1e-05, momentum=0.1, affine=True, track_running_stats=True)\n",
       "      (upsample_4): Sequential(\n",
       "        (0): ConvTranspose2d(512, 256, kernel_size=(3, 3), stride=(2, 2), padding=(1, 1), output_padding=(1, 1), bias=False)\n",
       "        (1): ReLU(inplace=True)\n",
       "      )\n",
       "      (bn4): BatchNorm2d(256, eps=1e-05, momentum=0.1, affine=True, track_running_stats=True)\n",
       "      (upsample3): Sequential(\n",
       "        (0): ConvTranspose2d(256, 128, kernel_size=(3, 3), stride=(2, 2), padding=(1, 1), output_padding=(1, 1), bias=False)\n",
       "        (1): ReLU(inplace=True)\n",
       "        (2): BatchNorm2d(128, eps=1e-05, momentum=0.1, affine=True, track_running_stats=True)\n",
       "      )\n",
       "      (upsample2): Sequential(\n",
       "        (0): ConvTranspose2d(128, 64, kernel_size=(3, 3), stride=(2, 2), padding=(1, 1), output_padding=(1, 1), bias=False)\n",
       "        (1): ReLU(inplace=True)\n",
       "        (2): BatchNorm2d(64, eps=1e-05, momentum=0.1, affine=True, track_running_stats=True)\n",
       "      )\n",
       "      (upsample1): Sequential(\n",
       "        (0): ConvTranspose2d(64, 32, kernel_size=(3, 3), stride=(2, 2), padding=(1, 1), output_padding=(1, 1), bias=False)\n",
       "        (1): ReLU(inplace=True)\n",
       "        (2): BatchNorm2d(32, eps=1e-05, momentum=0.1, affine=True, track_running_stats=True)\n",
       "      )\n",
       "      (mask_classifier): Conv2d(32, 3, kernel_size=(1, 1), stride=(1, 1))\n",
       "      (image_classifier): Sequential(\n",
       "        (0): AdaptiveAvgPool2d(output_size=1)\n",
       "        (1): Flatten(start_dim=1, end_dim=-1)\n",
       "        (2): Linear(in_features=4096, out_features=512, bias=True)\n",
       "        (3): ReLU(inplace=True)\n",
       "        (4): Linear(in_features=512, out_features=256, bias=True)\n",
       "        (5): ReLU(inplace=True)\n",
       "        (6): Linear(in_features=256, out_features=3, bias=True)\n",
       "      )\n",
       "    )\n",
       "  )\n",
       ")"
      ]
     },
     "execution_count": 12,
     "metadata": {},
     "output_type": "execute_result"
    }
   ],
   "source": [
    "from src.models.vggnet_fcn8_segmentation_model import VGGNetFCN8SegmentationModel\n",
    "\n",
    "model = VGGNetFCN8SegmentationModel(\n",
    "    num_classes=num_classes,\n",
    "    vggnet_type=\"vgg16\",\n",
    "    # class_weights=gpu_weights,\n",
    "    segmentation_criterion=nn.CrossEntropyLoss(),\n",
    "    classification_criterion=nn.CrossEntropyLoss(weight=gpu_weights),\n",
    ")\n",
    "model = torch.compile(model)\n",
    "model"
   ]
  },
  {
   "cell_type": "code",
   "execution_count": 13,
   "metadata": {},
   "outputs": [
    {
     "name": "stdout",
     "output_type": "stream",
     "text": [
      "tensor([-0.0280, -0.0601, -0.0400], grad_fn=<SelectBackward0>) torch.Size([5, 3])\n",
      "tensor([[[ 0.2217,  0.4533, -0.2362,  ..., -0.0991,  0.1820, -0.3981],\n",
      "         [-0.4762,  0.0610, -0.2882,  ..., -0.3821, -0.1835,  0.1531],\n",
      "         [ 0.2427, -0.0021, -0.8194,  ..., -0.0435,  0.0468, -0.5177],\n",
      "         ...,\n",
      "         [-1.1953,  0.7841, -1.6076,  ...,  0.2585, -0.5988, -0.6560],\n",
      "         [ 0.1092,  0.3181,  0.4308,  ...,  0.1388,  0.6095,  0.9809],\n",
      "         [ 0.0249, -1.6544,  0.0896,  ..., -1.7758, -1.1326,  0.4621]],\n",
      "\n",
      "        [[-0.0490,  0.0566,  0.0811,  ...,  0.3426, -0.0279,  0.1367],\n",
      "         [ 0.0827,  0.4742,  1.1841,  ...,  0.1159, -0.2437,  0.2171],\n",
      "         [-0.1569,  0.6254,  0.3810,  ..., -0.2084, -0.1497, -0.0424],\n",
      "         ...,\n",
      "         [ 0.3016,  0.5003,  0.7117,  ...,  0.6720, -0.8637, -0.6873],\n",
      "         [ 0.2908, -0.2330,  0.6262,  ..., -1.0957, -0.2563,  0.2996],\n",
      "         [-0.3628,  0.0792,  0.7188,  ...,  0.8495,  0.2817,  0.5719]],\n",
      "\n",
      "        [[ 0.4832,  0.2969,  0.0160,  ...,  0.2114,  0.7245,  0.4730],\n",
      "         [-0.0323, -1.2963,  0.3075,  ...,  0.7328, -0.4848,  1.5341],\n",
      "         [ 0.2319, -0.2826, -1.3568,  ...,  0.3064,  0.4050,  0.0837],\n",
      "         ...,\n",
      "         [ 0.1733, -1.0766,  1.8936,  ...,  0.4291,  0.6273,  0.6680],\n",
      "         [ 0.1633,  0.6311,  0.3082,  ..., -1.2019,  0.5077, -0.5738],\n",
      "         [-0.4428, -0.2982,  0.2136,  ..., -0.2654, -0.6386, -0.1425]]],\n",
      "       grad_fn=<SelectBackward0>)\n",
      "torch.Size([5, 3, 224, 224])\n"
     ]
    }
   ],
   "source": [
    "for images, labels in train_dl:\n",
    "    # print(images.shape, labels)\n",
    "    out = model(images)\n",
    "    # l = labels['labels'][0]\n",
    "    # print(l , torch.argmax(l))\n",
    "    print(out[\"labels\"][0], out[\"labels\"].shape)\n",
    "    print(out[\"masks\"][0])\n",
    "    print(out[\"masks\"].shape)\n",
    "    break"
   ]
  },
  {
   "cell_type": "markdown",
   "metadata": {},
   "source": [
    "### Evaluate function"
   ]
  },
  {
   "cell_type": "code",
   "execution_count": 14,
   "metadata": {},
   "outputs": [],
   "source": [
    "@torch.no_grad()\n",
    "def evaluate(model, val_dl) -> dict[str, float]:\n",
    "    model.eval()  # set model to evaluate mode\n",
    "    outputs = [model.validation_step(batch) for batch in val_dl]\n",
    "    return model.validation_epoch_end(outputs)"
   ]
  },
  {
   "cell_type": "code",
   "execution_count": 15,
   "metadata": {},
   "outputs": [],
   "source": [
    "def fit(\n",
    "    model,\n",
    "    train_dataloader,\n",
    "    validation_dataloader,\n",
    "    epochs: int = 2,\n",
    "    lr: float = 1e-3,\n",
    "    opt_func=torch.optim.Adam,\n",
    ") -> list[dict[str, float]]:\n",
    "    history = []\n",
    "    optimizer = opt_func(model.parameters(), lr)\n",
    "    for epoch in range(epochs):\n",
    "        # Training Phase\n",
    "        model.train()\n",
    "        train_losses = []\n",
    "        train_accuracies = []\n",
    "\n",
    "        train_losses = []\n",
    "        for batch in train_dataloader:\n",
    "            step_output = model.training_step(batch)\n",
    "            loss = step_output[\"loss\"]\n",
    "            train_acc = step_output[\"train_acc\"]\n",
    "            # Detach loss and accuracy before appending to avoid holding onto computation graph\n",
    "            train_losses.append(loss.detach())\n",
    "            train_accuracies.append(train_acc.detach())  # Assuming train_acc is a tensor\n",
    "\n",
    "            loss.backward()\n",
    "            optimizer.step()\n",
    "            optimizer.zero_grad()\n",
    "        # Validation Phase\n",
    "        result = evaluate(model, validation_dataloader)\n",
    "        result[\"train_loss\"] = torch.stack(train_losses).mean().item()\n",
    "        result[\"train_acc\"] = torch.stack(train_accuracies).mean().item()\n",
    "        model.epoch_end(epoch, result)\n",
    "        history.append(result)\n",
    "    return history"
   ]
  },
  {
   "cell_type": "code",
   "execution_count": 16,
   "metadata": {},
   "outputs": [],
   "source": [
    "# evaluate(model, val_dl)"
   ]
  },
  {
   "cell_type": "markdown",
   "metadata": {},
   "source": [
    "## GPU Training Setup"
   ]
  },
  {
   "cell_type": "markdown",
   "metadata": {},
   "source": [
    "### Utils preparation"
   ]
  },
  {
   "cell_type": "markdown",
   "metadata": {},
   "source": [
    "## Moving data and model into memory"
   ]
  },
  {
   "cell_type": "markdown",
   "metadata": {},
   "source": [
    "### Train only Classification head "
   ]
  },
  {
   "cell_type": "code",
   "execution_count": 17,
   "metadata": {},
   "outputs": [
    {
     "data": {
      "text/plain": [
       "OptimizedModule(\n",
       "  (_orig_mod): VGGNetFCN8SegmentationModel(\n",
       "    (segmentation_criterion): CrossEntropyLoss()\n",
       "    (classification_criterion): CrossEntropyLoss()\n",
       "    (encoder): VGGNetEncoder(\n",
       "      (vgg): VGG(\n",
       "        (features): Sequential(\n",
       "          (0): Conv2d(3, 64, kernel_size=(3, 3), stride=(1, 1), padding=(1, 1))\n",
       "          (1): ReLU(inplace=True)\n",
       "          (2): Conv2d(64, 64, kernel_size=(3, 3), stride=(1, 1), padding=(1, 1))\n",
       "          (3): ReLU(inplace=True)\n",
       "          (4): MaxPool2d(kernel_size=2, stride=2, padding=0, dilation=1, ceil_mode=False)\n",
       "          (5): Conv2d(64, 128, kernel_size=(3, 3), stride=(1, 1), padding=(1, 1))\n",
       "          (6): ReLU(inplace=True)\n",
       "          (7): Conv2d(128, 128, kernel_size=(3, 3), stride=(1, 1), padding=(1, 1))\n",
       "          (8): ReLU(inplace=True)\n",
       "          (9): MaxPool2d(kernel_size=2, stride=2, padding=0, dilation=1, ceil_mode=False)\n",
       "          (10): Conv2d(128, 256, kernel_size=(3, 3), stride=(1, 1), padding=(1, 1))\n",
       "          (11): ReLU(inplace=True)\n",
       "          (12): Conv2d(256, 256, kernel_size=(3, 3), stride=(1, 1), padding=(1, 1))\n",
       "          (13): ReLU(inplace=True)\n",
       "          (14): Conv2d(256, 256, kernel_size=(3, 3), stride=(1, 1), padding=(1, 1))\n",
       "          (15): ReLU(inplace=True)\n",
       "          (16): MaxPool2d(kernel_size=2, stride=2, padding=0, dilation=1, ceil_mode=False)\n",
       "          (17): Conv2d(256, 512, kernel_size=(3, 3), stride=(1, 1), padding=(1, 1))\n",
       "          (18): ReLU(inplace=True)\n",
       "          (19): Conv2d(512, 512, kernel_size=(3, 3), stride=(1, 1), padding=(1, 1))\n",
       "          (20): ReLU(inplace=True)\n",
       "          (21): Conv2d(512, 512, kernel_size=(3, 3), stride=(1, 1), padding=(1, 1))\n",
       "          (22): ReLU(inplace=True)\n",
       "          (23): MaxPool2d(kernel_size=2, stride=2, padding=0, dilation=1, ceil_mode=False)\n",
       "          (24): Conv2d(512, 512, kernel_size=(3, 3), stride=(1, 1), padding=(1, 1))\n",
       "          (25): ReLU(inplace=True)\n",
       "          (26): Conv2d(512, 512, kernel_size=(3, 3), stride=(1, 1), padding=(1, 1))\n",
       "          (27): ReLU(inplace=True)\n",
       "          (28): Conv2d(512, 512, kernel_size=(3, 3), stride=(1, 1), padding=(1, 1))\n",
       "          (29): ReLU(inplace=True)\n",
       "          (30): MaxPool2d(kernel_size=2, stride=2, padding=0, dilation=1, ceil_mode=False)\n",
       "        )\n",
       "        (avgpool): AdaptiveAvgPool2d(output_size=(7, 7))\n",
       "      )\n",
       "      (final_conv): Sequential(\n",
       "        (0): Conv2d(512, 4096, kernel_size=(7, 7), stride=(1, 1), padding=same)\n",
       "        (1): ReLU(inplace=True)\n",
       "        (2): Conv2d(4096, 4096, kernel_size=(1, 1), stride=(1, 1), padding=same)\n",
       "        (3): ReLU(inplace=True)\n",
       "      )\n",
       "    )\n",
       "    (decoder): FCN8Decoder(\n",
       "      (encoder): VGGNetEncoder(\n",
       "        (vgg): VGG(\n",
       "          (features): Sequential(\n",
       "            (0): Conv2d(3, 64, kernel_size=(3, 3), stride=(1, 1), padding=(1, 1))\n",
       "            (1): ReLU(inplace=True)\n",
       "            (2): Conv2d(64, 64, kernel_size=(3, 3), stride=(1, 1), padding=(1, 1))\n",
       "            (3): ReLU(inplace=True)\n",
       "            (4): MaxPool2d(kernel_size=2, stride=2, padding=0, dilation=1, ceil_mode=False)\n",
       "            (5): Conv2d(64, 128, kernel_size=(3, 3), stride=(1, 1), padding=(1, 1))\n",
       "            (6): ReLU(inplace=True)\n",
       "            (7): Conv2d(128, 128, kernel_size=(3, 3), stride=(1, 1), padding=(1, 1))\n",
       "            (8): ReLU(inplace=True)\n",
       "            (9): MaxPool2d(kernel_size=2, stride=2, padding=0, dilation=1, ceil_mode=False)\n",
       "            (10): Conv2d(128, 256, kernel_size=(3, 3), stride=(1, 1), padding=(1, 1))\n",
       "            (11): ReLU(inplace=True)\n",
       "            (12): Conv2d(256, 256, kernel_size=(3, 3), stride=(1, 1), padding=(1, 1))\n",
       "            (13): ReLU(inplace=True)\n",
       "            (14): Conv2d(256, 256, kernel_size=(3, 3), stride=(1, 1), padding=(1, 1))\n",
       "            (15): ReLU(inplace=True)\n",
       "            (16): MaxPool2d(kernel_size=2, stride=2, padding=0, dilation=1, ceil_mode=False)\n",
       "            (17): Conv2d(256, 512, kernel_size=(3, 3), stride=(1, 1), padding=(1, 1))\n",
       "            (18): ReLU(inplace=True)\n",
       "            (19): Conv2d(512, 512, kernel_size=(3, 3), stride=(1, 1), padding=(1, 1))\n",
       "            (20): ReLU(inplace=True)\n",
       "            (21): Conv2d(512, 512, kernel_size=(3, 3), stride=(1, 1), padding=(1, 1))\n",
       "            (22): ReLU(inplace=True)\n",
       "            (23): MaxPool2d(kernel_size=2, stride=2, padding=0, dilation=1, ceil_mode=False)\n",
       "            (24): Conv2d(512, 512, kernel_size=(3, 3), stride=(1, 1), padding=(1, 1))\n",
       "            (25): ReLU(inplace=True)\n",
       "            (26): Conv2d(512, 512, kernel_size=(3, 3), stride=(1, 1), padding=(1, 1))\n",
       "            (27): ReLU(inplace=True)\n",
       "            (28): Conv2d(512, 512, kernel_size=(3, 3), stride=(1, 1), padding=(1, 1))\n",
       "            (29): ReLU(inplace=True)\n",
       "            (30): MaxPool2d(kernel_size=2, stride=2, padding=0, dilation=1, ceil_mode=False)\n",
       "          )\n",
       "          (avgpool): AdaptiveAvgPool2d(output_size=(7, 7))\n",
       "        )\n",
       "        (final_conv): Sequential(\n",
       "          (0): Conv2d(512, 4096, kernel_size=(7, 7), stride=(1, 1), padding=same)\n",
       "          (1): ReLU(inplace=True)\n",
       "          (2): Conv2d(4096, 4096, kernel_size=(1, 1), stride=(1, 1), padding=same)\n",
       "          (3): ReLU(inplace=True)\n",
       "        )\n",
       "      )\n",
       "      (upsample_5): Sequential(\n",
       "        (0): ConvTranspose2d(4096, 512, kernel_size=(3, 3), stride=(2, 2), padding=(1, 1), output_padding=(1, 1), bias=False)\n",
       "        (1): ReLU(inplace=True)\n",
       "      )\n",
       "      (bn5): BatchNorm2d(512, eps=1e-05, momentum=0.1, affine=True, track_running_stats=True)\n",
       "      (upsample_4): Sequential(\n",
       "        (0): ConvTranspose2d(512, 256, kernel_size=(3, 3), stride=(2, 2), padding=(1, 1), output_padding=(1, 1), bias=False)\n",
       "        (1): ReLU(inplace=True)\n",
       "      )\n",
       "      (bn4): BatchNorm2d(256, eps=1e-05, momentum=0.1, affine=True, track_running_stats=True)\n",
       "      (upsample3): Sequential(\n",
       "        (0): ConvTranspose2d(256, 128, kernel_size=(3, 3), stride=(2, 2), padding=(1, 1), output_padding=(1, 1), bias=False)\n",
       "        (1): ReLU(inplace=True)\n",
       "        (2): BatchNorm2d(128, eps=1e-05, momentum=0.1, affine=True, track_running_stats=True)\n",
       "      )\n",
       "      (upsample2): Sequential(\n",
       "        (0): ConvTranspose2d(128, 64, kernel_size=(3, 3), stride=(2, 2), padding=(1, 1), output_padding=(1, 1), bias=False)\n",
       "        (1): ReLU(inplace=True)\n",
       "        (2): BatchNorm2d(64, eps=1e-05, momentum=0.1, affine=True, track_running_stats=True)\n",
       "      )\n",
       "      (upsample1): Sequential(\n",
       "        (0): ConvTranspose2d(64, 32, kernel_size=(3, 3), stride=(2, 2), padding=(1, 1), output_padding=(1, 1), bias=False)\n",
       "        (1): ReLU(inplace=True)\n",
       "        (2): BatchNorm2d(32, eps=1e-05, momentum=0.1, affine=True, track_running_stats=True)\n",
       "      )\n",
       "      (mask_classifier): Conv2d(32, 3, kernel_size=(1, 1), stride=(1, 1))\n",
       "      (image_classifier): Sequential(\n",
       "        (0): AdaptiveAvgPool2d(output_size=1)\n",
       "        (1): Flatten(start_dim=1, end_dim=-1)\n",
       "        (2): Linear(in_features=4096, out_features=512, bias=True)\n",
       "        (3): ReLU(inplace=True)\n",
       "        (4): Linear(in_features=512, out_features=256, bias=True)\n",
       "        (5): ReLU(inplace=True)\n",
       "        (6): Linear(in_features=256, out_features=3, bias=True)\n",
       "      )\n",
       "    )\n",
       "  )\n",
       ")"
      ]
     },
     "execution_count": 17,
     "metadata": {},
     "output_type": "execute_result"
    }
   ],
   "source": [
    "train_dl = DeviceDataLoader(train_dl, device)\n",
    "val_dl = DeviceDataLoader(val_dl, device)\n",
    "to_device(model, device)\n",
    "# train_dl.device"
   ]
  },
  {
   "cell_type": "code",
   "execution_count": 18,
   "metadata": {},
   "outputs": [],
   "source": [
    "num_epochs = 20  # Train for significantly more epochs than usual\n",
    "\n",
    "# history = fit(\n",
    "#     model=model,\n",
    "#     train_dataloader=train_dl,\n",
    "#     validation_dataloader=val_dl,\n",
    "#     epochs=num_epochs,\n",
    "#     lr=1e-4,\n",
    "#     opt_func=optim.Adam,\n",
    "# )"
   ]
  },
  {
   "cell_type": "code",
   "execution_count": 19,
   "metadata": {},
   "outputs": [],
   "source": [
    "from src.utils.visualizations import plot_losses\n",
    "\n",
    "# plot_losses(history)"
   ]
  },
  {
   "cell_type": "markdown",
   "metadata": {},
   "source": [
    "## Image Segmentation"
   ]
  },
  {
   "cell_type": "code",
   "execution_count": 27,
   "metadata": {},
   "outputs": [],
   "source": [
    "import enum\n",
    "\n",
    "\n",
    "class MetricKey(enum.Enum):\n",
    "    \"\"\"Keys for metrics dictionary.\"\"\"\n",
    "\n",
    "    # Classification\n",
    "    CLS_LOSS = \"cls_loss\"\n",
    "    CLS_ACC = \"cls_acc\"\n",
    "    VAL_CLS_LOSS = \"val_cls_loss\"\n",
    "    VAL_CLS_ACC = \"val_cls_acc\"\n",
    "\n",
    "    # Segmentation\n",
    "    SEG_LOSS = \"seg_loss\"\n",
    "    SEG_DICE = \"seg_dice\"\n",
    "    VAL_SEG_LOSS = \"val_seg_loss\"\n",
    "    VAL_SEG_DICE = \"val_seg_dice\"\n",
    "\n",
    "\n",
    "def fit_seg(\n",
    "    model,\n",
    "    train_dataloader,\n",
    "    validation_dataloader,\n",
    "    epochs: int = 2,\n",
    "    lr: float = 1e-3,\n",
    "    opt_func=torch.optim.Adam,\n",
    ") -> list[dict[str, float]]:\n",
    "    history = []\n",
    "    result = {}\n",
    "    optimizer = opt_func(model.parameters(), lr)\n",
    "    for epoch in range(epochs):\n",
    "        # Training Phase\n",
    "        model.train()\n",
    "        train_losses = []\n",
    "        masks_dice_sc = []\n",
    "        train_accuracies = []\n",
    "        loss = []\n",
    "        masks_losses = []\n",
    "        for batch in train_dataloader:\n",
    "            step_output = model.training_step(batch)\n",
    "            masks_loss = step_output[f\"{MetricKey.SEG_LOSS.value}\"]\n",
    "            _masks_dice_sc = step_output[f\"{MetricKey.SEG_DICE.value}\"]\n",
    "\n",
    "            train_acc = step_output[f\"{MetricKey.CLS_ACC.value}\"]\n",
    "            loss = step_output[f\"{MetricKey.CLS_LOSS.value}\"]\n",
    "            # Detach loss and accuracy before appending to avoid holding onto computation graph\n",
    "            train_losses.append(loss.detach())\n",
    "            masks_losses.append(masks_loss.detach())  # Assuming train_acc is a tensor\n",
    "            masks_dice_sc.append(_masks_dice_sc)  # Assuming train_acc is a tensor\n",
    "            train_accuracies.append(train_acc.detach())  # Assuming train_acc is a tensor\n",
    "\n",
    "            loss.backward()\n",
    "            optimizer.step()\n",
    "            optimizer.zero_grad()\n",
    "\n",
    "        # Validation Phase\n",
    "        result = evaluate(model, validation_dataloader)\n",
    "        result[f\"{MetricKey.CLS_LOSS.value}\"] = torch.stack(train_losses).mean().item()\n",
    "        result[f\"{MetricKey.SEG_LOSS.value}\"] = torch.stack(masks_losses).mean().item()\n",
    "        result[f\"{MetricKey.SEG_DICE.value}\"] = torch.stack(masks_dice_sc).mean().item()\n",
    "        result[f\"{MetricKey.CLS_ACC.value}\"] = torch.stack(train_accuracies).mean().item()\n",
    "        model.epoch_end(epoch, result)\n",
    "        # history.append(result)\n",
    "    return history"
   ]
  },
  {
   "cell_type": "code",
   "execution_count": 28,
   "metadata": {},
   "outputs": [
    {
     "name": "stdout",
     "output_type": "stream",
     "text": [
      "Epoch [0] Validation Results: val_cls_loss=1.0882, val_cls_acc=0.6000, val_seg_loss=1.1820, val_seg_dice=0.1332\n",
      "Epoch [1] Validation Results: val_cls_loss=1.0850, val_cls_acc=0.6000, val_seg_loss=1.1868, val_seg_dice=0.1338\n",
      "Epoch [2] Validation Results: val_cls_loss=1.0815, val_cls_acc=0.6000, val_seg_loss=1.1911, val_seg_dice=0.1340\n",
      "Epoch [3] Validation Results: val_cls_loss=1.0773, val_cls_acc=0.6000, val_seg_loss=1.1948, val_seg_dice=0.1338\n",
      "Epoch [4] Validation Results: val_cls_loss=1.0729, val_cls_acc=0.6000, val_seg_loss=1.1980, val_seg_dice=0.1335\n",
      "Epoch [5] Validation Results: val_cls_loss=1.0682, val_cls_acc=0.6000, val_seg_loss=1.2007, val_seg_dice=0.1331\n",
      "Epoch [6] Validation Results: val_cls_loss=1.0633, val_cls_acc=0.6000, val_seg_loss=1.2029, val_seg_dice=0.1327\n",
      "Epoch [7] Validation Results: val_cls_loss=1.0580, val_cls_acc=0.6000, val_seg_loss=1.2048, val_seg_dice=0.1323\n",
      "Epoch [8] Validation Results: val_cls_loss=1.0520, val_cls_acc=0.6000, val_seg_loss=1.2063, val_seg_dice=0.1320\n",
      "Epoch [9] Validation Results: val_cls_loss=1.0441, val_cls_acc=0.6000, val_seg_loss=1.2078, val_seg_dice=0.1319\n",
      "Epoch [10] Validation Results: val_cls_loss=1.0292, val_cls_acc=0.6000, val_seg_loss=1.2091, val_seg_dice=0.1318\n",
      "Epoch [11] Validation Results: val_cls_loss=1.0044, val_cls_acc=0.6000, val_seg_loss=1.2106, val_seg_dice=0.1316\n",
      "Epoch [12] Validation Results: val_cls_loss=0.9711, val_cls_acc=0.7000, val_seg_loss=1.2125, val_seg_dice=0.1314\n",
      "Epoch [13] Validation Results: val_cls_loss=0.9321, val_cls_acc=0.7000, val_seg_loss=1.2144, val_seg_dice=0.1314\n",
      "Epoch [14] Validation Results: val_cls_loss=0.8879, val_cls_acc=0.7000, val_seg_loss=1.2163, val_seg_dice=0.1312\n",
      "Epoch [15] Validation Results: val_cls_loss=0.8390, val_cls_acc=0.8000, val_seg_loss=1.2183, val_seg_dice=0.1314\n",
      "Epoch [16] Validation Results: val_cls_loss=0.7853, val_cls_acc=0.8000, val_seg_loss=1.2207, val_seg_dice=0.1313\n",
      "Epoch [17] Validation Results: val_cls_loss=0.7246, val_cls_acc=0.7000, val_seg_loss=1.2229, val_seg_dice=0.1315\n",
      "Epoch [18] Validation Results: val_cls_loss=0.6670, val_cls_acc=0.7000, val_seg_loss=1.2252, val_seg_dice=0.1316\n",
      "Epoch [19] Validation Results: val_cls_loss=0.6250, val_cls_acc=0.6000, val_seg_loss=1.2273, val_seg_dice=0.1317\n",
      "Epoch [20] Validation Results: val_cls_loss=0.5845, val_cls_acc=0.6000, val_seg_loss=1.2293, val_seg_dice=0.1318\n",
      "Epoch [21] Validation Results: val_cls_loss=0.4988, val_cls_acc=0.6000, val_seg_loss=1.2306, val_seg_dice=0.1319\n",
      "Epoch [22] Validation Results: val_cls_loss=0.4122, val_cls_acc=0.9000, val_seg_loss=1.2320, val_seg_dice=0.1319\n",
      "Epoch [23] Validation Results: val_cls_loss=0.3594, val_cls_acc=0.9000, val_seg_loss=1.2331, val_seg_dice=0.1320\n",
      "Epoch [24] Validation Results: val_cls_loss=0.3153, val_cls_acc=0.9000, val_seg_loss=1.2343, val_seg_dice=0.1321\n",
      "Epoch [25] Validation Results: val_cls_loss=0.3084, val_cls_acc=0.8000, val_seg_loss=1.2353, val_seg_dice=0.1320\n",
      "Epoch [26] Validation Results: val_cls_loss=0.3577, val_cls_acc=0.8000, val_seg_loss=1.2361, val_seg_dice=0.1320\n",
      "Epoch [27] Validation Results: val_cls_loss=0.3990, val_cls_acc=0.8000, val_seg_loss=1.2366, val_seg_dice=0.1318\n",
      "Epoch [28] Validation Results: val_cls_loss=0.4558, val_cls_acc=0.8000, val_seg_loss=1.2368, val_seg_dice=0.1318\n",
      "Epoch [29] Validation Results: val_cls_loss=0.4445, val_cls_acc=0.8000, val_seg_loss=1.2365, val_seg_dice=0.1318\n",
      "Epoch [30] Validation Results: val_cls_loss=0.5401, val_cls_acc=0.7000, val_seg_loss=1.2365, val_seg_dice=0.1318\n",
      "Epoch [31] Validation Results: val_cls_loss=0.5460, val_cls_acc=0.7000, val_seg_loss=1.2364, val_seg_dice=0.1319\n",
      "Epoch [32] Validation Results: val_cls_loss=0.4802, val_cls_acc=0.8000, val_seg_loss=1.2357, val_seg_dice=0.1319\n",
      "Epoch [33] Validation Results: val_cls_loss=0.8166, val_cls_acc=0.6000, val_seg_loss=1.2355, val_seg_dice=0.1318\n",
      "Epoch [34] Validation Results: val_cls_loss=0.6603, val_cls_acc=0.7000, val_seg_loss=1.2353, val_seg_dice=0.1318\n",
      "Epoch [35] Validation Results: val_cls_loss=0.5509, val_cls_acc=0.8000, val_seg_loss=1.2347, val_seg_dice=0.1319\n",
      "Epoch [36] Validation Results: val_cls_loss=0.5962, val_cls_acc=0.7000, val_seg_loss=1.2337, val_seg_dice=0.1317\n",
      "Epoch [37] Validation Results: val_cls_loss=0.6396, val_cls_acc=0.6000, val_seg_loss=1.2333, val_seg_dice=0.1317\n",
      "Epoch [38] Validation Results: val_cls_loss=0.3583, val_cls_acc=0.9000, val_seg_loss=1.2329, val_seg_dice=0.1318\n",
      "Epoch [39] Validation Results: val_cls_loss=0.3114, val_cls_acc=0.9000, val_seg_loss=1.2328, val_seg_dice=0.1319\n",
      "Epoch [40] Validation Results: val_cls_loss=0.3931, val_cls_acc=0.8000, val_seg_loss=1.2328, val_seg_dice=0.1319\n",
      "Epoch [41] Validation Results: val_cls_loss=0.4692, val_cls_acc=0.8000, val_seg_loss=1.2327, val_seg_dice=0.1318\n",
      "Epoch [42] Validation Results: val_cls_loss=0.4557, val_cls_acc=0.8000, val_seg_loss=1.2329, val_seg_dice=0.1317\n",
      "Epoch [43] Validation Results: val_cls_loss=0.4349, val_cls_acc=0.8000, val_seg_loss=1.2327, val_seg_dice=0.1316\n",
      "Epoch [44] Validation Results: val_cls_loss=0.4157, val_cls_acc=0.8000, val_seg_loss=1.2328, val_seg_dice=0.1316\n",
      "Epoch [45] Validation Results: val_cls_loss=0.3999, val_cls_acc=0.8000, val_seg_loss=1.2331, val_seg_dice=0.1318\n",
      "Epoch [46] Validation Results: val_cls_loss=0.3857, val_cls_acc=0.8000, val_seg_loss=1.2331, val_seg_dice=0.1318\n",
      "Epoch [47] Validation Results: val_cls_loss=0.3728, val_cls_acc=0.8000, val_seg_loss=1.2331, val_seg_dice=0.1318\n",
      "Epoch [48] Validation Results: val_cls_loss=0.3594, val_cls_acc=0.8000, val_seg_loss=1.2333, val_seg_dice=0.1317\n",
      "Epoch [49] Validation Results: val_cls_loss=0.3470, val_cls_acc=0.9000, val_seg_loss=1.2335, val_seg_dice=0.1317\n",
      "Epoch [50] Validation Results: val_cls_loss=0.3381, val_cls_acc=0.9000, val_seg_loss=1.2337, val_seg_dice=0.1316\n",
      "Epoch [51] Validation Results: val_cls_loss=0.3311, val_cls_acc=0.9000, val_seg_loss=1.2339, val_seg_dice=0.1316\n",
      "Epoch [52] Validation Results: val_cls_loss=0.3246, val_cls_acc=0.9000, val_seg_loss=1.2341, val_seg_dice=0.1317\n",
      "Epoch [53] Validation Results: val_cls_loss=0.3191, val_cls_acc=0.9000, val_seg_loss=1.2342, val_seg_dice=0.1318\n",
      "Epoch [54] Validation Results: val_cls_loss=0.3160, val_cls_acc=0.9000, val_seg_loss=1.2341, val_seg_dice=0.1319\n",
      "Epoch [55] Validation Results: val_cls_loss=0.3146, val_cls_acc=0.9000, val_seg_loss=1.2340, val_seg_dice=0.1319\n",
      "Epoch [56] Validation Results: val_cls_loss=0.3134, val_cls_acc=0.9000, val_seg_loss=1.2334, val_seg_dice=0.1317\n",
      "Epoch [57] Validation Results: val_cls_loss=0.3131, val_cls_acc=0.9000, val_seg_loss=1.2333, val_seg_dice=0.1319\n",
      "Epoch [58] Validation Results: val_cls_loss=0.3132, val_cls_acc=0.9000, val_seg_loss=1.2333, val_seg_dice=0.1318\n",
      "Epoch [59] Validation Results: val_cls_loss=0.3132, val_cls_acc=0.9000, val_seg_loss=1.2332, val_seg_dice=0.1318\n",
      "Epoch [60] Validation Results: val_cls_loss=0.3134, val_cls_acc=0.9000, val_seg_loss=1.2332, val_seg_dice=0.1319\n",
      "Epoch [61] Validation Results: val_cls_loss=0.3139, val_cls_acc=0.9000, val_seg_loss=1.2335, val_seg_dice=0.1317\n",
      "Epoch [62] Validation Results: val_cls_loss=0.3143, val_cls_acc=0.9000, val_seg_loss=1.2338, val_seg_dice=0.1317\n",
      "Epoch [63] Validation Results: val_cls_loss=0.3137, val_cls_acc=0.9000, val_seg_loss=1.2337, val_seg_dice=0.1317\n",
      "Epoch [64] Validation Results: val_cls_loss=0.3127, val_cls_acc=0.9000, val_seg_loss=1.2339, val_seg_dice=0.1317\n",
      "Epoch [65] Validation Results: val_cls_loss=0.3126, val_cls_acc=0.9000, val_seg_loss=1.2339, val_seg_dice=0.1318\n",
      "Epoch [66] Validation Results: val_cls_loss=0.3131, val_cls_acc=0.9000, val_seg_loss=1.2338, val_seg_dice=0.1317\n",
      "Epoch [67] Validation Results: val_cls_loss=0.3139, val_cls_acc=0.9000, val_seg_loss=1.2336, val_seg_dice=0.1317\n",
      "Epoch [68] Validation Results: val_cls_loss=0.3153, val_cls_acc=0.9000, val_seg_loss=1.2336, val_seg_dice=0.1318\n",
      "Epoch [69] Validation Results: val_cls_loss=0.3169, val_cls_acc=0.9000, val_seg_loss=1.2335, val_seg_dice=0.1317\n"
     ]
    }
   ],
   "source": [
    "# TODO: try using dice loss\n",
    "history = fit_seg(\n",
    "    model=model,\n",
    "    train_dataloader=train_dl,\n",
    "    validation_dataloader=val_dl,\n",
    "    epochs=num_epochs + 50,\n",
    "    lr=1e-5,\n",
    "    opt_func=optim.Adam,\n",
    ")"
   ]
  },
  {
   "cell_type": "code",
   "execution_count": 29,
   "metadata": {},
   "outputs": [
    {
     "data": {
      "text/plain": [
       "Text(0.5, 1.0, 'Loss vs. NO. of epochs')"
      ]
     },
     "execution_count": 29,
     "metadata": {},
     "output_type": "execute_result"
    },
    {
     "data": {
      "image/png": "[encoded data removed]",
      "text/plain": [
       "<Figure size 640x480 with 1 Axes>"
      ]
     },
     "metadata": {},
     "output_type": "display_data"
    }
   ],
   "source": [
    "import matplotlib.pyplot as plt\n",
    "\n",
    "train_losses = [x[\"train_loss\"] for x in history]\n",
    "\n",
    "plt.plot(train_losses, \"-bx\")\n",
    "\n",
    "plt.xlabel(\"epoch\")\n",
    "plt.ylabel(\"loss\")\n",
    "plt.grid()\n",
    "plt.legend([\"train_loss\"])\n",
    "plt.title(\"Loss vs. NO. of epochs\")"
   ]
  },
  {
   "cell_type": "code",
   "execution_count": 30,
   "metadata": {},
   "outputs": [
    {
     "data": {
      "text/plain": [
       "(torch.Size([32, 224, 224]), torch.Size([32, 3, 224, 224]))"
      ]
     },
     "execution_count": 30,
     "metadata": {},
     "output_type": "execute_result"
    }
   ],
   "source": [
    "import torch\n",
    "import torch.nn.functional as F\n",
    "\n",
    "# Example predictions (logits) and targets\n",
    "predictions = torch.randn(32, 3, 224, 224)\n",
    "targets = torch.randint(0, 3, (32, 224, 224), dtype=torch.long)\n",
    "\n",
    "targets.shape, predictions.shape"
   ]
  },
  {
   "cell_type": "code",
   "execution_count": 31,
   "metadata": {},
   "outputs": [
    {
     "name": "stdout",
     "output_type": "stream",
     "text": [
      "1.3901805877685547\n",
      "2232118.5\n"
     ]
    }
   ],
   "source": [
    "# Calculate the loss using the functional form\n",
    "loss = F.cross_entropy(predictions, targets)\n",
    "print(loss.item())\n",
    "\n",
    "# You can also specify arguments directly in the function call\n",
    "loss_with_reduction = F.cross_entropy(predictions, targets, reduction=\"sum\")\n",
    "print(loss_with_reduction.item())"
   ]
  },
  {
   "cell_type": "code",
   "execution_count": null,
   "metadata": {},
   "outputs": [],
   "source": []
  }
 ],
 "metadata": {
  "kernelspec": {
   "display_name": "base",
   "language": "python",
   "name": "python3"
  },
  "language_info": {
   "codemirror_mode": {
    "name": "ipython",
    "version": 3
   },
   "file_extension": ".py",
   "mimetype": "text/x-python",
   "name": "python",
   "nbconvert_exporter": "python",
   "pygments_lexer": "ipython3",
   "version": "3.11.11"
  }
 },
 "nbformat": 4,
 "nbformat_minor": 2
}
