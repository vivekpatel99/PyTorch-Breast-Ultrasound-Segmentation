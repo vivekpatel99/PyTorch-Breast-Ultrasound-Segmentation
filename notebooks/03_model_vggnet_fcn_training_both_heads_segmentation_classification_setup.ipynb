{
 "cells": [
  {
   "cell_type": "markdown",
   "metadata": {},
   "source": [
    "# Setup to train full model with findinng proper weights to train each head (Classification + Segmentation)\n",
    "## Breast-Ultrasound-Segmentation\n",
    "\n",
    "## About Dataset\n",
    "Breast cancer is one of the most common causes of death among women worldwide. Early detection helps in reducing the number of early deaths. The data reviews the medical images of breast cancer using ultrasound scan. Breast Ultrasound Dataset is categorized into three classes: normal, benign, and malignant images. Breast ultrasound images can produce great results in classification, detection, and segmentation of breast cancer when combined with machine learning.\n",
    "\n",
    "### Data\n",
    "The data collected at baseline include breast ultrasound images among women in ages between 25 and 75 years old. This data was collected in 2018. The number of patients is 600 female patients. The dataset consists of 780 images with an average image size of 500*500 pixels. The images are in PNG format. The ground truth images are presented with original images. The images are categorized into three classes, which are normal, benign, and malignant.\n",
    "\n",
    "If you use this dataset, please cite:\n",
    "Al-Dhabyani W, Gomaa M, Khaled H, Fahmy A. Dataset of breast ultrasound images. Data in Brief. 2020 Feb;28:104863. DOI: 10.1016/j.dib.2019.104863."
   ]
  },
  {
   "cell_type": "markdown",
   "metadata": {},
   "source": [
    "## Imports"
   ]
  },
  {
   "cell_type": "code",
   "execution_count": 1,
   "metadata": {},
   "outputs": [],
   "source": [
    "import os\n",
    "\n",
    "import pyrootutils\n",
    "\n",
    "root = pyrootutils.setup_root(\n",
    "    search_from=os.path.dirname(os.getcwd()),\n",
    "    indicator=[\".git\", \"pyproject.toml\"],\n",
    "    pythonpath=True,\n",
    "    dotenv=True,\n",
    ")\n",
    "\n",
    "if os.getenv(\"DATA_ROOT\") is None:\n",
    "    os.environ[\"DATA_ROOT\"] = f\"{root}/data\""
   ]
  },
  {
   "cell_type": "code",
   "execution_count": 2,
   "metadata": {},
   "outputs": [
    {
     "name": "stdout",
     "output_type": "stream",
     "text": [
      "GPU Found!!\n"
     ]
    }
   ],
   "source": [
    "import torch\n",
    "import torch.nn as nn\n",
    "\n",
    "# Setup device-agnostic code\n",
    "if torch.cuda.is_available():\n",
    "    DEVICE = \"cuda\"  # NVIDIA GPU\n",
    "    print(\"GPU Found!!\")\n",
    "else:\n",
    "    raise Exception(\"No GPU Found!!\")"
   ]
  },
  {
   "cell_type": "code",
   "execution_count": 3,
   "metadata": {},
   "outputs": [],
   "source": [
    "import hydra\n",
    "from hydra import compose, initialize"
   ]
  },
  {
   "cell_type": "code",
   "execution_count": 4,
   "metadata": {},
   "outputs": [],
   "source": [
    "# # auto reload dotenv\n",
    "%load_ext dotenv\n",
    "%dotenv\n",
    "\n",
    "# auto reload libs\n",
    "%load_ext autoreload\n",
    "%autoreload 2"
   ]
  },
  {
   "cell_type": "markdown",
   "metadata": {},
   "source": [
    "## Paths setup"
   ]
  },
  {
   "cell_type": "code",
   "execution_count": 5,
   "metadata": {},
   "outputs": [
    {
     "name": "stdout",
     "output_type": "stream",
     "text": [
      "{'optimizer': {'_target_': 'torch.optim.Adam', '_partial_': True, 'lr': 0.001, 'weight_decay': 0.0, 'betas': [0.9, 0.999]}, 'scheduler': {'func': None}, 'model': {'_target_': 'src.models.vggnet_fcn_segmentation_model.VGGNetFCN16SegmentationModel', 'num_classes': 3}}\n"
     ]
    }
   ],
   "source": [
    "from omegaconf import DictConfig, OmegaConf\n",
    "\n",
    "# Register a resolver for torch dtypes\n",
    "OmegaConf.register_new_resolver(\"torch_dtype\", lambda name: getattr(torch, name))\n",
    "\n",
    "with initialize(config_path=\"../configs\", job_name=\"training_setup\", version_base=None):\n",
    "    cfg: DictConfig = compose(config_name=\"train.yaml\")\n",
    "    # print(OmegaConf.to_yaml(cfg))\n",
    "    print(cfg.models)"
   ]
  },
  {
   "cell_type": "code",
   "execution_count": 6,
   "metadata": {},
   "outputs": [],
   "source": [
    "os.chdir(root)"
   ]
  },
  {
   "cell_type": "markdown",
   "metadata": {},
   "source": [
    "## Loading Dataset"
   ]
  },
  {
   "cell_type": "code",
   "execution_count": 7,
   "metadata": {},
   "outputs": [
    {
     "data": {
      "text/plain": [
       "(['normal', 'malignant', 'benign'], 3, tensor([1.9774, 1.2494, 0.5903]))"
      ]
     },
     "execution_count": 7,
     "metadata": {},
     "output_type": "execute_result"
    }
   ],
   "source": [
    "data_module = hydra.utils.instantiate(cfg.datamodule)\n",
    "\n",
    "class_weights = data_module.class_weights\n",
    "class_names = data_module.classes\n",
    "num_classes = len(class_names)\n",
    "class_names, num_classes, class_weights"
   ]
  },
  {
   "cell_type": "code",
   "execution_count": 8,
   "metadata": {},
   "outputs": [],
   "source": [
    "import torch.optim as optim\n",
    "from torch.utils.data import DataLoader, Subset\n",
    "\n",
    "# # 1. Select a very small subset of your data\n",
    "train_dataset, val_dataset = data_module.split_and_preprocess_datasets()\n",
    "\n",
    "subset_indices = list(range(200))  # Select first 10 samples\n",
    "train_small_dataset = Subset(train_dataset, subset_indices)\n",
    "val_small_dataset = Subset(val_dataset, subset_indices)\n",
    "train_dl = DataLoader(train_small_dataset, batch_size=32, shuffle=False)\n",
    "val_dl = DataLoader(val_small_dataset, batch_size=32, shuffle=False)"
   ]
  },
  {
   "cell_type": "code",
   "execution_count": 9,
   "metadata": {},
   "outputs": [
    {
     "name": "stdout",
     "output_type": "stream",
     "text": [
      "torch.Size([32, 3, 224, 224]) torch.Size([32, 1, 224, 224]) torch.Size([32])\n",
      "images:torch.float32, -2.1179039478302, 2.640000104904175\n",
      "masks torch.uint8, 0, 1\n",
      "labels torch.int64, 0, 2\n"
     ]
    }
   ],
   "source": [
    "for images, targets in train_dl:\n",
    "    print(images.shape, targets[\"masks\"].shape, targets[\"labels\"].shape)\n",
    "\n",
    "    print(f\"images:{images.dtype}, {images[0].min()}, {images[0].max()}\")\n",
    "    print(\n",
    "        f'masks {targets[\"masks\"].dtype}, {targets[\"masks\"][0].min()}, {targets[\"masks\"][0].max()}'\n",
    "    )\n",
    "    print(\n",
    "        f'labels {targets[\"labels\"].dtype}, {targets[\"labels\"].min()}, {targets[\"labels\"].max()}'\n",
    "    )\n",
    "    break"
   ]
  },
  {
   "cell_type": "code",
   "execution_count": 10,
   "metadata": {},
   "outputs": [
    {
     "name": "stdout",
     "output_type": "stream",
     "text": [
      "torch.Size([32, 3, 224, 224]) torch.Size([32, 1, 224, 224]) torch.Size([32])\n",
      "images:torch.float32, -2.1179039478302, 2.5354254245758057\n",
      "masks torch.uint8, 0, 1\n",
      "labels torch.int64, 0, 2\n"
     ]
    }
   ],
   "source": [
    "for _images, _targets in val_dl:\n",
    "    print(_images.shape, _targets[\"masks\"].shape, _targets[\"labels\"].shape)\n",
    "\n",
    "    print(f\"images:{_images[0].dtype}, {_images[0].min()}, {_images[0].max()}\")\n",
    "    print(f'masks {_targets[\"masks\"].dtype}, {_targets[\"masks\"].min()}, {_targets[\"masks\"].max()}')\n",
    "    print(\n",
    "        f'labels {_targets[\"labels\"].dtype}, {_targets[\"labels\"].min()}, {_targets[\"labels\"].max()}'\n",
    "    )\n",
    "    break"
   ]
  },
  {
   "cell_type": "markdown",
   "metadata": {},
   "source": [
    "## Loading and training the FCN8 model "
   ]
  },
  {
   "cell_type": "code",
   "execution_count": 11,
   "metadata": {},
   "outputs": [],
   "source": [
    "from src.utils.gpu_utils import DeviceDataLoader, get_default_device, to_device\n",
    "\n",
    "torch.cuda.empty_cache()\n",
    "device = get_default_device()\n",
    "\n",
    "gpu_weights = to_device(class_weights, device)"
   ]
  },
  {
   "cell_type": "code",
   "execution_count": 12,
   "metadata": {},
   "outputs": [
    {
     "data": {
      "text/plain": [
       "OptimizedModule(\n",
       "  (_orig_mod): VGGNetFCNSegmentationModel(\n",
       "    (segmentation_criterion): SoftDiceLoss()\n",
       "    (classification_criterion): CrossEntropyLoss()\n",
       "    (cls_auroc): MulticlassAUROC()\n",
       "    (encoder): VGGNetEncoder(\n",
       "      (vgg): VGG(\n",
       "        (features): Sequential(\n",
       "          (0): Conv2d(3, 64, kernel_size=(3, 3), stride=(1, 1), padding=(1, 1))\n",
       "          (1): BatchNorm2d(64, eps=1e-05, momentum=0.1, affine=True, track_running_stats=True)\n",
       "          (2): ReLU(inplace=True)\n",
       "          (3): Conv2d(64, 64, kernel_size=(3, 3), stride=(1, 1), padding=(1, 1))\n",
       "          (4): BatchNorm2d(64, eps=1e-05, momentum=0.1, affine=True, track_running_stats=True)\n",
       "          (5): ReLU(inplace=True)\n",
       "          (6): MaxPool2d(kernel_size=2, stride=2, padding=0, dilation=1, ceil_mode=False)\n",
       "          (7): Conv2d(64, 128, kernel_size=(3, 3), stride=(1, 1), padding=(1, 1))\n",
       "          (8): BatchNorm2d(128, eps=1e-05, momentum=0.1, affine=True, track_running_stats=True)\n",
       "          (9): ReLU(inplace=True)\n",
       "          (10): Conv2d(128, 128, kernel_size=(3, 3), stride=(1, 1), padding=(1, 1))\n",
       "          (11): BatchNorm2d(128, eps=1e-05, momentum=0.1, affine=True, track_running_stats=True)\n",
       "          (12): ReLU(inplace=True)\n",
       "          (13): MaxPool2d(kernel_size=2, stride=2, padding=0, dilation=1, ceil_mode=False)\n",
       "          (14): Conv2d(128, 256, kernel_size=(3, 3), stride=(1, 1), padding=(1, 1))\n",
       "          (15): BatchNorm2d(256, eps=1e-05, momentum=0.1, affine=True, track_running_stats=True)\n",
       "          (16): ReLU(inplace=True)\n",
       "          (17): Conv2d(256, 256, kernel_size=(3, 3), stride=(1, 1), padding=(1, 1))\n",
       "          (18): BatchNorm2d(256, eps=1e-05, momentum=0.1, affine=True, track_running_stats=True)\n",
       "          (19): ReLU(inplace=True)\n",
       "          (20): Conv2d(256, 256, kernel_size=(3, 3), stride=(1, 1), padding=(1, 1))\n",
       "          (21): BatchNorm2d(256, eps=1e-05, momentum=0.1, affine=True, track_running_stats=True)\n",
       "          (22): ReLU(inplace=True)\n",
       "          (23): MaxPool2d(kernel_size=2, stride=2, padding=0, dilation=1, ceil_mode=False)\n",
       "          (24): Conv2d(256, 512, kernel_size=(3, 3), stride=(1, 1), padding=(1, 1))\n",
       "          (25): BatchNorm2d(512, eps=1e-05, momentum=0.1, affine=True, track_running_stats=True)\n",
       "          (26): ReLU(inplace=True)\n",
       "          (27): Conv2d(512, 512, kernel_size=(3, 3), stride=(1, 1), padding=(1, 1))\n",
       "          (28): BatchNorm2d(512, eps=1e-05, momentum=0.1, affine=True, track_running_stats=True)\n",
       "          (29): ReLU(inplace=True)\n",
       "          (30): Conv2d(512, 512, kernel_size=(3, 3), stride=(1, 1), padding=(1, 1))\n",
       "          (31): BatchNorm2d(512, eps=1e-05, momentum=0.1, affine=True, track_running_stats=True)\n",
       "          (32): ReLU(inplace=True)\n",
       "          (33): MaxPool2d(kernel_size=2, stride=2, padding=0, dilation=1, ceil_mode=False)\n",
       "          (34): Conv2d(512, 512, kernel_size=(3, 3), stride=(1, 1), padding=(1, 1))\n",
       "          (35): BatchNorm2d(512, eps=1e-05, momentum=0.1, affine=True, track_running_stats=True)\n",
       "          (36): ReLU(inplace=True)\n",
       "          (37): Conv2d(512, 512, kernel_size=(3, 3), stride=(1, 1), padding=(1, 1))\n",
       "          (38): BatchNorm2d(512, eps=1e-05, momentum=0.1, affine=True, track_running_stats=True)\n",
       "          (39): ReLU(inplace=True)\n",
       "          (40): Conv2d(512, 512, kernel_size=(3, 3), stride=(1, 1), padding=(1, 1))\n",
       "          (41): BatchNorm2d(512, eps=1e-05, momentum=0.1, affine=True, track_running_stats=True)\n",
       "          (42): ReLU(inplace=True)\n",
       "          (43): MaxPool2d(kernel_size=2, stride=2, padding=0, dilation=1, ceil_mode=False)\n",
       "        )\n",
       "        (avgpool): AdaptiveAvgPool2d(output_size=(7, 7))\n",
       "      )\n",
       "      (final_conv): Sequential(\n",
       "        (0): Conv2d(512, 4096, kernel_size=(7, 7), stride=(1, 1), padding=same)\n",
       "        (1): ReLU(inplace=True)\n",
       "        (2): Conv2d(4096, 4096, kernel_size=(1, 1), stride=(1, 1), padding=same)\n",
       "        (3): ReLU(inplace=True)\n",
       "      )\n",
       "    )\n",
       "    (decoder): FCN8Decoder(\n",
       "      (upsample_5): Sequential(\n",
       "        (0): ConvTranspose2d(4096, 512, kernel_size=(3, 3), stride=(2, 2), padding=(1, 1), output_padding=(1, 1), bias=False)\n",
       "        (1): ReLU(inplace=True)\n",
       "      )\n",
       "      (bn5): BatchNorm2d(512, eps=1e-05, momentum=0.1, affine=True, track_running_stats=True)\n",
       "      (upsample_4): Sequential(\n",
       "        (0): ConvTranspose2d(512, 256, kernel_size=(3, 3), stride=(2, 2), padding=(1, 1), output_padding=(1, 1), bias=False)\n",
       "        (1): ReLU(inplace=True)\n",
       "      )\n",
       "      (bn4): BatchNorm2d(256, eps=1e-05, momentum=0.1, affine=True, track_running_stats=True)\n",
       "      (upsample3): Sequential(\n",
       "        (0): ConvTranspose2d(256, 128, kernel_size=(3, 3), stride=(2, 2), padding=(1, 1), output_padding=(1, 1), bias=False)\n",
       "        (1): ReLU(inplace=True)\n",
       "        (2): BatchNorm2d(128, eps=1e-05, momentum=0.1, affine=True, track_running_stats=True)\n",
       "      )\n",
       "      (upsample2): Sequential(\n",
       "        (0): ConvTranspose2d(128, 64, kernel_size=(3, 3), stride=(2, 2), padding=(1, 1), output_padding=(1, 1), bias=False)\n",
       "        (1): ReLU(inplace=True)\n",
       "        (2): BatchNorm2d(64, eps=1e-05, momentum=0.1, affine=True, track_running_stats=True)\n",
       "      )\n",
       "      (upsample1): Sequential(\n",
       "        (0): ConvTranspose2d(64, 32, kernel_size=(3, 3), stride=(2, 2), padding=(1, 1), output_padding=(1, 1), bias=False)\n",
       "        (1): ReLU(inplace=True)\n",
       "        (2): BatchNorm2d(32, eps=1e-05, momentum=0.1, affine=True, track_running_stats=True)\n",
       "      )\n",
       "      (fcn8_mask_segmentation): Conv2d(32, 1, kernel_size=(1, 1), stride=(1, 1))\n",
       "    )\n",
       "    (classification_head): ClassificationHead(\n",
       "      (head): Sequential(\n",
       "        (0): AdaptiveAvgPool2d(output_size=1)\n",
       "        (1): Flatten(start_dim=1, end_dim=-1)\n",
       "        (2): Linear(in_features=4096, out_features=512, bias=True)\n",
       "        (3): BatchNorm1d(512, eps=1e-05, momentum=0.1, affine=True, track_running_stats=True)\n",
       "        (4): ReLU(inplace=True)\n",
       "        (5): Dropout(p=0.5, inplace=False)\n",
       "        (6): Linear(in_features=512, out_features=256, bias=True)\n",
       "        (7): BatchNorm1d(256, eps=1e-05, momentum=0.1, affine=True, track_running_stats=True)\n",
       "        (8): ReLU(inplace=True)\n",
       "        (9): Dropout(p=0.5, inplace=False)\n",
       "        (10): Linear(in_features=256, out_features=3, bias=True)\n",
       "      )\n",
       "    )\n",
       "  )\n",
       ")"
      ]
     },
     "execution_count": 12,
     "metadata": {},
     "output_type": "execute_result"
    }
   ],
   "source": [
    "from src.losses.dice_loss import SoftDiceLoss\n",
    "from src.models.vggnet_fcn_segmentation_model import VGGNetFCNSegmentationModel\n",
    "\n",
    "model = VGGNetFCNSegmentationModel(\n",
    "    cls_num_classes=num_classes,\n",
    "    seg_num_classes=1,\n",
    "    vggnet_type=\"vgg16_bn\",\n",
    "    segmentation_criterion=SoftDiceLoss(),  # nn.CrossEntropyLoss(),\n",
    "    classification_criterion=nn.CrossEntropyLoss(weight=gpu_weights),\n",
    ")\n",
    "model = torch.compile(model)\n",
    "model"
   ]
  },
  {
   "cell_type": "code",
   "execution_count": 13,
   "metadata": {},
   "outputs": [
    {
     "name": "stdout",
     "output_type": "stream",
     "text": [
      "tensor([-0.3378,  0.3106,  0.4833], grad_fn=<SelectBackward0>) torch.Size([32, 3])\n",
      "tensor([[[-2.7785e-01,  1.5484e-01,  6.9060e-02,  ..., -2.7845e-01,\n",
      "          -2.4831e-01, -2.3310e-01],\n",
      "         [ 6.8991e-02, -3.0736e-01, -8.9618e-02,  ..., -2.6216e-01,\n",
      "           1.4789e-03,  6.5509e-01],\n",
      "         [-9.3573e-01,  1.1781e+00, -1.0566e+00,  ..., -3.3553e-01,\n",
      "          -1.9270e-01, -3.6450e-01],\n",
      "         ...,\n",
      "         [-4.6575e-01,  7.2649e-01, -2.5534e-01,  ..., -4.5862e-01,\n",
      "          -5.5491e-01,  7.5012e-01],\n",
      "         [-5.5755e-01, -1.1134e-01,  3.6790e-01,  ..., -7.1216e-01,\n",
      "          -2.6086e-01, -9.0117e-02],\n",
      "         [-1.7234e-01, -1.6389e+00, -4.0385e-02,  ...,  4.9071e-01,\n",
      "           1.5130e-01, -8.2715e-01]]], grad_fn=<SelectBackward0>)\n",
      "torch.Size([32, 1, 224, 224])\n"
     ]
    }
   ],
   "source": [
    "for images, labels in train_dl:\n",
    "    # print(images.shape, labels)\n",
    "    out = model(images)\n",
    "    # l = labels['labels'][0]\n",
    "    # print(l , torch.argmax(l))\n",
    "    print(out[\"labels\"][0], out[\"labels\"].shape)\n",
    "    print(out[\"masks\"][0])\n",
    "    print(out[\"masks\"].shape)\n",
    "    break"
   ]
  },
  {
   "cell_type": "markdown",
   "metadata": {},
   "source": [
    "### Evaluate function"
   ]
  },
  {
   "cell_type": "code",
   "execution_count": 14,
   "metadata": {},
   "outputs": [],
   "source": [
    "@torch.no_grad()\n",
    "def evaluate(model, val_dl) -> dict[str, float]:\n",
    "    model.eval()  # set model to evaluate mode\n",
    "    outputs = [model.validation_step(batch) for batch in val_dl]\n",
    "    return model.validation_epoch_end(outputs)"
   ]
  },
  {
   "cell_type": "markdown",
   "metadata": {},
   "source": [
    "## GPU Training Setup"
   ]
  },
  {
   "cell_type": "markdown",
   "metadata": {},
   "source": [
    "## Moving data and model into memory"
   ]
  },
  {
   "cell_type": "code",
   "execution_count": 15,
   "metadata": {},
   "outputs": [
    {
     "data": {
      "text/plain": [
       "OptimizedModule(\n",
       "  (_orig_mod): VGGNetFCNSegmentationModel(\n",
       "    (segmentation_criterion): SoftDiceLoss()\n",
       "    (classification_criterion): CrossEntropyLoss()\n",
       "    (cls_auroc): MulticlassAUROC()\n",
       "    (encoder): VGGNetEncoder(\n",
       "      (vgg): VGG(\n",
       "        (features): Sequential(\n",
       "          (0): Conv2d(3, 64, kernel_size=(3, 3), stride=(1, 1), padding=(1, 1))\n",
       "          (1): BatchNorm2d(64, eps=1e-05, momentum=0.1, affine=True, track_running_stats=True)\n",
       "          (2): ReLU(inplace=True)\n",
       "          (3): Conv2d(64, 64, kernel_size=(3, 3), stride=(1, 1), padding=(1, 1))\n",
       "          (4): BatchNorm2d(64, eps=1e-05, momentum=0.1, affine=True, track_running_stats=True)\n",
       "          (5): ReLU(inplace=True)\n",
       "          (6): MaxPool2d(kernel_size=2, stride=2, padding=0, dilation=1, ceil_mode=False)\n",
       "          (7): Conv2d(64, 128, kernel_size=(3, 3), stride=(1, 1), padding=(1, 1))\n",
       "          (8): BatchNorm2d(128, eps=1e-05, momentum=0.1, affine=True, track_running_stats=True)\n",
       "          (9): ReLU(inplace=True)\n",
       "          (10): Conv2d(128, 128, kernel_size=(3, 3), stride=(1, 1), padding=(1, 1))\n",
       "          (11): BatchNorm2d(128, eps=1e-05, momentum=0.1, affine=True, track_running_stats=True)\n",
       "          (12): ReLU(inplace=True)\n",
       "          (13): MaxPool2d(kernel_size=2, stride=2, padding=0, dilation=1, ceil_mode=False)\n",
       "          (14): Conv2d(128, 256, kernel_size=(3, 3), stride=(1, 1), padding=(1, 1))\n",
       "          (15): BatchNorm2d(256, eps=1e-05, momentum=0.1, affine=True, track_running_stats=True)\n",
       "          (16): ReLU(inplace=True)\n",
       "          (17): Conv2d(256, 256, kernel_size=(3, 3), stride=(1, 1), padding=(1, 1))\n",
       "          (18): BatchNorm2d(256, eps=1e-05, momentum=0.1, affine=True, track_running_stats=True)\n",
       "          (19): ReLU(inplace=True)\n",
       "          (20): Conv2d(256, 256, kernel_size=(3, 3), stride=(1, 1), padding=(1, 1))\n",
       "          (21): BatchNorm2d(256, eps=1e-05, momentum=0.1, affine=True, track_running_stats=True)\n",
       "          (22): ReLU(inplace=True)\n",
       "          (23): MaxPool2d(kernel_size=2, stride=2, padding=0, dilation=1, ceil_mode=False)\n",
       "          (24): Conv2d(256, 512, kernel_size=(3, 3), stride=(1, 1), padding=(1, 1))\n",
       "          (25): BatchNorm2d(512, eps=1e-05, momentum=0.1, affine=True, track_running_stats=True)\n",
       "          (26): ReLU(inplace=True)\n",
       "          (27): Conv2d(512, 512, kernel_size=(3, 3), stride=(1, 1), padding=(1, 1))\n",
       "          (28): BatchNorm2d(512, eps=1e-05, momentum=0.1, affine=True, track_running_stats=True)\n",
       "          (29): ReLU(inplace=True)\n",
       "          (30): Conv2d(512, 512, kernel_size=(3, 3), stride=(1, 1), padding=(1, 1))\n",
       "          (31): BatchNorm2d(512, eps=1e-05, momentum=0.1, affine=True, track_running_stats=True)\n",
       "          (32): ReLU(inplace=True)\n",
       "          (33): MaxPool2d(kernel_size=2, stride=2, padding=0, dilation=1, ceil_mode=False)\n",
       "          (34): Conv2d(512, 512, kernel_size=(3, 3), stride=(1, 1), padding=(1, 1))\n",
       "          (35): BatchNorm2d(512, eps=1e-05, momentum=0.1, affine=True, track_running_stats=True)\n",
       "          (36): ReLU(inplace=True)\n",
       "          (37): Conv2d(512, 512, kernel_size=(3, 3), stride=(1, 1), padding=(1, 1))\n",
       "          (38): BatchNorm2d(512, eps=1e-05, momentum=0.1, affine=True, track_running_stats=True)\n",
       "          (39): ReLU(inplace=True)\n",
       "          (40): Conv2d(512, 512, kernel_size=(3, 3), stride=(1, 1), padding=(1, 1))\n",
       "          (41): BatchNorm2d(512, eps=1e-05, momentum=0.1, affine=True, track_running_stats=True)\n",
       "          (42): ReLU(inplace=True)\n",
       "          (43): MaxPool2d(kernel_size=2, stride=2, padding=0, dilation=1, ceil_mode=False)\n",
       "        )\n",
       "        (avgpool): AdaptiveAvgPool2d(output_size=(7, 7))\n",
       "      )\n",
       "      (final_conv): Sequential(\n",
       "        (0): Conv2d(512, 4096, kernel_size=(7, 7), stride=(1, 1), padding=same)\n",
       "        (1): ReLU(inplace=True)\n",
       "        (2): Conv2d(4096, 4096, kernel_size=(1, 1), stride=(1, 1), padding=same)\n",
       "        (3): ReLU(inplace=True)\n",
       "      )\n",
       "    )\n",
       "    (decoder): FCN8Decoder(\n",
       "      (upsample_5): Sequential(\n",
       "        (0): ConvTranspose2d(4096, 512, kernel_size=(3, 3), stride=(2, 2), padding=(1, 1), output_padding=(1, 1), bias=False)\n",
       "        (1): ReLU(inplace=True)\n",
       "      )\n",
       "      (bn5): BatchNorm2d(512, eps=1e-05, momentum=0.1, affine=True, track_running_stats=True)\n",
       "      (upsample_4): Sequential(\n",
       "        (0): ConvTranspose2d(512, 256, kernel_size=(3, 3), stride=(2, 2), padding=(1, 1), output_padding=(1, 1), bias=False)\n",
       "        (1): ReLU(inplace=True)\n",
       "      )\n",
       "      (bn4): BatchNorm2d(256, eps=1e-05, momentum=0.1, affine=True, track_running_stats=True)\n",
       "      (upsample3): Sequential(\n",
       "        (0): ConvTranspose2d(256, 128, kernel_size=(3, 3), stride=(2, 2), padding=(1, 1), output_padding=(1, 1), bias=False)\n",
       "        (1): ReLU(inplace=True)\n",
       "        (2): BatchNorm2d(128, eps=1e-05, momentum=0.1, affine=True, track_running_stats=True)\n",
       "      )\n",
       "      (upsample2): Sequential(\n",
       "        (0): ConvTranspose2d(128, 64, kernel_size=(3, 3), stride=(2, 2), padding=(1, 1), output_padding=(1, 1), bias=False)\n",
       "        (1): ReLU(inplace=True)\n",
       "        (2): BatchNorm2d(64, eps=1e-05, momentum=0.1, affine=True, track_running_stats=True)\n",
       "      )\n",
       "      (upsample1): Sequential(\n",
       "        (0): ConvTranspose2d(64, 32, kernel_size=(3, 3), stride=(2, 2), padding=(1, 1), output_padding=(1, 1), bias=False)\n",
       "        (1): ReLU(inplace=True)\n",
       "        (2): BatchNorm2d(32, eps=1e-05, momentum=0.1, affine=True, track_running_stats=True)\n",
       "      )\n",
       "      (fcn8_mask_segmentation): Conv2d(32, 1, kernel_size=(1, 1), stride=(1, 1))\n",
       "    )\n",
       "    (classification_head): ClassificationHead(\n",
       "      (head): Sequential(\n",
       "        (0): AdaptiveAvgPool2d(output_size=1)\n",
       "        (1): Flatten(start_dim=1, end_dim=-1)\n",
       "        (2): Linear(in_features=4096, out_features=512, bias=True)\n",
       "        (3): BatchNorm1d(512, eps=1e-05, momentum=0.1, affine=True, track_running_stats=True)\n",
       "        (4): ReLU(inplace=True)\n",
       "        (5): Dropout(p=0.5, inplace=False)\n",
       "        (6): Linear(in_features=512, out_features=256, bias=True)\n",
       "        (7): BatchNorm1d(256, eps=1e-05, momentum=0.1, affine=True, track_running_stats=True)\n",
       "        (8): ReLU(inplace=True)\n",
       "        (9): Dropout(p=0.5, inplace=False)\n",
       "        (10): Linear(in_features=256, out_features=3, bias=True)\n",
       "      )\n",
       "    )\n",
       "  )\n",
       ")"
      ]
     },
     "execution_count": 15,
     "metadata": {},
     "output_type": "execute_result"
    }
   ],
   "source": [
    "train_dl = DeviceDataLoader(train_dl, device)\n",
    "val_dl = DeviceDataLoader(val_dl, device)\n",
    "to_device(model, device)\n",
    "# train_dl.device"
   ]
  },
  {
   "cell_type": "markdown",
   "metadata": {},
   "source": [
    "## Overfiting the model"
   ]
  },
  {
   "cell_type": "code",
   "execution_count": 16,
   "metadata": {},
   "outputs": [],
   "source": [
    "import enum\n",
    "\n",
    "\n",
    "class MetricKey(enum.Enum):\n",
    "    \"\"\"Keys for metrics dictionary.\"\"\"\n",
    "\n",
    "    # Classification\n",
    "    CLS_LOSS = \"cls_loss\"\n",
    "    CLS_ACC = \"cls_acc\"\n",
    "    VAL_CLS_LOSS = \"val_cls_loss\"\n",
    "    VAL_CLS_ACC = \"val_cls_acc\"\n",
    "\n",
    "    # Segmentation\n",
    "    SEG_LOSS = \"seg_loss\"\n",
    "    SEG_DICE = \"seg_dice\"\n",
    "    VAL_SEG_LOSS = \"val_seg_loss\"\n",
    "    VAL_SEG_DICE = \"val_seg_dice\"\n",
    "\n",
    "    # Both\n",
    "    TOTAL_LOSS = \"total_loss\"\n",
    "    VAL_TOTAL_LOSS = \"val_total_loss\"\n",
    "\n",
    "\n",
    "SEG_WEIGHT = 0.95\n",
    "CLS_WEIGHT = 0.05\n",
    "\n",
    "\n",
    "def fit(\n",
    "    model,\n",
    "    train_dataloader,\n",
    "    validation_dataloader,\n",
    "    epochs: int = 2,\n",
    "    lr: float = 1e-3,\n",
    "    opt_func=torch.optim.Adam,\n",
    ") -> list[dict[str, float]]:\n",
    "    history = []\n",
    "    result = {}\n",
    "    optimizer = opt_func(model.parameters(), lr)\n",
    "    for epoch in range(epochs):\n",
    "        # Training Phase\n",
    "        model.train()\n",
    "        train_losses = []\n",
    "        masks_dice_sc = []\n",
    "        train_accuracies = []\n",
    "        cls_loss = []\n",
    "        masks_losses = []\n",
    "        total_losses = 0\n",
    "        for batch in train_dataloader:\n",
    "            step_output = model.training_step(batch)\n",
    "            seg_loss = step_output[f\"{MetricKey.SEG_LOSS.value}\"]\n",
    "            seg_dice = step_output[f\"{MetricKey.SEG_DICE.value}\"]\n",
    "\n",
    "            cls_acc = step_output[f\"{MetricKey.CLS_ACC.value}\"]\n",
    "            cls_loss = step_output[f\"{MetricKey.CLS_LOSS.value}\"]\n",
    "\n",
    "            # Detach loss and accuracy before appending to avoid holding onto computation graph\n",
    "            train_losses.append(cls_loss.detach())\n",
    "            masks_losses.append(seg_loss.detach())  # Assuming train_acc is a tensor\n",
    "            masks_dice_sc.append(seg_dice)  # Assuming train_acc is a tensor\n",
    "            train_accuracies.append(cls_acc.detach())  # Assuming train_acc is a tensor\n",
    "\n",
    "            total_loss = (SEG_WEIGHT * seg_loss) + (CLS_WEIGHT * cls_loss)\n",
    "            total_losses += total_loss\n",
    "            total_loss.backward()\n",
    "\n",
    "            optimizer.step()\n",
    "            optimizer.zero_grad()\n",
    "\n",
    "        # Validation Phase\n",
    "        result = evaluate(model, validation_dataloader)\n",
    "        result[f\"{MetricKey.TOTAL_LOSS.value}\"] = total_losses\n",
    "        result[f\"{MetricKey.CLS_LOSS.value}\"] = torch.stack(train_losses).mean().item()\n",
    "        result[f\"{MetricKey.SEG_LOSS.value}\"] = torch.stack(masks_losses).mean().item()\n",
    "        result[f\"{MetricKey.SEG_DICE.value}\"] = torch.stack(masks_dice_sc).mean().item()\n",
    "        result[f\"{MetricKey.CLS_ACC.value}\"] = torch.stack(train_accuracies).mean().item()\n",
    "        model.epoch_end(epoch, result)\n",
    "        history.append(result)\n",
    "    return history"
   ]
  },
  {
   "cell_type": "code",
   "execution_count": 17,
   "metadata": {},
   "outputs": [
    {
     "name": "stdout",
     "output_type": "stream",
     "text": [
      "Epoch [0] Validation Results: total_loss=5.3753, cls_loss=1.3452, val_cls_loss=4.8935, cls_acc=0.3348, val_cls_acc=0.3259, val_cls_auroc=0.7040, seg_loss=0.7375, val_seg_loss=0.8225, seg_dice=0.1539, val_seg_dice=0.1616\n",
      "Epoch [1] Validation Results: total_loss=4.8307, cls_loss=1.0733, val_cls_loss=5.4698, cls_acc=0.3125, val_cls_acc=0.3348, val_cls_auroc=0.6638, seg_loss=0.6699, val_seg_loss=0.8097, seg_dice=0.1969, val_seg_dice=0.1696\n",
      "Epoch [2] Validation Results: total_loss=4.2617, cls_loss=1.0325, val_cls_loss=1.2188, cls_acc=0.3348, val_cls_acc=0.3616, val_cls_auroc=0.6345, seg_loss=0.5865, val_seg_loss=0.6492, seg_dice=0.2536, val_seg_dice=0.2371\n",
      "Epoch [3] Validation Results: total_loss=3.9929, cls_loss=0.9831, val_cls_loss=8.3800, cls_acc=0.3884, val_cls_acc=0.3259, val_cls_auroc=0.6318, seg_loss=0.5487, val_seg_loss=0.8251, seg_dice=0.2714, val_seg_dice=0.1660\n",
      "Epoch [4] Validation Results: total_loss=3.7094, cls_loss=0.9389, val_cls_loss=2.5766, cls_acc=0.4107, val_cls_acc=0.3304, val_cls_auroc=0.6499, seg_loss=0.5084, val_seg_loss=0.6903, seg_dice=0.2975, val_seg_dice=0.2398\n",
      "Epoch [5] Validation Results: total_loss=3.5526, cls_loss=0.9050, val_cls_loss=1.6232, cls_acc=0.4509, val_cls_acc=0.1786, val_cls_auroc=0.5932, seg_loss=0.4866, val_seg_loss=0.5169, seg_dice=0.3023, val_seg_dice=0.2502\n",
      "Epoch [6] Validation Results: total_loss=3.3861, cls_loss=0.8186, val_cls_loss=1.4360, cls_acc=0.4821, val_cls_acc=0.2188, val_cls_auroc=0.6136, seg_loss=0.4661, val_seg_loss=0.4922, seg_dice=0.3213, val_seg_dice=0.2658\n",
      "Epoch [7] Validation Results: total_loss=3.0931, cls_loss=0.8268, val_cls_loss=1.5617, cls_acc=0.4821, val_cls_acc=0.3929, val_cls_auroc=0.6932, seg_loss=0.4216, val_seg_loss=0.6229, seg_dice=0.3435, val_seg_dice=0.2886\n",
      "Epoch [8] Validation Results: total_loss=2.9214, cls_loss=0.8119, val_cls_loss=1.2436, cls_acc=0.4821, val_cls_acc=0.2946, val_cls_auroc=0.7415, seg_loss=0.3966, val_seg_loss=0.3867, seg_dice=0.3575, val_seg_dice=0.3585\n",
      "Epoch [9] Validation Results: total_loss=2.6731, cls_loss=0.7848, val_cls_loss=0.7620, cls_acc=0.4688, val_cls_acc=0.5312, val_cls_auroc=0.8229, seg_loss=0.3607, val_seg_loss=0.4990, seg_dice=0.3853, val_seg_dice=0.3516\n",
      "Epoch [10] Validation Results: total_loss=2.6371, cls_loss=0.8005, val_cls_loss=0.9516, cls_acc=0.4955, val_cls_acc=0.3839, val_cls_auroc=0.7193, seg_loss=0.3544, val_seg_loss=0.3436, seg_dice=0.3933, val_seg_dice=0.4017\n",
      "Epoch [11] Validation Results: total_loss=2.4184, cls_loss=0.7379, val_cls_loss=1.0111, cls_acc=0.4732, val_cls_acc=0.3839, val_cls_auroc=0.7367, seg_loss=0.3248, val_seg_loss=0.3533, seg_dice=0.4136, val_seg_dice=0.3916\n",
      "Epoch [12] Validation Results: total_loss=2.2502, cls_loss=0.7363, val_cls_loss=1.3454, cls_acc=0.5000, val_cls_acc=0.2812, val_cls_auroc=0.6942, seg_loss=0.2996, val_seg_loss=0.3543, seg_dice=0.4306, val_seg_dice=0.4290\n",
      "Epoch [13] Validation Results: total_loss=2.1435, cls_loss=0.7125, val_cls_loss=1.2490, cls_acc=0.5000, val_cls_acc=0.2812, val_cls_auroc=0.7211, seg_loss=0.2848, val_seg_loss=0.3932, seg_dice=0.4516, val_seg_dice=0.3775\n",
      "Epoch [14] Validation Results: total_loss=2.1629, cls_loss=0.8630, val_cls_loss=0.9545, cls_acc=0.5268, val_cls_acc=0.5089, val_cls_auroc=0.7236, seg_loss=0.2798, val_seg_loss=0.4330, seg_dice=0.4684, val_seg_dice=0.4207\n",
      "Epoch [15] Validation Results: total_loss=2.1208, cls_loss=0.7627, val_cls_loss=1.7329, cls_acc=0.5625, val_cls_acc=0.2589, val_cls_auroc=0.7076, seg_loss=0.2788, val_seg_loss=0.4942, seg_dice=0.4642, val_seg_dice=0.3253\n",
      "Epoch [16] Validation Results: total_loss=1.9373, cls_loss=0.7656, val_cls_loss=0.8388, cls_acc=0.5625, val_cls_acc=0.5179, val_cls_auroc=0.8082, seg_loss=0.2510, val_seg_loss=0.4153, seg_dice=0.5042, val_seg_dice=0.4504\n",
      "Epoch [17] Validation Results: total_loss=1.8608, cls_loss=0.6732, val_cls_loss=1.0563, cls_acc=0.6429, val_cls_acc=0.4018, val_cls_auroc=0.8240, seg_loss=0.2444, val_seg_loss=0.3217, seg_dice=0.4957, val_seg_dice=0.4662\n",
      "Epoch [18] Validation Results: total_loss=1.6761, cls_loss=0.6178, val_cls_loss=1.0613, cls_acc=0.5670, val_cls_acc=0.3884, val_cls_auroc=0.7777, seg_loss=0.2195, val_seg_loss=0.3310, seg_dice=0.5320, val_seg_dice=0.4534\n",
      "Epoch [19] Validation Results: total_loss=1.6883, cls_loss=0.6691, val_cls_loss=1.3543, cls_acc=0.6607, val_cls_acc=0.2411, val_cls_auroc=0.8043, seg_loss=0.2187, val_seg_loss=0.3275, seg_dice=0.5420, val_seg_dice=0.4572\n",
      "Epoch [20] Validation Results: total_loss=1.6009, cls_loss=0.5931, val_cls_loss=1.0967, cls_acc=0.6741, val_cls_acc=0.3304, val_cls_auroc=0.8411, seg_loss=0.2095, val_seg_loss=0.3274, seg_dice=0.5598, val_seg_dice=0.4535\n",
      "Epoch [21] Validation Results: total_loss=1.4812, cls_loss=0.5169, val_cls_loss=1.0661, cls_acc=0.7188, val_cls_acc=0.3795, val_cls_auroc=0.8604, seg_loss=0.1955, val_seg_loss=0.3391, seg_dice=0.5633, val_seg_dice=0.4924\n",
      "Epoch [22] Validation Results: total_loss=1.4907, cls_loss=0.5132, val_cls_loss=0.9060, cls_acc=0.7232, val_cls_acc=0.6741, val_cls_auroc=0.8561, seg_loss=0.1971, val_seg_loss=0.3627, seg_dice=0.5979, val_seg_dice=0.4319\n",
      "Epoch [23] Validation Results: total_loss=1.3762, cls_loss=0.4668, val_cls_loss=1.1518, cls_acc=0.7813, val_cls_acc=0.5446, val_cls_auroc=0.8160, seg_loss=0.1824, val_seg_loss=0.4295, seg_dice=0.5887, val_seg_dice=0.3927\n",
      "Epoch [24] Validation Results: total_loss=1.4704, cls_loss=0.5148, val_cls_loss=1.0881, cls_acc=0.7455, val_cls_acc=0.5580, val_cls_auroc=0.8376, seg_loss=0.1940, val_seg_loss=0.2963, seg_dice=0.5899, val_seg_dice=0.5164\n",
      "Epoch [25] Validation Results: total_loss=1.2478, cls_loss=0.4561, val_cls_loss=0.8732, cls_acc=0.8080, val_cls_acc=0.6696, val_cls_auroc=0.8681, seg_loss=0.1636, val_seg_loss=0.2857, seg_dice=0.6136, val_seg_dice=0.5475\n",
      "Epoch [26] Validation Results: total_loss=1.2537, cls_loss=0.4152, val_cls_loss=0.7321, cls_acc=0.7991, val_cls_acc=0.7634, val_cls_auroc=0.8945, seg_loss=0.1667, val_seg_loss=0.2802, seg_dice=0.6235, val_seg_dice=0.5373\n",
      "Epoch [27] Validation Results: total_loss=1.1967, cls_loss=0.4061, val_cls_loss=0.7514, cls_acc=0.7679, val_cls_acc=0.7366, val_cls_auroc=0.8881, seg_loss=0.1586, val_seg_loss=0.2954, seg_dice=0.6277, val_seg_dice=0.5261\n",
      "Epoch [28] Validation Results: total_loss=1.1579, cls_loss=0.4000, val_cls_loss=0.8382, cls_acc=0.8080, val_cls_acc=0.7143, val_cls_auroc=0.8563, seg_loss=0.1531, val_seg_loss=0.3069, seg_dice=0.6488, val_seg_dice=0.5041\n",
      "Epoch [29] Validation Results: total_loss=1.1861, cls_loss=0.4209, val_cls_loss=0.8165, cls_acc=0.8170, val_cls_acc=0.7366, val_cls_auroc=0.8681, seg_loss=0.1562, val_seg_loss=0.2839, seg_dice=0.6351, val_seg_dice=0.5386\n",
      "Epoch [30] Validation Results: total_loss=1.1286, cls_loss=0.3826, val_cls_loss=0.7502, cls_acc=0.8393, val_cls_acc=0.7277, val_cls_auroc=0.8954, seg_loss=0.1496, val_seg_loss=0.3085, seg_dice=0.6522, val_seg_dice=0.5393\n",
      "Epoch [31] Validation Results: total_loss=1.1114, cls_loss=0.3961, val_cls_loss=0.7679, cls_acc=0.7991, val_cls_acc=0.7009, val_cls_auroc=0.8851, seg_loss=0.1463, val_seg_loss=0.2748, seg_dice=0.6631, val_seg_dice=0.5437\n",
      "Epoch [32] Validation Results: total_loss=1.0229, cls_loss=0.3535, val_cls_loss=0.6666, cls_acc=0.8438, val_cls_acc=0.7455, val_cls_auroc=0.9052, seg_loss=0.1352, val_seg_loss=0.2622, seg_dice=0.6666, val_seg_dice=0.5732\n",
      "Epoch [33] Validation Results: total_loss=0.9931, cls_loss=0.3676, val_cls_loss=0.7519, cls_acc=0.8214, val_cls_acc=0.7589, val_cls_auroc=0.8955, seg_loss=0.1300, val_seg_loss=0.2772, seg_dice=0.6823, val_seg_dice=0.5600\n",
      "Epoch [34] Validation Results: total_loss=1.0279, cls_loss=0.3250, val_cls_loss=0.6924, cls_acc=0.8527, val_cls_acc=0.7143, val_cls_auroc=0.8826, seg_loss=0.1375, val_seg_loss=0.3254, seg_dice=0.6744, val_seg_dice=0.5049\n",
      "Epoch [35] Validation Results: total_loss=1.2124, cls_loss=0.4275, val_cls_loss=0.7607, cls_acc=0.8036, val_cls_acc=0.6830, val_cls_auroc=0.8658, seg_loss=0.1598, val_seg_loss=0.3387, seg_dice=0.6539, val_seg_dice=0.4618\n",
      "Epoch [36] Validation Results: total_loss=1.1258, cls_loss=0.3562, val_cls_loss=1.0050, cls_acc=0.8214, val_cls_acc=0.6339, val_cls_auroc=0.8445, seg_loss=0.1506, val_seg_loss=0.3292, seg_dice=0.6770, val_seg_dice=0.5407\n",
      "Epoch [37] Validation Results: total_loss=1.0516, cls_loss=0.3336, val_cls_loss=0.6102, cls_acc=0.8348, val_cls_acc=0.7723, val_cls_auroc=0.9048, seg_loss=0.1406, val_seg_loss=0.2790, seg_dice=0.6833, val_seg_dice=0.5627\n",
      "Epoch [38] Validation Results: total_loss=0.9940, cls_loss=0.3026, val_cls_loss=0.8307, cls_acc=0.8438, val_cls_acc=0.7321, val_cls_auroc=0.8872, seg_loss=0.1335, val_seg_loss=0.3003, seg_dice=0.6831, val_seg_dice=0.5370\n",
      "Epoch [39] Validation Results: total_loss=0.8955, cls_loss=0.2755, val_cls_loss=0.6225, cls_acc=0.8527, val_cls_acc=0.7366, val_cls_auroc=0.9150, seg_loss=0.1202, val_seg_loss=0.2630, seg_dice=0.7075, val_seg_dice=0.5815\n",
      "Epoch [40] Validation Results: total_loss=0.9029, cls_loss=0.2894, val_cls_loss=0.5655, cls_acc=0.8348, val_cls_acc=0.7366, val_cls_auroc=0.9173, seg_loss=0.1205, val_seg_loss=0.2380, seg_dice=0.7083, val_seg_dice=0.6054\n",
      "Epoch [41] Validation Results: total_loss=0.8434, cls_loss=0.2345, val_cls_loss=0.8261, cls_acc=0.8705, val_cls_acc=0.6741, val_cls_auroc=0.8703, seg_loss=0.1145, val_seg_loss=0.3325, seg_dice=0.7169, val_seg_dice=0.5064\n",
      "Epoch [42] Validation Results: total_loss=0.8208, cls_loss=0.2348, val_cls_loss=0.6384, cls_acc=0.8973, val_cls_acc=0.7366, val_cls_auroc=0.9177, seg_loss=0.1111, val_seg_loss=0.2591, seg_dice=0.7251, val_seg_dice=0.5944\n",
      "Epoch [43] Validation Results: total_loss=0.8291, cls_loss=0.2221, val_cls_loss=0.5607, cls_acc=0.8661, val_cls_acc=0.7723, val_cls_auroc=0.9047, seg_loss=0.1130, val_seg_loss=0.2405, seg_dice=0.7207, val_seg_dice=0.6308\n",
      "Epoch [44] Validation Results: total_loss=0.8326, cls_loss=0.2101, val_cls_loss=0.6419, cls_acc=0.8973, val_cls_acc=0.7098, val_cls_auroc=0.9072, seg_loss=0.1142, val_seg_loss=0.2630, seg_dice=0.7341, val_seg_dice=0.5695\n",
      "Epoch [45] Validation Results: total_loss=0.7392, cls_loss=0.1873, val_cls_loss=0.6799, cls_acc=0.9152, val_cls_acc=0.7500, val_cls_auroc=0.9057, seg_loss=0.1013, val_seg_loss=0.2804, seg_dice=0.7389, val_seg_dice=0.6032\n",
      "Epoch [46] Validation Results: total_loss=0.7737, cls_loss=0.1669, val_cls_loss=0.6627, cls_acc=0.9196, val_cls_acc=0.7679, val_cls_auroc=0.9182, seg_loss=0.1076, val_seg_loss=0.2961, seg_dice=0.7446, val_seg_dice=0.5632\n",
      "Epoch [47] Validation Results: total_loss=0.7459, cls_loss=0.1786, val_cls_loss=0.9580, cls_acc=0.9330, val_cls_acc=0.7500, val_cls_auroc=0.9232, seg_loss=0.1028, val_seg_loss=0.2450, seg_dice=0.7403, val_seg_dice=0.6131\n",
      "Epoch [48] Validation Results: total_loss=0.7178, cls_loss=0.2203, val_cls_loss=0.6957, cls_acc=0.8929, val_cls_acc=0.7589, val_cls_auroc=0.9233, seg_loss=0.0963, val_seg_loss=0.2239, seg_dice=0.7510, val_seg_dice=0.6360\n",
      "Epoch [49] Validation Results: total_loss=0.7076, cls_loss=0.1901, val_cls_loss=0.5504, cls_acc=0.9018, val_cls_acc=0.7813, val_cls_auroc=0.9324, seg_loss=0.0964, val_seg_loss=0.2537, seg_dice=0.7570, val_seg_dice=0.6071\n",
      "Epoch [50] Validation Results: total_loss=0.7615, cls_loss=0.2474, val_cls_loss=0.7115, cls_acc=0.8616, val_cls_acc=0.7589, val_cls_auroc=0.9461, seg_loss=0.1015, val_seg_loss=0.2727, seg_dice=0.7521, val_seg_dice=0.5881\n",
      "Epoch [51] Validation Results: total_loss=0.6791, cls_loss=0.1728, val_cls_loss=0.7916, cls_acc=0.9152, val_cls_acc=0.6696, val_cls_auroc=0.9079, seg_loss=0.0930, val_seg_loss=0.2968, seg_dice=0.7623, val_seg_dice=0.5798\n",
      "Epoch [52] Validation Results: total_loss=0.6889, cls_loss=0.1668, val_cls_loss=0.6493, cls_acc=0.9107, val_cls_acc=0.7589, val_cls_auroc=0.9148, seg_loss=0.0948, val_seg_loss=0.2796, seg_dice=0.7618, val_seg_dice=0.5788\n",
      "Epoch [53] Validation Results: total_loss=0.6933, cls_loss=0.1356, val_cls_loss=0.5535, cls_acc=0.9554, val_cls_acc=0.7545, val_cls_auroc=0.9272, seg_loss=0.0971, val_seg_loss=0.2611, seg_dice=0.7586, val_seg_dice=0.6110\n",
      "Epoch [54] Validation Results: total_loss=0.6888, cls_loss=0.1167, val_cls_loss=0.6274, cls_acc=0.9509, val_cls_acc=0.7545, val_cls_auroc=0.9200, seg_loss=0.0974, val_seg_loss=0.2738, seg_dice=0.7637, val_seg_dice=0.5964\n",
      "Epoch [55] Validation Results: total_loss=0.6781, cls_loss=0.1098, val_cls_loss=0.9056, cls_acc=0.9464, val_cls_acc=0.7143, val_cls_auroc=0.8990, seg_loss=0.0962, val_seg_loss=0.3337, seg_dice=0.7612, val_seg_dice=0.5395\n",
      "Epoch [56] Validation Results: total_loss=0.6662, cls_loss=0.1149, val_cls_loss=0.8006, cls_acc=0.9509, val_cls_acc=0.7143, val_cls_auroc=0.9059, seg_loss=0.0941, val_seg_loss=0.3268, seg_dice=0.7657, val_seg_dice=0.5380\n",
      "Epoch [57] Validation Results: total_loss=0.7100, cls_loss=0.1232, val_cls_loss=0.5401, cls_acc=0.9375, val_cls_acc=0.7813, val_cls_auroc=0.9451, seg_loss=0.1003, val_seg_loss=0.2224, seg_dice=0.7618, val_seg_dice=0.6652\n",
      "Epoch [58] Validation Results: total_loss=0.7344, cls_loss=0.1584, val_cls_loss=0.7229, cls_acc=0.9420, val_cls_acc=0.7143, val_cls_auroc=0.9173, seg_loss=0.1021, val_seg_loss=0.2478, seg_dice=0.7643, val_seg_dice=0.6201\n",
      "Epoch [59] Validation Results: total_loss=0.6891, cls_loss=0.2080, val_cls_loss=0.9987, cls_acc=0.9241, val_cls_acc=0.6161, val_cls_auroc=0.8596, seg_loss=0.0927, val_seg_loss=0.3065, seg_dice=0.7676, val_seg_dice=0.5735\n",
      "Epoch [60] Validation Results: total_loss=0.6427, cls_loss=0.1243, val_cls_loss=0.8330, cls_acc=0.9420, val_cls_acc=0.7143, val_cls_auroc=0.9180, seg_loss=0.0901, val_seg_loss=0.2862, seg_dice=0.7757, val_seg_dice=0.5793\n",
      "Epoch [61] Validation Results: total_loss=0.6498, cls_loss=0.1340, val_cls_loss=0.7318, cls_acc=0.9330, val_cls_acc=0.7321, val_cls_auroc=0.9271, seg_loss=0.0907, val_seg_loss=0.2455, seg_dice=0.7747, val_seg_dice=0.6252\n",
      "Epoch [62] Validation Results: total_loss=0.6178, cls_loss=0.1101, val_cls_loss=0.5435, cls_acc=0.9464, val_cls_acc=0.7723, val_cls_auroc=0.9441, seg_loss=0.0871, val_seg_loss=0.2292, seg_dice=0.7802, val_seg_dice=0.6368\n",
      "Epoch [63] Validation Results: total_loss=0.5595, cls_loss=0.1350, val_cls_loss=0.8997, cls_acc=0.9375, val_cls_acc=0.7723, val_cls_auroc=0.9260, seg_loss=0.0770, val_seg_loss=0.2550, seg_dice=0.7939, val_seg_dice=0.6280\n",
      "Epoch [64] Validation Results: total_loss=0.5572, cls_loss=0.1211, val_cls_loss=0.7072, cls_acc=0.9509, val_cls_acc=0.7545, val_cls_auroc=0.9339, seg_loss=0.0774, val_seg_loss=0.2952, seg_dice=0.7981, val_seg_dice=0.5886\n",
      "Epoch [65] Validation Results: total_loss=0.5169, cls_loss=0.0690, val_cls_loss=0.5424, cls_acc=0.9777, val_cls_acc=0.7857, val_cls_auroc=0.9484, seg_loss=0.0741, val_seg_loss=0.2761, seg_dice=0.8023, val_seg_dice=0.6032\n",
      "Epoch [66] Validation Results: total_loss=0.4638, cls_loss=0.0429, val_cls_loss=0.6133, cls_acc=0.9911, val_cls_acc=0.7723, val_cls_auroc=0.9260, seg_loss=0.0675, val_seg_loss=0.2541, seg_dice=0.8062, val_seg_dice=0.6340\n",
      "Epoch [67] Validation Results: total_loss=0.5411, cls_loss=0.0750, val_cls_loss=0.7554, cls_acc=0.9732, val_cls_acc=0.7723, val_cls_auroc=0.9319, seg_loss=0.0774, val_seg_loss=0.2486, seg_dice=0.8011, val_seg_dice=0.6378\n",
      "Epoch [68] Validation Results: total_loss=0.4841, cls_loss=0.0707, val_cls_loss=0.7548, cls_acc=0.9688, val_cls_acc=0.7455, val_cls_auroc=0.9201, seg_loss=0.0691, val_seg_loss=0.2645, seg_dice=0.8115, val_seg_dice=0.6205\n",
      "Epoch [69] Validation Results: total_loss=0.4964, cls_loss=0.0859, val_cls_loss=0.9268, cls_acc=0.9643, val_cls_acc=0.7545, val_cls_auroc=0.9275, seg_loss=0.0701, val_seg_loss=0.2657, seg_dice=0.8129, val_seg_dice=0.6295\n",
      "Epoch [70] Validation Results: total_loss=0.4415, cls_loss=0.0493, val_cls_loss=0.8431, cls_acc=0.9732, val_cls_acc=0.7723, val_cls_auroc=0.9345, seg_loss=0.0638, val_seg_loss=0.2632, seg_dice=0.8220, val_seg_dice=0.6353\n",
      "Epoch [71] Validation Results: total_loss=0.4201, cls_loss=0.0308, val_cls_loss=0.6500, cls_acc=0.9911, val_cls_acc=0.7946, val_cls_auroc=0.9394, seg_loss=0.0615, val_seg_loss=0.2713, seg_dice=0.8276, val_seg_dice=0.6070\n",
      "Epoch [72] Validation Results: total_loss=0.4580, cls_loss=0.0618, val_cls_loss=0.6764, cls_acc=0.9777, val_cls_acc=0.8080, val_cls_auroc=0.9501, seg_loss=0.0656, val_seg_loss=0.2512, seg_dice=0.8214, val_seg_dice=0.6544\n",
      "Epoch [73] Validation Results: total_loss=0.4231, cls_loss=0.0610, val_cls_loss=0.6689, cls_acc=0.9821, val_cls_acc=0.8170, val_cls_auroc=0.9417, seg_loss=0.0604, val_seg_loss=0.2505, seg_dice=0.8302, val_seg_dice=0.6392\n",
      "Epoch [74] Validation Results: total_loss=0.4360, cls_loss=0.0612, val_cls_loss=0.9530, cls_acc=0.9777, val_cls_acc=0.7768, val_cls_auroc=0.9332, seg_loss=0.0623, val_seg_loss=0.2533, seg_dice=0.8283, val_seg_dice=0.6312\n",
      "Epoch [75] Validation Results: total_loss=0.4344, cls_loss=0.0658, val_cls_loss=0.8640, cls_acc=0.9777, val_cls_acc=0.7946, val_cls_auroc=0.9305, seg_loss=0.0619, val_seg_loss=0.2533, seg_dice=0.8295, val_seg_dice=0.6328\n",
      "Epoch [76] Validation Results: total_loss=0.4030, cls_loss=0.0432, val_cls_loss=0.5280, cls_acc=0.9866, val_cls_acc=0.8170, val_cls_auroc=0.9502, seg_loss=0.0583, val_seg_loss=0.2415, seg_dice=0.8328, val_seg_dice=0.6508\n",
      "Epoch [77] Validation Results: total_loss=0.3587, cls_loss=0.0320, val_cls_loss=0.4490, cls_acc=0.9866, val_cls_acc=0.8705, val_cls_auroc=0.9525, seg_loss=0.0523, val_seg_loss=0.2427, seg_dice=0.8426, val_seg_dice=0.6536\n",
      "Epoch [78] Validation Results: total_loss=0.3772, cls_loss=0.0331, val_cls_loss=0.6292, cls_acc=0.9866, val_cls_acc=0.8214, val_cls_auroc=0.9596, seg_loss=0.0550, val_seg_loss=0.2520, seg_dice=0.8417, val_seg_dice=0.6546\n",
      "Epoch [79] Validation Results: total_loss=0.3384, cls_loss=0.0354, val_cls_loss=0.6461, cls_acc=0.9911, val_cls_acc=0.8259, val_cls_auroc=0.9541, seg_loss=0.0490, val_seg_loss=0.2733, seg_dice=0.8499, val_seg_dice=0.6287\n",
      "Epoch [80] Validation Results: total_loss=0.3246, cls_loss=0.0301, val_cls_loss=0.6522, cls_acc=0.9777, val_cls_acc=0.7991, val_cls_auroc=0.9519, seg_loss=0.0472, val_seg_loss=0.2837, seg_dice=0.8550, val_seg_dice=0.6298\n",
      "Epoch [81] Validation Results: total_loss=0.3549, cls_loss=0.0220, val_cls_loss=0.6487, cls_acc=0.9911, val_cls_acc=0.8348, val_cls_auroc=0.9449, seg_loss=0.0522, val_seg_loss=0.2451, seg_dice=0.8488, val_seg_dice=0.6627\n",
      "Epoch [82] Validation Results: total_loss=0.3718, cls_loss=0.0514, val_cls_loss=0.7260, cls_acc=0.9911, val_cls_acc=0.7991, val_cls_auroc=0.9383, seg_loss=0.0532, val_seg_loss=0.2277, seg_dice=0.8462, val_seg_dice=0.6691\n",
      "Epoch [83] Validation Results: total_loss=0.3654, cls_loss=0.0480, val_cls_loss=0.7068, cls_acc=0.9866, val_cls_acc=0.7991, val_cls_auroc=0.9328, seg_loss=0.0524, val_seg_loss=0.2376, seg_dice=0.8494, val_seg_dice=0.6725\n",
      "Epoch [84] Validation Results: total_loss=0.3460, cls_loss=0.0141, val_cls_loss=0.8128, cls_acc=0.9955, val_cls_acc=0.7679, val_cls_auroc=0.9309, seg_loss=0.0513, val_seg_loss=0.2329, seg_dice=0.8490, val_seg_dice=0.6734\n",
      "Epoch [85] Validation Results: total_loss=0.3637, cls_loss=0.0377, val_cls_loss=0.7924, cls_acc=0.9866, val_cls_acc=0.7902, val_cls_auroc=0.9425, seg_loss=0.0527, val_seg_loss=0.2352, seg_dice=0.8474, val_seg_dice=0.6681\n",
      "Epoch [86] Validation Results: total_loss=0.3349, cls_loss=0.0248, val_cls_loss=0.7882, cls_acc=0.9955, val_cls_acc=0.7857, val_cls_auroc=0.9469, seg_loss=0.0491, val_seg_loss=0.2682, seg_dice=0.8555, val_seg_dice=0.6322\n",
      "Epoch [87] Validation Results: total_loss=0.3535, cls_loss=0.0206, val_cls_loss=0.9221, cls_acc=0.9955, val_cls_acc=0.7946, val_cls_auroc=0.9452, seg_loss=0.0521, val_seg_loss=0.2542, seg_dice=0.8535, val_seg_dice=0.6537\n",
      "Epoch [88] Validation Results: total_loss=0.3596, cls_loss=0.0215, val_cls_loss=0.8525, cls_acc=0.9955, val_cls_acc=0.8080, val_cls_auroc=0.9467, seg_loss=0.0530, val_seg_loss=0.2545, seg_dice=0.8505, val_seg_dice=0.6523\n",
      "Epoch [89] Validation Results: total_loss=0.3047, cls_loss=0.0188, val_cls_loss=0.6748, cls_acc=0.9955, val_cls_acc=0.8125, val_cls_auroc=0.9386, seg_loss=0.0448, val_seg_loss=0.2639, seg_dice=0.8613, val_seg_dice=0.6426\n",
      "Epoch [90] Validation Results: total_loss=0.3091, cls_loss=0.0163, val_cls_loss=0.7052, cls_acc=0.9955, val_cls_acc=0.8080, val_cls_auroc=0.9338, seg_loss=0.0456, val_seg_loss=0.2537, seg_dice=0.8651, val_seg_dice=0.6583\n",
      "Epoch [91] Validation Results: total_loss=0.3065, cls_loss=0.0280, val_cls_loss=0.8153, cls_acc=0.9911, val_cls_acc=0.7991, val_cls_auroc=0.9418, seg_loss=0.0446, val_seg_loss=0.2664, seg_dice=0.8646, val_seg_dice=0.6540\n",
      "Epoch [92] Validation Results: total_loss=0.3092, cls_loss=0.0228, val_cls_loss=0.9324, cls_acc=0.9911, val_cls_acc=0.8080, val_cls_auroc=0.9449, seg_loss=0.0453, val_seg_loss=0.2425, seg_dice=0.8649, val_seg_dice=0.6752\n",
      "Epoch [93] Validation Results: total_loss=0.2983, cls_loss=0.0358, val_cls_loss=0.8795, cls_acc=0.9955, val_cls_acc=0.8170, val_cls_auroc=0.9498, seg_loss=0.0430, val_seg_loss=0.2464, seg_dice=0.8720, val_seg_dice=0.6599\n",
      "Epoch [94] Validation Results: total_loss=0.2871, cls_loss=0.0216, val_cls_loss=0.8342, cls_acc=0.9955, val_cls_acc=0.8080, val_cls_auroc=0.9530, seg_loss=0.0420, val_seg_loss=0.2504, seg_dice=0.8711, val_seg_dice=0.6694\n",
      "Epoch [95] Validation Results: total_loss=0.2776, cls_loss=0.0225, val_cls_loss=0.6104, cls_acc=0.9955, val_cls_acc=0.8259, val_cls_auroc=0.9493, seg_loss=0.0406, val_seg_loss=0.2283, seg_dice=0.8729, val_seg_dice=0.6886\n",
      "Epoch [96] Validation Results: total_loss=0.2903, cls_loss=0.0164, val_cls_loss=0.6836, cls_acc=0.9911, val_cls_acc=0.8125, val_cls_auroc=0.9456, seg_loss=0.0428, val_seg_loss=0.2241, seg_dice=0.8713, val_seg_dice=0.6844\n",
      "Epoch [97] Validation Results: total_loss=0.3106, cls_loss=0.0247, val_cls_loss=0.8473, cls_acc=0.9955, val_cls_acc=0.8170, val_cls_auroc=0.9428, seg_loss=0.0454, val_seg_loss=0.2234, seg_dice=0.8683, val_seg_dice=0.6803\n",
      "Epoch [98] Validation Results: total_loss=0.2704, cls_loss=0.0137, val_cls_loss=0.8934, cls_acc=0.9955, val_cls_acc=0.8214, val_cls_auroc=0.9356, seg_loss=0.0399, val_seg_loss=0.2550, seg_dice=0.8758, val_seg_dice=0.6455\n",
      "Epoch [99] Validation Results: total_loss=0.2864, cls_loss=0.0135, val_cls_loss=0.6494, cls_acc=0.9955, val_cls_acc=0.8036, val_cls_auroc=0.9442, seg_loss=0.0424, val_seg_loss=0.2217, seg_dice=0.8732, val_seg_dice=0.6963\n"
     ]
    }
   ],
   "source": [
    "EPOCHS = 100\n",
    "history = fit(\n",
    "    model=model,\n",
    "    train_dataloader=train_dl,\n",
    "    validation_dataloader=val_dl,\n",
    "    epochs=EPOCHS,\n",
    "    lr=1e-3,\n",
    "    opt_func=optim.AdamW,\n",
    ")"
   ]
  },
  {
   "cell_type": "code",
   "execution_count": 18,
   "metadata": {},
   "outputs": [
    {
     "data": {
      "text/plain": [
       "Text(0.5, 1.0, 'Loss vs. NO. of epochs')"
      ]
     },
     "execution_count": 18,
     "metadata": {},
     "output_type": "execute_result"
    },
    {
     "data": {
      "image/png": "[encoded data removed]",
      "text/plain": [
       "<Figure size 640x480 with 1 Axes>"
      ]
     },
     "metadata": {},
     "output_type": "display_data"
    }
   ],
   "source": [
    "import matplotlib.pyplot as plt\n",
    "\n",
    "seg_losses = [x[\"seg_loss\"] for x in history]\n",
    "seg_dice = [x[\"seg_dice\"] for x in history]\n",
    "\n",
    "plt.plot(seg_losses, \"-bx\")\n",
    "plt.plot(seg_dice, \"-rx\")\n",
    "\n",
    "plt.xlabel(\"epoch\")\n",
    "plt.ylabel(\"loss\")\n",
    "plt.grid()\n",
    "plt.legend([\"seg_loss\", \"seg_dice\"])\n",
    "plt.title(\"Loss vs. NO. of epochs\")"
   ]
  },
  {
   "cell_type": "code",
   "execution_count": null,
   "metadata": {},
   "outputs": [],
   "source": []
  },
  {
   "cell_type": "code",
   "execution_count": null,
   "metadata": {},
   "outputs": [],
   "source": []
  },
  {
   "cell_type": "code",
   "execution_count": null,
   "metadata": {},
   "outputs": [],
   "source": []
  }
 ],
 "metadata": {
  "kernelspec": {
   "display_name": "base",
   "language": "python",
   "name": "python3"
  },
  "language_info": {
   "codemirror_mode": {
    "name": "ipython",
    "version": 3
   },
   "file_extension": ".py",
   "mimetype": "text/x-python",
   "name": "python",
   "nbconvert_exporter": "python",
   "pygments_lexer": "ipython3",
   "version": "3.11.11"
  }
 },
 "nbformat": 4,
 "nbformat_minor": 2
}
