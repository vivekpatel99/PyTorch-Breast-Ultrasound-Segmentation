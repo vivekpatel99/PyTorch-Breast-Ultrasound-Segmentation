{
 "cells": [
  {
   "cell_type": "markdown",
   "metadata": {},
   "source": [
    "# Train VGGNet and FCN as Segmentation model\n",
    "## Breast-Ultrasound-Segmentation\n",
    "\n",
    "## About Dataset\n",
    "Breast cancer is one of the most common causes of death among women worldwide. Early detection helps in reducing the number of early deaths. The data reviews the medical images of breast cancer using ultrasound scan. Breast Ultrasound Dataset is categorized into three classes: normal, benign, and malignant images. Breast ultrasound images can produce great results in classification, detection, and segmentation of breast cancer when combined with machine learning.\n",
    "\n",
    "### Data\n",
    "The data collected at baseline include breast ultrasound images among women in ages between 25 and 75 years old. This data was collected in 2018. The number of patients is 600 female patients. The dataset consists of 780 images with an average image size of 500*500 pixels. The images are in PNG format. The ground truth images are presented with original images. The images are categorized into three classes, which are normal, benign, and malignant.\n",
    "\n",
    "If you use this dataset, please cite:\n",
    "Al-Dhabyani W, Gomaa M, Khaled H, Fahmy A. Dataset of breast ultrasound images. Data in Brief. 2020 Feb;28:104863. DOI: 10.1016/j.dib.2019.104863."
   ]
  },
  {
   "cell_type": "markdown",
   "metadata": {},
   "source": [
    "## Imports"
   ]
  },
  {
   "cell_type": "code",
   "execution_count": 1,
   "metadata": {},
   "outputs": [],
   "source": [
    "import os\n",
    "\n",
    "import pyrootutils\n",
    "\n",
    "root = pyrootutils.setup_root(\n",
    "    search_from=os.path.dirname(os.getcwd()),\n",
    "    indicator=[\".git\", \"pyproject.toml\"],\n",
    "    pythonpath=True,\n",
    "    dotenv=True,\n",
    ")\n",
    "\n",
    "if os.getenv(\"DATA_ROOT\") is None:\n",
    "    os.environ[\"DATA_ROOT\"] = f\"{root}/data\""
   ]
  },
  {
   "cell_type": "code",
   "execution_count": 2,
   "metadata": {},
   "outputs": [
    {
     "name": "stdout",
     "output_type": "stream",
     "text": [
      "GPU Found!!\n"
     ]
    }
   ],
   "source": [
    "import torch\n",
    "import torch.nn as nn\n",
    "\n",
    "# Setup device-agnostic code\n",
    "if torch.cuda.is_available():\n",
    "    DEVICE = \"cuda\"  # NVIDIA GPU\n",
    "    print(\"GPU Found!!\")\n",
    "else:\n",
    "    raise Exception(\"No GPU Found!!\")"
   ]
  },
  {
   "cell_type": "code",
   "execution_count": 3,
   "metadata": {},
   "outputs": [],
   "source": [
    "import hydra\n",
    "from hydra import compose, initialize"
   ]
  },
  {
   "cell_type": "code",
   "execution_count": 4,
   "metadata": {},
   "outputs": [],
   "source": [
    "# # auto reload dotenv\n",
    "%load_ext dotenv\n",
    "%dotenv\n",
    "\n",
    "# auto reload libs\n",
    "%load_ext autoreload\n",
    "%autoreload 2"
   ]
  },
  {
   "cell_type": "markdown",
   "metadata": {},
   "source": [
    "## Paths setup"
   ]
  },
  {
   "cell_type": "code",
   "execution_count": 5,
   "metadata": {},
   "outputs": [
    {
     "name": "stdout",
     "output_type": "stream",
     "text": [
      "{'optimizer': {'_target_': 'torch.optim.Adam', '_partial_': True, 'lr': 0.001, 'weight_decay': 0.0, 'betas': [0.9, 0.999]}, 'scheduler': {'func': None}, 'model': {'_target_': 'src.models.vggnet_fcn_segmentation_model.VGGNetFCN16SegmentationModel', 'num_classes': 3}}\n"
     ]
    }
   ],
   "source": [
    "from omegaconf import DictConfig, OmegaConf\n",
    "\n",
    "# Register a resolver for torch dtypes\n",
    "OmegaConf.register_new_resolver(\"torch_dtype\", lambda name: getattr(torch, name))\n",
    "\n",
    "with initialize(config_path=\"../configs\", job_name=\"training_setup\", version_base=None):\n",
    "    cfg: DictConfig = compose(config_name=\"train.yaml\")\n",
    "    # print(OmegaConf.to_yaml(cfg))\n",
    "    print(cfg.models)"
   ]
  },
  {
   "cell_type": "code",
   "execution_count": 6,
   "metadata": {},
   "outputs": [],
   "source": [
    "os.chdir(root)"
   ]
  },
  {
   "cell_type": "markdown",
   "metadata": {},
   "source": [
    "## Loading Dataset"
   ]
  },
  {
   "cell_type": "code",
   "execution_count": 7,
   "metadata": {},
   "outputs": [
    {
     "data": {
      "text/plain": [
       "(['normal', 'malignant', 'benign'], 3, tensor([1.9774, 1.2494, 0.5903]))"
      ]
     },
     "execution_count": 7,
     "metadata": {},
     "output_type": "execute_result"
    }
   ],
   "source": [
    "data_module = hydra.utils.instantiate(cfg.datamodule)\n",
    "\n",
    "class_weights = data_module.class_weights\n",
    "class_names = data_module.classes\n",
    "num_classes = len(class_names)\n",
    "class_names, num_classes, class_weights"
   ]
  },
  {
   "cell_type": "code",
   "execution_count": 8,
   "metadata": {},
   "outputs": [],
   "source": [
    "import torch.optim as optim\n",
    "from torch.utils.data import DataLoader, Subset\n",
    "\n",
    "# # 1. Select a very small subset of your data\n",
    "train_dataset, val_dataset = data_module.split_and_preprocess_datasets()\n",
    "\n",
    "subset_indices = list(range(10))  # Select first 10 samples\n",
    "train_small_dataset = Subset(train_dataset, subset_indices)\n",
    "val_small_dataset = Subset(val_dataset, subset_indices)\n",
    "train_dl = DataLoader(train_small_dataset, batch_size=5, shuffle=False)\n",
    "val_dl = DataLoader(val_small_dataset, batch_size=5, shuffle=False)"
   ]
  },
  {
   "cell_type": "code",
   "execution_count": 9,
   "metadata": {},
   "outputs": [
    {
     "name": "stdout",
     "output_type": "stream",
     "text": [
      "torch.Size([5, 3, 224, 224]) torch.Size([5, 1, 224, 224]) torch.Size([5])\n",
      "images:torch.float32, -2.1179039478302, 2.6225709915161133\n",
      "masks torch.uint8, 0, 1\n",
      "labels torch.int64, 1, 2\n"
     ]
    }
   ],
   "source": [
    "for images, targets in train_dl:\n",
    "    print(images.shape, targets[\"masks\"].shape, targets[\"labels\"].shape)\n",
    "\n",
    "    print(f\"images:{images.dtype}, {images[0].min()}, {images[0].max()}\")\n",
    "    print(\n",
    "        f'masks {targets[\"masks\"].dtype}, {targets[\"masks\"][0].min()}, {targets[\"masks\"][0].max()}'\n",
    "    )\n",
    "    print(\n",
    "        f'labels {targets[\"labels\"].dtype}, {targets[\"labels\"].min()}, {targets[\"labels\"].max()}'\n",
    "    )\n",
    "    break"
   ]
  },
  {
   "cell_type": "code",
   "execution_count": 10,
   "metadata": {},
   "outputs": [
    {
     "name": "stdout",
     "output_type": "stream",
     "text": [
      "torch.Size([5, 3, 224, 224]) torch.Size([5, 1, 224, 224]) torch.Size([5])\n",
      "images:torch.float32, -2.1179039478302, 2.5354254245758057\n",
      "masks torch.uint8, 0, 1\n",
      "labels torch.int64, 0, 2\n"
     ]
    }
   ],
   "source": [
    "for _images, _targets in val_dl:\n",
    "    print(_images.shape, _targets[\"masks\"].shape, _targets[\"labels\"].shape)\n",
    "\n",
    "    print(f\"images:{_images[0].dtype}, {_images[0].min()}, {_images[0].max()}\")\n",
    "    print(f'masks {_targets[\"masks\"].dtype}, {_targets[\"masks\"].min()}, {_targets[\"masks\"].max()}')\n",
    "    print(\n",
    "        f'labels {_targets[\"labels\"].dtype}, {_targets[\"labels\"].min()}, {_targets[\"labels\"].max()}'\n",
    "    )\n",
    "    break"
   ]
  },
  {
   "cell_type": "markdown",
   "metadata": {},
   "source": [
    "## Loading and training the FCN8 model "
   ]
  },
  {
   "cell_type": "code",
   "execution_count": 11,
   "metadata": {},
   "outputs": [],
   "source": [
    "from src.utils.gpu_utils import DeviceDataLoader, get_default_device, to_device\n",
    "\n",
    "torch.cuda.empty_cache()\n",
    "device = get_default_device()\n",
    "\n",
    "gpu_weights = to_device(class_weights, device)"
   ]
  },
  {
   "cell_type": "code",
   "execution_count": 12,
   "metadata": {},
   "outputs": [
    {
     "data": {
      "text/plain": [
       "OptimizedModule(\n",
       "  (_orig_mod): VGGNetFCN8SegmentationModel(\n",
       "    (segmentation_criterion): CrossEntropyLoss()\n",
       "    (classification_criterion): CrossEntropyLoss()\n",
       "    (encoder): VGGNetEncoder(\n",
       "      (vgg): VGG(\n",
       "        (features): Sequential(\n",
       "          (0): Conv2d(3, 64, kernel_size=(3, 3), stride=(1, 1), padding=(1, 1))\n",
       "          (1): ReLU(inplace=True)\n",
       "          (2): Conv2d(64, 64, kernel_size=(3, 3), stride=(1, 1), padding=(1, 1))\n",
       "          (3): ReLU(inplace=True)\n",
       "          (4): MaxPool2d(kernel_size=2, stride=2, padding=0, dilation=1, ceil_mode=False)\n",
       "          (5): Conv2d(64, 128, kernel_size=(3, 3), stride=(1, 1), padding=(1, 1))\n",
       "          (6): ReLU(inplace=True)\n",
       "          (7): Conv2d(128, 128, kernel_size=(3, 3), stride=(1, 1), padding=(1, 1))\n",
       "          (8): ReLU(inplace=True)\n",
       "          (9): MaxPool2d(kernel_size=2, stride=2, padding=0, dilation=1, ceil_mode=False)\n",
       "          (10): Conv2d(128, 256, kernel_size=(3, 3), stride=(1, 1), padding=(1, 1))\n",
       "          (11): ReLU(inplace=True)\n",
       "          (12): Conv2d(256, 256, kernel_size=(3, 3), stride=(1, 1), padding=(1, 1))\n",
       "          (13): ReLU(inplace=True)\n",
       "          (14): Conv2d(256, 256, kernel_size=(3, 3), stride=(1, 1), padding=(1, 1))\n",
       "          (15): ReLU(inplace=True)\n",
       "          (16): MaxPool2d(kernel_size=2, stride=2, padding=0, dilation=1, ceil_mode=False)\n",
       "          (17): Conv2d(256, 512, kernel_size=(3, 3), stride=(1, 1), padding=(1, 1))\n",
       "          (18): ReLU(inplace=True)\n",
       "          (19): Conv2d(512, 512, kernel_size=(3, 3), stride=(1, 1), padding=(1, 1))\n",
       "          (20): ReLU(inplace=True)\n",
       "          (21): Conv2d(512, 512, kernel_size=(3, 3), stride=(1, 1), padding=(1, 1))\n",
       "          (22): ReLU(inplace=True)\n",
       "          (23): MaxPool2d(kernel_size=2, stride=2, padding=0, dilation=1, ceil_mode=False)\n",
       "          (24): Conv2d(512, 512, kernel_size=(3, 3), stride=(1, 1), padding=(1, 1))\n",
       "          (25): ReLU(inplace=True)\n",
       "          (26): Conv2d(512, 512, kernel_size=(3, 3), stride=(1, 1), padding=(1, 1))\n",
       "          (27): ReLU(inplace=True)\n",
       "          (28): Conv2d(512, 512, kernel_size=(3, 3), stride=(1, 1), padding=(1, 1))\n",
       "          (29): ReLU(inplace=True)\n",
       "          (30): MaxPool2d(kernel_size=2, stride=2, padding=0, dilation=1, ceil_mode=False)\n",
       "        )\n",
       "        (avgpool): AdaptiveAvgPool2d(output_size=(7, 7))\n",
       "      )\n",
       "      (final_conv): Sequential(\n",
       "        (0): Conv2d(512, 4096, kernel_size=(7, 7), stride=(1, 1), padding=same)\n",
       "        (1): ReLU(inplace=True)\n",
       "        (2): Conv2d(4096, 4096, kernel_size=(1, 1), stride=(1, 1), padding=same)\n",
       "        (3): ReLU(inplace=True)\n",
       "      )\n",
       "    )\n",
       "    (decoder): FCN8Decoder(\n",
       "      (encoder): VGGNetEncoder(\n",
       "        (vgg): VGG(\n",
       "          (features): Sequential(\n",
       "            (0): Conv2d(3, 64, kernel_size=(3, 3), stride=(1, 1), padding=(1, 1))\n",
       "            (1): ReLU(inplace=True)\n",
       "            (2): Conv2d(64, 64, kernel_size=(3, 3), stride=(1, 1), padding=(1, 1))\n",
       "            (3): ReLU(inplace=True)\n",
       "            (4): MaxPool2d(kernel_size=2, stride=2, padding=0, dilation=1, ceil_mode=False)\n",
       "            (5): Conv2d(64, 128, kernel_size=(3, 3), stride=(1, 1), padding=(1, 1))\n",
       "            (6): ReLU(inplace=True)\n",
       "            (7): Conv2d(128, 128, kernel_size=(3, 3), stride=(1, 1), padding=(1, 1))\n",
       "            (8): ReLU(inplace=True)\n",
       "            (9): MaxPool2d(kernel_size=2, stride=2, padding=0, dilation=1, ceil_mode=False)\n",
       "            (10): Conv2d(128, 256, kernel_size=(3, 3), stride=(1, 1), padding=(1, 1))\n",
       "            (11): ReLU(inplace=True)\n",
       "            (12): Conv2d(256, 256, kernel_size=(3, 3), stride=(1, 1), padding=(1, 1))\n",
       "            (13): ReLU(inplace=True)\n",
       "            (14): Conv2d(256, 256, kernel_size=(3, 3), stride=(1, 1), padding=(1, 1))\n",
       "            (15): ReLU(inplace=True)\n",
       "            (16): MaxPool2d(kernel_size=2, stride=2, padding=0, dilation=1, ceil_mode=False)\n",
       "            (17): Conv2d(256, 512, kernel_size=(3, 3), stride=(1, 1), padding=(1, 1))\n",
       "            (18): ReLU(inplace=True)\n",
       "            (19): Conv2d(512, 512, kernel_size=(3, 3), stride=(1, 1), padding=(1, 1))\n",
       "            (20): ReLU(inplace=True)\n",
       "            (21): Conv2d(512, 512, kernel_size=(3, 3), stride=(1, 1), padding=(1, 1))\n",
       "            (22): ReLU(inplace=True)\n",
       "            (23): MaxPool2d(kernel_size=2, stride=2, padding=0, dilation=1, ceil_mode=False)\n",
       "            (24): Conv2d(512, 512, kernel_size=(3, 3), stride=(1, 1), padding=(1, 1))\n",
       "            (25): ReLU(inplace=True)\n",
       "            (26): Conv2d(512, 512, kernel_size=(3, 3), stride=(1, 1), padding=(1, 1))\n",
       "            (27): ReLU(inplace=True)\n",
       "            (28): Conv2d(512, 512, kernel_size=(3, 3), stride=(1, 1), padding=(1, 1))\n",
       "            (29): ReLU(inplace=True)\n",
       "            (30): MaxPool2d(kernel_size=2, stride=2, padding=0, dilation=1, ceil_mode=False)\n",
       "          )\n",
       "          (avgpool): AdaptiveAvgPool2d(output_size=(7, 7))\n",
       "        )\n",
       "        (final_conv): Sequential(\n",
       "          (0): Conv2d(512, 4096, kernel_size=(7, 7), stride=(1, 1), padding=same)\n",
       "          (1): ReLU(inplace=True)\n",
       "          (2): Conv2d(4096, 4096, kernel_size=(1, 1), stride=(1, 1), padding=same)\n",
       "          (3): ReLU(inplace=True)\n",
       "        )\n",
       "      )\n",
       "      (upsample_5): Sequential(\n",
       "        (0): ConvTranspose2d(4096, 512, kernel_size=(3, 3), stride=(2, 2), padding=(1, 1), output_padding=(1, 1), bias=False)\n",
       "        (1): ReLU(inplace=True)\n",
       "      )\n",
       "      (bn5): BatchNorm2d(512, eps=1e-05, momentum=0.1, affine=True, track_running_stats=True)\n",
       "      (upsample_4): Sequential(\n",
       "        (0): ConvTranspose2d(512, 256, kernel_size=(3, 3), stride=(2, 2), padding=(1, 1), output_padding=(1, 1), bias=False)\n",
       "        (1): ReLU(inplace=True)\n",
       "      )\n",
       "      (bn4): BatchNorm2d(256, eps=1e-05, momentum=0.1, affine=True, track_running_stats=True)\n",
       "      (upsample3): Sequential(\n",
       "        (0): ConvTranspose2d(256, 128, kernel_size=(3, 3), stride=(2, 2), padding=(1, 1), output_padding=(1, 1), bias=False)\n",
       "        (1): ReLU(inplace=True)\n",
       "        (2): BatchNorm2d(128, eps=1e-05, momentum=0.1, affine=True, track_running_stats=True)\n",
       "      )\n",
       "      (upsample2): Sequential(\n",
       "        (0): ConvTranspose2d(128, 64, kernel_size=(3, 3), stride=(2, 2), padding=(1, 1), output_padding=(1, 1), bias=False)\n",
       "        (1): ReLU(inplace=True)\n",
       "        (2): BatchNorm2d(64, eps=1e-05, momentum=0.1, affine=True, track_running_stats=True)\n",
       "      )\n",
       "      (upsample1): Sequential(\n",
       "        (0): ConvTranspose2d(64, 32, kernel_size=(3, 3), stride=(2, 2), padding=(1, 1), output_padding=(1, 1), bias=False)\n",
       "        (1): ReLU(inplace=True)\n",
       "        (2): BatchNorm2d(32, eps=1e-05, momentum=0.1, affine=True, track_running_stats=True)\n",
       "      )\n",
       "      (mask_classifier): Conv2d(32, 3, kernel_size=(1, 1), stride=(1, 1))\n",
       "      (image_classifier): Sequential(\n",
       "        (0): AdaptiveAvgPool2d(output_size=1)\n",
       "        (1): Flatten(start_dim=1, end_dim=-1)\n",
       "        (2): Linear(in_features=4096, out_features=512, bias=True)\n",
       "        (3): ReLU(inplace=True)\n",
       "        (4): Linear(in_features=512, out_features=256, bias=True)\n",
       "        (5): ReLU(inplace=True)\n",
       "        (6): Linear(in_features=256, out_features=3, bias=True)\n",
       "      )\n",
       "    )\n",
       "  )\n",
       ")"
      ]
     },
     "execution_count": 12,
     "metadata": {},
     "output_type": "execute_result"
    }
   ],
   "source": [
    "from src.models.vggnet_fcn8_segmentation_model import VGGNetFCN8SegmentationModel\n",
    "\n",
    "model = VGGNetFCN8SegmentationModel(\n",
    "    num_classes=num_classes,\n",
    "    vggnet_type=\"vgg16\",\n",
    "    # class_weights=gpu_weights,\n",
    "    segmentation_criterion=nn.CrossEntropyLoss(),\n",
    "    classification_criterion=nn.CrossEntropyLoss(weight=gpu_weights),\n",
    ")\n",
    "model = torch.compile(model)\n",
    "model"
   ]
  },
  {
   "cell_type": "code",
   "execution_count": 13,
   "metadata": {},
   "outputs": [
    {
     "name": "stdout",
     "output_type": "stream",
     "text": [
      "tensor([-0.0383,  0.0032, -0.0492], grad_fn=<SelectBackward0>) torch.Size([5, 3])\n",
      "tensor([[[ 3.5277e-02, -8.1172e-01, -5.2250e-01,  ..., -2.0721e-02,\n",
      "          -4.9243e-03, -1.9123e-01],\n",
      "         [ 4.2568e-01, -5.0432e-01,  5.7820e-01,  ..., -1.6420e-01,\n",
      "          -6.3340e-01,  4.3845e-01],\n",
      "         [-7.1429e-01, -3.0775e-01, -1.7716e+00,  ..., -1.9389e-01,\n",
      "          -9.0473e-02, -5.9297e-02],\n",
      "         ...,\n",
      "         [-3.3636e-01, -2.3914e+00,  1.4840e+00,  ...,  1.6308e+00,\n",
      "           1.7383e-01, -1.0553e+00],\n",
      "         [-7.0592e-01,  8.3829e-02, -1.8201e+00,  ..., -2.1035e-01,\n",
      "          -1.0934e+00, -1.9955e-01],\n",
      "         [ 2.5569e-01, -1.3483e+00, -3.5945e-01,  ...,  1.7284e-01,\n",
      "           3.5977e-01,  1.4167e-01]],\n",
      "\n",
      "        [[-4.1111e-02,  5.2726e-02, -3.8891e-01,  ...,  1.9060e-01,\n",
      "          -1.2640e-01,  1.9566e-02],\n",
      "         [-2.5007e-01, -1.3494e+00, -1.7696e+00,  ...,  1.9701e-01,\n",
      "           1.0841e-01, -3.8811e-03],\n",
      "         [-1.0749e-01,  8.3344e-01, -9.2987e-01,  ...,  3.2745e-01,\n",
      "           2.0165e-01, -1.0436e-01],\n",
      "         ...,\n",
      "         [-3.4749e-01, -2.2879e+00, -1.0527e+00,  ..., -1.0023e+00,\n",
      "           9.7777e-01,  1.6770e+00],\n",
      "         [ 5.6219e-02, -1.5636e+00, -2.8104e+00,  ..., -6.1607e-01,\n",
      "          -2.7673e-01, -3.3520e-02],\n",
      "         [ 2.9219e-01, -1.3101e+00, -5.5201e-01,  ..., -3.3947e-01,\n",
      "          -1.6229e-01,  2.1110e-01]],\n",
      "\n",
      "        [[ 1.3879e-01,  1.1909e+00, -2.0957e-01,  ..., -1.9293e-01,\n",
      "          -3.6466e-01, -3.6150e-01],\n",
      "         [ 8.0838e-01,  7.1903e-03, -1.2566e+00,  ...,  2.3892e-01,\n",
      "          -1.8364e-01, -1.5251e-01],\n",
      "         [ 9.8105e-01,  1.1602e+00, -3.7047e-02,  ...,  6.3883e-01,\n",
      "           7.2811e-02,  3.8215e-02],\n",
      "         ...,\n",
      "         [-1.8669e-01,  4.6278e+00,  9.5212e-01,  ..., -1.7160e-01,\n",
      "           1.2972e+00,  3.0724e+00],\n",
      "         [ 5.5901e-01,  1.3324e+00,  1.3874e+00,  ...,  1.4445e+00,\n",
      "           2.1041e-01,  3.1917e-01],\n",
      "         [-4.9334e-01,  6.6320e-01,  3.0028e-01,  ...,  1.2573e+00,\n",
      "           8.9713e-01,  1.3702e+00]]], grad_fn=<SelectBackward0>)\n",
      "torch.Size([5, 3, 224, 224])\n"
     ]
    }
   ],
   "source": [
    "for images, labels in train_dl:\n",
    "    # print(images.shape, labels)\n",
    "    out = model(images)\n",
    "    # l = labels['labels'][0]\n",
    "    # print(l , torch.argmax(l))\n",
    "    print(out[\"labels\"][0], out[\"labels\"].shape)\n",
    "    print(out[\"masks\"][0])\n",
    "    print(out[\"masks\"].shape)\n",
    "    break"
   ]
  },
  {
   "cell_type": "markdown",
   "metadata": {},
   "source": [
    "### Evaluate function"
   ]
  },
  {
   "cell_type": "code",
   "execution_count": 14,
   "metadata": {},
   "outputs": [],
   "source": [
    "@torch.no_grad()\n",
    "def evaluate(model, val_dl) -> dict[str, float]:\n",
    "    model.eval()  # set model to evaluate mode\n",
    "    outputs = [model.validation_step(batch) for batch in val_dl]\n",
    "    return model.validation_epoch_end(outputs)"
   ]
  },
  {
   "cell_type": "code",
   "execution_count": 15,
   "metadata": {},
   "outputs": [],
   "source": [
    "def fit(\n",
    "    model,\n",
    "    train_dataloader,\n",
    "    validation_dataloader,\n",
    "    epochs: int = 2,\n",
    "    lr: float = 1e-3,\n",
    "    opt_func=torch.optim.Adam,\n",
    ") -> list[dict[str, float]]:\n",
    "    history = []\n",
    "    optimizer = opt_func(model.parameters(), lr)\n",
    "    for epoch in range(epochs):\n",
    "        # Training Phase\n",
    "        model.train()\n",
    "        train_losses = []\n",
    "        train_accuracies = []\n",
    "\n",
    "        train_losses = []\n",
    "        for batch in train_dataloader:\n",
    "            step_output = model.training_step(batch)\n",
    "            loss = step_output[\"loss\"]\n",
    "            train_acc = step_output[\"train_acc\"]\n",
    "            # Detach loss and accuracy before appending to avoid holding onto computation graph\n",
    "            train_losses.append(loss.detach())\n",
    "            train_accuracies.append(train_acc.detach())  # Assuming train_acc is a tensor\n",
    "\n",
    "            loss.backward()\n",
    "            optimizer.step()\n",
    "            optimizer.zero_grad()\n",
    "        # Validation Phase\n",
    "        result = evaluate(model, validation_dataloader)\n",
    "        result[\"train_loss\"] = torch.stack(train_losses).mean().item()\n",
    "        result[\"train_acc\"] = torch.stack(train_accuracies).mean().item()\n",
    "        model.epoch_end(epoch, result)\n",
    "        history.append(result)\n",
    "    return history"
   ]
  },
  {
   "cell_type": "code",
   "execution_count": 16,
   "metadata": {},
   "outputs": [],
   "source": [
    "# evaluate(model, val_dl)"
   ]
  },
  {
   "cell_type": "markdown",
   "metadata": {},
   "source": [
    "## GPU Training Setup"
   ]
  },
  {
   "cell_type": "markdown",
   "metadata": {},
   "source": [
    "### Utils preparation"
   ]
  },
  {
   "cell_type": "markdown",
   "metadata": {},
   "source": [
    "## Moving data and model into memory"
   ]
  },
  {
   "cell_type": "markdown",
   "metadata": {},
   "source": [
    "### Train only Classification head "
   ]
  },
  {
   "cell_type": "code",
   "execution_count": 17,
   "metadata": {},
   "outputs": [
    {
     "data": {
      "text/plain": [
       "OptimizedModule(\n",
       "  (_orig_mod): VGGNetFCN8SegmentationModel(\n",
       "    (segmentation_criterion): CrossEntropyLoss()\n",
       "    (classification_criterion): CrossEntropyLoss()\n",
       "    (encoder): VGGNetEncoder(\n",
       "      (vgg): VGG(\n",
       "        (features): Sequential(\n",
       "          (0): Conv2d(3, 64, kernel_size=(3, 3), stride=(1, 1), padding=(1, 1))\n",
       "          (1): ReLU(inplace=True)\n",
       "          (2): Conv2d(64, 64, kernel_size=(3, 3), stride=(1, 1), padding=(1, 1))\n",
       "          (3): ReLU(inplace=True)\n",
       "          (4): MaxPool2d(kernel_size=2, stride=2, padding=0, dilation=1, ceil_mode=False)\n",
       "          (5): Conv2d(64, 128, kernel_size=(3, 3), stride=(1, 1), padding=(1, 1))\n",
       "          (6): ReLU(inplace=True)\n",
       "          (7): Conv2d(128, 128, kernel_size=(3, 3), stride=(1, 1), padding=(1, 1))\n",
       "          (8): ReLU(inplace=True)\n",
       "          (9): MaxPool2d(kernel_size=2, stride=2, padding=0, dilation=1, ceil_mode=False)\n",
       "          (10): Conv2d(128, 256, kernel_size=(3, 3), stride=(1, 1), padding=(1, 1))\n",
       "          (11): ReLU(inplace=True)\n",
       "          (12): Conv2d(256, 256, kernel_size=(3, 3), stride=(1, 1), padding=(1, 1))\n",
       "          (13): ReLU(inplace=True)\n",
       "          (14): Conv2d(256, 256, kernel_size=(3, 3), stride=(1, 1), padding=(1, 1))\n",
       "          (15): ReLU(inplace=True)\n",
       "          (16): MaxPool2d(kernel_size=2, stride=2, padding=0, dilation=1, ceil_mode=False)\n",
       "          (17): Conv2d(256, 512, kernel_size=(3, 3), stride=(1, 1), padding=(1, 1))\n",
       "          (18): ReLU(inplace=True)\n",
       "          (19): Conv2d(512, 512, kernel_size=(3, 3), stride=(1, 1), padding=(1, 1))\n",
       "          (20): ReLU(inplace=True)\n",
       "          (21): Conv2d(512, 512, kernel_size=(3, 3), stride=(1, 1), padding=(1, 1))\n",
       "          (22): ReLU(inplace=True)\n",
       "          (23): MaxPool2d(kernel_size=2, stride=2, padding=0, dilation=1, ceil_mode=False)\n",
       "          (24): Conv2d(512, 512, kernel_size=(3, 3), stride=(1, 1), padding=(1, 1))\n",
       "          (25): ReLU(inplace=True)\n",
       "          (26): Conv2d(512, 512, kernel_size=(3, 3), stride=(1, 1), padding=(1, 1))\n",
       "          (27): ReLU(inplace=True)\n",
       "          (28): Conv2d(512, 512, kernel_size=(3, 3), stride=(1, 1), padding=(1, 1))\n",
       "          (29): ReLU(inplace=True)\n",
       "          (30): MaxPool2d(kernel_size=2, stride=2, padding=0, dilation=1, ceil_mode=False)\n",
       "        )\n",
       "        (avgpool): AdaptiveAvgPool2d(output_size=(7, 7))\n",
       "      )\n",
       "      (final_conv): Sequential(\n",
       "        (0): Conv2d(512, 4096, kernel_size=(7, 7), stride=(1, 1), padding=same)\n",
       "        (1): ReLU(inplace=True)\n",
       "        (2): Conv2d(4096, 4096, kernel_size=(1, 1), stride=(1, 1), padding=same)\n",
       "        (3): ReLU(inplace=True)\n",
       "      )\n",
       "    )\n",
       "    (decoder): FCN8Decoder(\n",
       "      (encoder): VGGNetEncoder(\n",
       "        (vgg): VGG(\n",
       "          (features): Sequential(\n",
       "            (0): Conv2d(3, 64, kernel_size=(3, 3), stride=(1, 1), padding=(1, 1))\n",
       "            (1): ReLU(inplace=True)\n",
       "            (2): Conv2d(64, 64, kernel_size=(3, 3), stride=(1, 1), padding=(1, 1))\n",
       "            (3): ReLU(inplace=True)\n",
       "            (4): MaxPool2d(kernel_size=2, stride=2, padding=0, dilation=1, ceil_mode=False)\n",
       "            (5): Conv2d(64, 128, kernel_size=(3, 3), stride=(1, 1), padding=(1, 1))\n",
       "            (6): ReLU(inplace=True)\n",
       "            (7): Conv2d(128, 128, kernel_size=(3, 3), stride=(1, 1), padding=(1, 1))\n",
       "            (8): ReLU(inplace=True)\n",
       "            (9): MaxPool2d(kernel_size=2, stride=2, padding=0, dilation=1, ceil_mode=False)\n",
       "            (10): Conv2d(128, 256, kernel_size=(3, 3), stride=(1, 1), padding=(1, 1))\n",
       "            (11): ReLU(inplace=True)\n",
       "            (12): Conv2d(256, 256, kernel_size=(3, 3), stride=(1, 1), padding=(1, 1))\n",
       "            (13): ReLU(inplace=True)\n",
       "            (14): Conv2d(256, 256, kernel_size=(3, 3), stride=(1, 1), padding=(1, 1))\n",
       "            (15): ReLU(inplace=True)\n",
       "            (16): MaxPool2d(kernel_size=2, stride=2, padding=0, dilation=1, ceil_mode=False)\n",
       "            (17): Conv2d(256, 512, kernel_size=(3, 3), stride=(1, 1), padding=(1, 1))\n",
       "            (18): ReLU(inplace=True)\n",
       "            (19): Conv2d(512, 512, kernel_size=(3, 3), stride=(1, 1), padding=(1, 1))\n",
       "            (20): ReLU(inplace=True)\n",
       "            (21): Conv2d(512, 512, kernel_size=(3, 3), stride=(1, 1), padding=(1, 1))\n",
       "            (22): ReLU(inplace=True)\n",
       "            (23): MaxPool2d(kernel_size=2, stride=2, padding=0, dilation=1, ceil_mode=False)\n",
       "            (24): Conv2d(512, 512, kernel_size=(3, 3), stride=(1, 1), padding=(1, 1))\n",
       "            (25): ReLU(inplace=True)\n",
       "            (26): Conv2d(512, 512, kernel_size=(3, 3), stride=(1, 1), padding=(1, 1))\n",
       "            (27): ReLU(inplace=True)\n",
       "            (28): Conv2d(512, 512, kernel_size=(3, 3), stride=(1, 1), padding=(1, 1))\n",
       "            (29): ReLU(inplace=True)\n",
       "            (30): MaxPool2d(kernel_size=2, stride=2, padding=0, dilation=1, ceil_mode=False)\n",
       "          )\n",
       "          (avgpool): AdaptiveAvgPool2d(output_size=(7, 7))\n",
       "        )\n",
       "        (final_conv): Sequential(\n",
       "          (0): Conv2d(512, 4096, kernel_size=(7, 7), stride=(1, 1), padding=same)\n",
       "          (1): ReLU(inplace=True)\n",
       "          (2): Conv2d(4096, 4096, kernel_size=(1, 1), stride=(1, 1), padding=same)\n",
       "          (3): ReLU(inplace=True)\n",
       "        )\n",
       "      )\n",
       "      (upsample_5): Sequential(\n",
       "        (0): ConvTranspose2d(4096, 512, kernel_size=(3, 3), stride=(2, 2), padding=(1, 1), output_padding=(1, 1), bias=False)\n",
       "        (1): ReLU(inplace=True)\n",
       "      )\n",
       "      (bn5): BatchNorm2d(512, eps=1e-05, momentum=0.1, affine=True, track_running_stats=True)\n",
       "      (upsample_4): Sequential(\n",
       "        (0): ConvTranspose2d(512, 256, kernel_size=(3, 3), stride=(2, 2), padding=(1, 1), output_padding=(1, 1), bias=False)\n",
       "        (1): ReLU(inplace=True)\n",
       "      )\n",
       "      (bn4): BatchNorm2d(256, eps=1e-05, momentum=0.1, affine=True, track_running_stats=True)\n",
       "      (upsample3): Sequential(\n",
       "        (0): ConvTranspose2d(256, 128, kernel_size=(3, 3), stride=(2, 2), padding=(1, 1), output_padding=(1, 1), bias=False)\n",
       "        (1): ReLU(inplace=True)\n",
       "        (2): BatchNorm2d(128, eps=1e-05, momentum=0.1, affine=True, track_running_stats=True)\n",
       "      )\n",
       "      (upsample2): Sequential(\n",
       "        (0): ConvTranspose2d(128, 64, kernel_size=(3, 3), stride=(2, 2), padding=(1, 1), output_padding=(1, 1), bias=False)\n",
       "        (1): ReLU(inplace=True)\n",
       "        (2): BatchNorm2d(64, eps=1e-05, momentum=0.1, affine=True, track_running_stats=True)\n",
       "      )\n",
       "      (upsample1): Sequential(\n",
       "        (0): ConvTranspose2d(64, 32, kernel_size=(3, 3), stride=(2, 2), padding=(1, 1), output_padding=(1, 1), bias=False)\n",
       "        (1): ReLU(inplace=True)\n",
       "        (2): BatchNorm2d(32, eps=1e-05, momentum=0.1, affine=True, track_running_stats=True)\n",
       "      )\n",
       "      (mask_classifier): Conv2d(32, 3, kernel_size=(1, 1), stride=(1, 1))\n",
       "      (image_classifier): Sequential(\n",
       "        (0): AdaptiveAvgPool2d(output_size=1)\n",
       "        (1): Flatten(start_dim=1, end_dim=-1)\n",
       "        (2): Linear(in_features=4096, out_features=512, bias=True)\n",
       "        (3): ReLU(inplace=True)\n",
       "        (4): Linear(in_features=512, out_features=256, bias=True)\n",
       "        (5): ReLU(inplace=True)\n",
       "        (6): Linear(in_features=256, out_features=3, bias=True)\n",
       "      )\n",
       "    )\n",
       "  )\n",
       ")"
      ]
     },
     "execution_count": 17,
     "metadata": {},
     "output_type": "execute_result"
    }
   ],
   "source": [
    "train_dl = DeviceDataLoader(train_dl, device)\n",
    "val_dl = DeviceDataLoader(val_dl, device)\n",
    "to_device(model, device)\n",
    "# train_dl.device"
   ]
  },
  {
   "cell_type": "code",
   "execution_count": 18,
   "metadata": {},
   "outputs": [],
   "source": [
    "num_epochs = 20  # Train for significantly more epochs than usual\n",
    "\n",
    "# history = fit(\n",
    "#     model=model,\n",
    "#     train_dataloader=train_dl,\n",
    "#     validation_dataloader=val_dl,\n",
    "#     epochs=num_epochs,\n",
    "#     lr=1e-4,\n",
    "#     opt_func=optim.Adam,\n",
    "# )"
   ]
  },
  {
   "cell_type": "code",
   "execution_count": 19,
   "metadata": {},
   "outputs": [],
   "source": [
    "from src.utils.visualizations import plot_losses\n",
    "\n",
    "# plot_losses(history)"
   ]
  },
  {
   "cell_type": "markdown",
   "metadata": {},
   "source": [
    "## Image Segmentation"
   ]
  },
  {
   "cell_type": "code",
   "execution_count": 20,
   "metadata": {},
   "outputs": [],
   "source": [
    "import enum\n",
    "\n",
    "\n",
    "class MetricKey(enum.Enum):\n",
    "    \"\"\"Keys for metrics dictionary.\"\"\"\n",
    "\n",
    "    # Classification\n",
    "    CLS_LOSS = \"cls_loss\"\n",
    "    CLS_ACC = \"cls_acc\"\n",
    "    VAL_CLS_LOSS = \"val_cls_loss\"\n",
    "    VAL_CLS_ACC = \"val_cls_acc\"\n",
    "\n",
    "    # Segmentation\n",
    "    SEG_LOSS = \"seg_loss\"\n",
    "    SEG_DICE = \"seg_dice\"\n",
    "    VAL_SEG_LOSS = \"val_seg_loss\"\n",
    "    VAL_SEG_DICE = \"val_seg_dice\"\n",
    "\n",
    "\n",
    "def fit_seg(\n",
    "    model,\n",
    "    train_dataloader,\n",
    "    validation_dataloader,\n",
    "    epochs: int = 2,\n",
    "    lr: float = 1e-3,\n",
    "    opt_func=torch.optim.Adam,\n",
    ") -> list[dict[str, float]]:\n",
    "    history = []\n",
    "    result = {}\n",
    "    optimizer = opt_func(model.parameters(), lr)\n",
    "    for epoch in range(epochs):\n",
    "        # Training Phase\n",
    "        model.train()\n",
    "        train_losses = []\n",
    "        masks_dice_sc = []\n",
    "        train_accuracies = []\n",
    "        cls_loss = []\n",
    "        masks_losses = []\n",
    "        for batch in train_dataloader:\n",
    "            step_output = model.training_step(batch)\n",
    "            seg_loss = step_output[f\"{MetricKey.SEG_LOSS.value}\"]\n",
    "            seg_dice = step_output[f\"{MetricKey.SEG_DICE.value}\"]\n",
    "\n",
    "            cls_acc = step_output[f\"{MetricKey.CLS_ACC.value}\"]\n",
    "            cls_loss = step_output[f\"{MetricKey.CLS_LOSS.value}\"]\n",
    "            # Detach loss and accuracy before appending to avoid holding onto computation graph\n",
    "            train_losses.append(cls_loss.detach())\n",
    "            masks_losses.append(seg_loss.detach())  # Assuming train_acc is a tensor\n",
    "            masks_dice_sc.append(seg_dice)  # Assuming train_acc is a tensor\n",
    "            train_accuracies.append(cls_acc.detach())  # Assuming train_acc is a tensor\n",
    "\n",
    "            seg_loss.backward()\n",
    "            optimizer.step()\n",
    "            optimizer.zero_grad()\n",
    "\n",
    "        # Validation Phase\n",
    "        result = evaluate(model, validation_dataloader)\n",
    "        result[f\"{MetricKey.CLS_LOSS.value}\"] = torch.stack(train_losses).mean().item()\n",
    "        result[f\"{MetricKey.SEG_LOSS.value}\"] = torch.stack(masks_losses).mean().item()\n",
    "        result[f\"{MetricKey.SEG_DICE.value}\"] = torch.stack(masks_dice_sc).mean().item()\n",
    "        result[f\"{MetricKey.CLS_ACC.value}\"] = torch.stack(train_accuracies).mean().item()\n",
    "        model.epoch_end(epoch, result)\n",
    "        history.append(result)\n",
    "    return history"
   ]
  },
  {
   "cell_type": "code",
   "execution_count": 21,
   "metadata": {},
   "outputs": [
    {
     "name": "stdout",
     "output_type": "stream",
     "text": [
      "Epoch [0] Validation Results: val_cls_loss=1.1023, val_cls_acc=0.2000, val_seg_loss=1.2019, val_seg_dice=0.1394\n",
      "Epoch [1] Validation Results: val_cls_loss=1.1025, val_cls_acc=0.2000, val_seg_loss=1.1943, val_seg_dice=0.1381\n",
      "Epoch [2] Validation Results: val_cls_loss=1.1030, val_cls_acc=0.2000, val_seg_loss=1.1889, val_seg_dice=0.1367\n",
      "Epoch [3] Validation Results: val_cls_loss=1.1035, val_cls_acc=0.2000, val_seg_loss=1.1851, val_seg_dice=0.1352\n",
      "Epoch [4] Validation Results: val_cls_loss=1.1039, val_cls_acc=0.2000, val_seg_loss=1.1823, val_seg_dice=0.1344\n",
      "Epoch [5] Validation Results: val_cls_loss=1.1052, val_cls_acc=0.2000, val_seg_loss=1.1805, val_seg_dice=0.1334\n",
      "Epoch [6] Validation Results: val_cls_loss=1.1066, val_cls_acc=0.1000, val_seg_loss=1.1785, val_seg_dice=0.1321\n",
      "Epoch [7] Validation Results: val_cls_loss=1.1019, val_cls_acc=0.3000, val_seg_loss=1.1744, val_seg_dice=0.1312\n",
      "Epoch [8] Validation Results: val_cls_loss=1.0994, val_cls_acc=0.6000, val_seg_loss=1.1677, val_seg_dice=0.1318\n",
      "Epoch [9] Validation Results: val_cls_loss=1.0983, val_cls_acc=0.6000, val_seg_loss=1.1644, val_seg_dice=0.1305\n",
      "Epoch [10] Validation Results: val_cls_loss=1.0988, val_cls_acc=0.6000, val_seg_loss=1.1542, val_seg_dice=0.1329\n",
      "Epoch [11] Validation Results: val_cls_loss=1.0980, val_cls_acc=0.6000, val_seg_loss=1.1515, val_seg_dice=0.1328\n",
      "Epoch [12] Validation Results: val_cls_loss=1.0907, val_cls_acc=0.6000, val_seg_loss=1.1741, val_seg_dice=0.1291\n",
      "Epoch [13] Validation Results: val_cls_loss=1.0806, val_cls_acc=0.6000, val_seg_loss=1.1326, val_seg_dice=0.1352\n",
      "Epoch [14] Validation Results: val_cls_loss=1.0795, val_cls_acc=0.6000, val_seg_loss=1.1153, val_seg_dice=0.1431\n",
      "Epoch [15] Validation Results: val_cls_loss=1.0751, val_cls_acc=0.6000, val_seg_loss=1.1042, val_seg_dice=0.1466\n",
      "Epoch [16] Validation Results: val_cls_loss=1.0848, val_cls_acc=0.6000, val_seg_loss=1.0818, val_seg_dice=0.1488\n",
      "Epoch [17] Validation Results: val_cls_loss=1.0736, val_cls_acc=0.6000, val_seg_loss=1.2219, val_seg_dice=0.1485\n",
      "Epoch [18] Validation Results: val_cls_loss=1.0655, val_cls_acc=0.6000, val_seg_loss=1.3571, val_seg_dice=0.1466\n",
      "Epoch [19] Validation Results: val_cls_loss=1.0582, val_cls_acc=0.6000, val_seg_loss=1.2223, val_seg_dice=0.1559\n",
      "Epoch [20] Validation Results: val_cls_loss=1.0534, val_cls_acc=0.6000, val_seg_loss=1.1399, val_seg_dice=0.1688\n",
      "Epoch [21] Validation Results: val_cls_loss=1.0605, val_cls_acc=0.6000, val_seg_loss=1.0620, val_seg_dice=0.1723\n",
      "Epoch [22] Validation Results: val_cls_loss=1.0686, val_cls_acc=0.6000, val_seg_loss=1.0286, val_seg_dice=0.1684\n",
      "Epoch [23] Validation Results: val_cls_loss=1.0730, val_cls_acc=0.6000, val_seg_loss=1.0216, val_seg_dice=0.1695\n",
      "Epoch [24] Validation Results: val_cls_loss=1.0637, val_cls_acc=0.6000, val_seg_loss=1.0403, val_seg_dice=0.1830\n",
      "Epoch [25] Validation Results: val_cls_loss=1.0602, val_cls_acc=0.6000, val_seg_loss=1.0623, val_seg_dice=0.1874\n",
      "Epoch [26] Validation Results: val_cls_loss=1.0614, val_cls_acc=0.6000, val_seg_loss=1.0245, val_seg_dice=0.1969\n",
      "Epoch [27] Validation Results: val_cls_loss=1.0686, val_cls_acc=0.6000, val_seg_loss=1.0350, val_seg_dice=0.1999\n",
      "Epoch [28] Validation Results: val_cls_loss=1.0764, val_cls_acc=0.6000, val_seg_loss=1.1002, val_seg_dice=0.2005\n",
      "Epoch [29] Validation Results: val_cls_loss=1.0751, val_cls_acc=0.6000, val_seg_loss=1.1878, val_seg_dice=0.1985\n",
      "Epoch [30] Validation Results: val_cls_loss=1.0767, val_cls_acc=0.6000, val_seg_loss=1.0728, val_seg_dice=0.2136\n",
      "Epoch [31] Validation Results: val_cls_loss=1.0721, val_cls_acc=0.6000, val_seg_loss=0.9994, val_seg_dice=0.2151\n",
      "Epoch [32] Validation Results: val_cls_loss=1.0690, val_cls_acc=0.6000, val_seg_loss=1.0020, val_seg_dice=0.2037\n",
      "Epoch [33] Validation Results: val_cls_loss=1.0696, val_cls_acc=0.6000, val_seg_loss=1.0301, val_seg_dice=0.2193\n",
      "Epoch [34] Validation Results: val_cls_loss=1.0735, val_cls_acc=0.6000, val_seg_loss=1.0612, val_seg_dice=0.2291\n",
      "Epoch [35] Validation Results: val_cls_loss=1.0769, val_cls_acc=0.6000, val_seg_loss=1.0487, val_seg_dice=0.2381\n",
      "Epoch [36] Validation Results: val_cls_loss=1.0799, val_cls_acc=0.6000, val_seg_loss=1.0174, val_seg_dice=0.2504\n",
      "Epoch [37] Validation Results: val_cls_loss=1.0803, val_cls_acc=0.6000, val_seg_loss=0.9934, val_seg_dice=0.2621\n",
      "Epoch [38] Validation Results: val_cls_loss=1.0821, val_cls_acc=0.6000, val_seg_loss=0.9865, val_seg_dice=0.2745\n",
      "Epoch [39] Validation Results: val_cls_loss=1.0843, val_cls_acc=0.6000, val_seg_loss=0.9983, val_seg_dice=0.2913\n",
      "Epoch [40] Validation Results: val_cls_loss=1.0852, val_cls_acc=0.6000, val_seg_loss=1.0053, val_seg_dice=0.3155\n",
      "Epoch [41] Validation Results: val_cls_loss=1.0859, val_cls_acc=0.6000, val_seg_loss=0.9917, val_seg_dice=0.3402\n",
      "Epoch [42] Validation Results: val_cls_loss=1.0849, val_cls_acc=0.6000, val_seg_loss=0.9716, val_seg_dice=0.3436\n",
      "Epoch [43] Validation Results: val_cls_loss=1.0853, val_cls_acc=0.6000, val_seg_loss=0.9891, val_seg_dice=0.3446\n",
      "Epoch [44] Validation Results: val_cls_loss=1.0855, val_cls_acc=0.6000, val_seg_loss=1.0090, val_seg_dice=0.3648\n",
      "Epoch [45] Validation Results: val_cls_loss=1.0851, val_cls_acc=0.6000, val_seg_loss=0.9885, val_seg_dice=0.3939\n",
      "Epoch [46] Validation Results: val_cls_loss=1.0855, val_cls_acc=0.6000, val_seg_loss=0.9477, val_seg_dice=0.4090\n",
      "Epoch [47] Validation Results: val_cls_loss=1.0866, val_cls_acc=0.6000, val_seg_loss=0.9338, val_seg_dice=0.4029\n",
      "Epoch [48] Validation Results: val_cls_loss=1.0866, val_cls_acc=0.6000, val_seg_loss=0.9305, val_seg_dice=0.4086\n",
      "Epoch [49] Validation Results: val_cls_loss=1.0857, val_cls_acc=0.6000, val_seg_loss=0.9289, val_seg_dice=0.4101\n",
      "Epoch [50] Validation Results: val_cls_loss=1.0854, val_cls_acc=0.6000, val_seg_loss=0.9451, val_seg_dice=0.4099\n",
      "Epoch [51] Validation Results: val_cls_loss=1.0867, val_cls_acc=0.6000, val_seg_loss=0.9640, val_seg_dice=0.4135\n",
      "Epoch [52] Validation Results: val_cls_loss=1.0907, val_cls_acc=0.5000, val_seg_loss=0.9494, val_seg_dice=0.4194\n",
      "Epoch [53] Validation Results: val_cls_loss=1.0939, val_cls_acc=0.5000, val_seg_loss=0.9291, val_seg_dice=0.4077\n",
      "Epoch [54] Validation Results: val_cls_loss=1.0943, val_cls_acc=0.5000, val_seg_loss=0.9302, val_seg_dice=0.4206\n",
      "Epoch [55] Validation Results: val_cls_loss=1.0952, val_cls_acc=0.5000, val_seg_loss=0.9603, val_seg_dice=0.4422\n",
      "Epoch [56] Validation Results: val_cls_loss=1.0969, val_cls_acc=0.4000, val_seg_loss=0.9488, val_seg_dice=0.4448\n",
      "Epoch [57] Validation Results: val_cls_loss=1.0962, val_cls_acc=0.5000, val_seg_loss=0.8997, val_seg_dice=0.4405\n",
      "Epoch [58] Validation Results: val_cls_loss=1.0969, val_cls_acc=0.5000, val_seg_loss=0.8899, val_seg_dice=0.4435\n",
      "Epoch [59] Validation Results: val_cls_loss=1.0974, val_cls_acc=0.5000, val_seg_loss=0.9034, val_seg_dice=0.4641\n",
      "Epoch [60] Validation Results: val_cls_loss=1.1006, val_cls_acc=0.5000, val_seg_loss=0.9085, val_seg_dice=0.4709\n",
      "Epoch [61] Validation Results: val_cls_loss=1.1036, val_cls_acc=0.5000, val_seg_loss=0.8925, val_seg_dice=0.4599\n",
      "Epoch [62] Validation Results: val_cls_loss=1.1064, val_cls_acc=0.5000, val_seg_loss=0.9220, val_seg_dice=0.4577\n",
      "Epoch [63] Validation Results: val_cls_loss=1.1082, val_cls_acc=0.3000, val_seg_loss=0.9617, val_seg_dice=0.4602\n",
      "Epoch [64] Validation Results: val_cls_loss=1.1054, val_cls_acc=0.3000, val_seg_loss=0.9298, val_seg_dice=0.4514\n",
      "Epoch [65] Validation Results: val_cls_loss=1.1044, val_cls_acc=0.3000, val_seg_loss=0.8842, val_seg_dice=0.4355\n",
      "Epoch [66] Validation Results: val_cls_loss=1.1032, val_cls_acc=0.5000, val_seg_loss=0.8667, val_seg_dice=0.4449\n",
      "Epoch [67] Validation Results: val_cls_loss=1.0985, val_cls_acc=0.4000, val_seg_loss=0.8775, val_seg_dice=0.4735\n",
      "Epoch [68] Validation Results: val_cls_loss=1.0933, val_cls_acc=0.5000, val_seg_loss=0.8658, val_seg_dice=0.4736\n",
      "Epoch [69] Validation Results: val_cls_loss=1.0963, val_cls_acc=0.5000, val_seg_loss=0.8525, val_seg_dice=0.4489\n",
      "Epoch [70] Validation Results: val_cls_loss=1.0984, val_cls_acc=0.5000, val_seg_loss=0.8596, val_seg_dice=0.4400\n",
      "Epoch [71] Validation Results: val_cls_loss=1.0986, val_cls_acc=0.4000, val_seg_loss=0.8794, val_seg_dice=0.4408\n",
      "Epoch [72] Validation Results: val_cls_loss=1.0988, val_cls_acc=0.3000, val_seg_loss=0.8754, val_seg_dice=0.3988\n",
      "Epoch [73] Validation Results: val_cls_loss=1.0967, val_cls_acc=0.3000, val_seg_loss=0.8795, val_seg_dice=0.4219\n",
      "Epoch [74] Validation Results: val_cls_loss=1.0947, val_cls_acc=0.5000, val_seg_loss=0.8841, val_seg_dice=0.4503\n",
      "Epoch [75] Validation Results: val_cls_loss=1.0923, val_cls_acc=0.6000, val_seg_loss=0.8699, val_seg_dice=0.4658\n",
      "Epoch [76] Validation Results: val_cls_loss=1.0896, val_cls_acc=0.5000, val_seg_loss=0.8363, val_seg_dice=0.4468\n",
      "Epoch [77] Validation Results: val_cls_loss=1.0899, val_cls_acc=0.5000, val_seg_loss=0.8245, val_seg_dice=0.4488\n",
      "Epoch [78] Validation Results: val_cls_loss=1.0879, val_cls_acc=0.5000, val_seg_loss=0.8418, val_seg_dice=0.4574\n",
      "Epoch [79] Validation Results: val_cls_loss=1.0872, val_cls_acc=0.6000, val_seg_loss=0.8509, val_seg_dice=0.4547\n",
      "Epoch [80] Validation Results: val_cls_loss=1.0880, val_cls_acc=0.6000, val_seg_loss=0.8490, val_seg_dice=0.4477\n",
      "Epoch [81] Validation Results: val_cls_loss=1.0893, val_cls_acc=0.5000, val_seg_loss=0.8455, val_seg_dice=0.4374\n",
      "Epoch [82] Validation Results: val_cls_loss=1.0891, val_cls_acc=0.5000, val_seg_loss=0.8403, val_seg_dice=0.4605\n",
      "Epoch [83] Validation Results: val_cls_loss=1.0881, val_cls_acc=0.6000, val_seg_loss=0.8607, val_seg_dice=0.4845\n",
      "Epoch [84] Validation Results: val_cls_loss=1.0875, val_cls_acc=0.6000, val_seg_loss=0.8794, val_seg_dice=0.4725\n",
      "Epoch [85] Validation Results: val_cls_loss=1.0872, val_cls_acc=0.4000, val_seg_loss=0.8477, val_seg_dice=0.4698\n",
      "Epoch [86] Validation Results: val_cls_loss=1.0903, val_cls_acc=0.5000, val_seg_loss=0.8503, val_seg_dice=0.4676\n",
      "Epoch [87] Validation Results: val_cls_loss=1.0912, val_cls_acc=0.6000, val_seg_loss=0.8563, val_seg_dice=0.4664\n",
      "Epoch [88] Validation Results: val_cls_loss=1.0896, val_cls_acc=0.7000, val_seg_loss=0.8442, val_seg_dice=0.4656\n",
      "Epoch [89] Validation Results: val_cls_loss=1.0888, val_cls_acc=0.6000, val_seg_loss=0.8452, val_seg_dice=0.4746\n",
      "Epoch [90] Validation Results: val_cls_loss=1.0888, val_cls_acc=0.5000, val_seg_loss=0.8548, val_seg_dice=0.4879\n",
      "Epoch [91] Validation Results: val_cls_loss=1.0908, val_cls_acc=0.6000, val_seg_loss=0.8440, val_seg_dice=0.4745\n",
      "Epoch [92] Validation Results: val_cls_loss=1.0922, val_cls_acc=0.5000, val_seg_loss=0.8465, val_seg_dice=0.4587\n",
      "Epoch [93] Validation Results: val_cls_loss=1.0930, val_cls_acc=0.5000, val_seg_loss=0.8358, val_seg_dice=0.4094\n",
      "Epoch [94] Validation Results: val_cls_loss=1.0920, val_cls_acc=0.5000, val_seg_loss=0.8387, val_seg_dice=0.4444\n",
      "Epoch [95] Validation Results: val_cls_loss=1.0916, val_cls_acc=0.5000, val_seg_loss=0.8355, val_seg_dice=0.4645\n",
      "Epoch [96] Validation Results: val_cls_loss=1.0920, val_cls_acc=0.5000, val_seg_loss=0.8321, val_seg_dice=0.4609\n",
      "Epoch [97] Validation Results: val_cls_loss=1.0895, val_cls_acc=0.7000, val_seg_loss=0.8379, val_seg_dice=0.4788\n",
      "Epoch [98] Validation Results: val_cls_loss=1.0865, val_cls_acc=0.5000, val_seg_loss=0.8340, val_seg_dice=0.4782\n",
      "Epoch [99] Validation Results: val_cls_loss=1.0850, val_cls_acc=0.5000, val_seg_loss=0.8382, val_seg_dice=0.5102\n",
      "Epoch [100] Validation Results: val_cls_loss=1.0839, val_cls_acc=0.5000, val_seg_loss=0.7925, val_seg_dice=0.4796\n",
      "Epoch [101] Validation Results: val_cls_loss=1.0877, val_cls_acc=0.5000, val_seg_loss=0.7727, val_seg_dice=0.3714\n",
      "Epoch [102] Validation Results: val_cls_loss=1.0876, val_cls_acc=0.5000, val_seg_loss=0.7913, val_seg_dice=0.4808\n",
      "Epoch [103] Validation Results: val_cls_loss=1.0890, val_cls_acc=0.5000, val_seg_loss=0.8000, val_seg_dice=0.4776\n",
      "Epoch [104] Validation Results: val_cls_loss=1.0905, val_cls_acc=0.5000, val_seg_loss=0.8051, val_seg_dice=0.4842\n",
      "Epoch [105] Validation Results: val_cls_loss=1.0924, val_cls_acc=0.5000, val_seg_loss=0.8126, val_seg_dice=0.4929\n",
      "Epoch [106] Validation Results: val_cls_loss=1.0931, val_cls_acc=0.5000, val_seg_loss=0.8016, val_seg_dice=0.4695\n",
      "Epoch [107] Validation Results: val_cls_loss=1.0929, val_cls_acc=0.5000, val_seg_loss=0.8057, val_seg_dice=0.4917\n",
      "Epoch [108] Validation Results: val_cls_loss=1.0925, val_cls_acc=0.5000, val_seg_loss=0.8100, val_seg_dice=0.5168\n",
      "Epoch [109] Validation Results: val_cls_loss=1.0923, val_cls_acc=0.6000, val_seg_loss=0.7942, val_seg_dice=0.5201\n",
      "Epoch [110] Validation Results: val_cls_loss=1.0901, val_cls_acc=0.6000, val_seg_loss=0.7642, val_seg_dice=0.5074\n",
      "Epoch [111] Validation Results: val_cls_loss=1.0897, val_cls_acc=0.6000, val_seg_loss=0.7755, val_seg_dice=0.5157\n",
      "Epoch [112] Validation Results: val_cls_loss=1.0899, val_cls_acc=0.6000, val_seg_loss=0.7840, val_seg_dice=0.5084\n",
      "Epoch [113] Validation Results: val_cls_loss=1.0911, val_cls_acc=0.6000, val_seg_loss=0.7838, val_seg_dice=0.4708\n",
      "Epoch [114] Validation Results: val_cls_loss=1.0922, val_cls_acc=0.6000, val_seg_loss=0.8030, val_seg_dice=0.4724\n",
      "Epoch [115] Validation Results: val_cls_loss=1.0915, val_cls_acc=0.6000, val_seg_loss=0.8165, val_seg_dice=0.4779\n",
      "Epoch [116] Validation Results: val_cls_loss=1.0892, val_cls_acc=0.6000, val_seg_loss=0.8378, val_seg_dice=0.5087\n",
      "Epoch [117] Validation Results: val_cls_loss=1.0883, val_cls_acc=0.6000, val_seg_loss=0.8065, val_seg_dice=0.5056\n",
      "Epoch [118] Validation Results: val_cls_loss=1.0893, val_cls_acc=0.6000, val_seg_loss=0.7870, val_seg_dice=0.4788\n",
      "Epoch [119] Validation Results: val_cls_loss=1.0896, val_cls_acc=0.6000, val_seg_loss=0.7962, val_seg_dice=0.4915\n"
     ]
    }
   ],
   "source": [
    "# TODO: try using dice loss\n",
    "history = fit_seg(\n",
    "    model=model,\n",
    "    train_dataloader=train_dl,\n",
    "    validation_dataloader=val_dl,\n",
    "    epochs=num_epochs + 100,\n",
    "    lr=1e-4,\n",
    "    opt_func=optim.AdamW,\n",
    ")"
   ]
  },
  {
   "cell_type": "code",
   "execution_count": 22,
   "metadata": {},
   "outputs": [
    {
     "data": {
      "text/plain": [
       "Text(0.5, 1.0, 'Loss vs. NO. of epochs')"
      ]
     },
     "execution_count": 22,
     "metadata": {},
     "output_type": "execute_result"
    },
    {
     "data": {
      "image/png": "[encoded data removed]",
      "text/plain": [
       "<Figure size 640x480 with 1 Axes>"
      ]
     },
     "metadata": {},
     "output_type": "display_data"
    }
   ],
   "source": [
    "import matplotlib.pyplot as plt\n",
    "\n",
    "seg_losses = [x[\"seg_loss\"] for x in history]\n",
    "seg_dice = [x[\"seg_dice\"] for x in history]\n",
    "\n",
    "plt.plot(seg_losses, \"-bx\")\n",
    "plt.plot(seg_dice, \"-rx\")\n",
    "\n",
    "plt.xlabel(\"epoch\")\n",
    "plt.ylabel(\"loss\")\n",
    "plt.grid()\n",
    "plt.legend([\"seg_loss\", \"seg_dice\"])\n",
    "plt.title(\"Loss vs. NO. of epochs\")"
   ]
  },
  {
   "cell_type": "code",
   "execution_count": null,
   "metadata": {},
   "outputs": [],
   "source": []
  },
  {
   "cell_type": "code",
   "execution_count": null,
   "metadata": {},
   "outputs": [],
   "source": []
  }
 ],
 "metadata": {
  "kernelspec": {
   "display_name": "base",
   "language": "python",
   "name": "python3"
  },
  "language_info": {
   "codemirror_mode": {
    "name": "ipython",
    "version": 3
   },
   "file_extension": ".py",
   "mimetype": "text/x-python",
   "name": "python",
   "nbconvert_exporter": "python",
   "pygments_lexer": "ipython3",
   "version": "3.11.11"
  }
 },
 "nbformat": 4,
 "nbformat_minor": 2
}
