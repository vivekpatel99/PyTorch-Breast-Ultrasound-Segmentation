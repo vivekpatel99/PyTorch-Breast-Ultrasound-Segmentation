{
 "cells": [
  {
   "cell_type": "markdown",
   "metadata": {},
   "source": [
    "# Setup to train full model with findinng proper weights to train each head (Classification + Segmentation)\n",
    "## Breast-Ultrasound-Segmentation\n",
    "\n",
    "## About Dataset\n",
    "Breast cancer is one of the most common causes of death among women worldwide. Early detection helps in reducing the number of early deaths. The data reviews the medical images of breast cancer using ultrasound scan. Breast Ultrasound Dataset is categorized into three classes: normal, benign, and malignant images. Breast ultrasound images can produce great results in classification, detection, and segmentation of breast cancer when combined with machine learning.\n",
    "\n",
    "### Data\n",
    "The data collected at baseline include breast ultrasound images among women in ages between 25 and 75 years old. This data was collected in 2018. The number of patients is 600 female patients. The dataset consists of 780 images with an average image size of 500*500 pixels. The images are in PNG format. The ground truth images are presented with original images. The images are categorized into three classes, which are normal, benign, and malignant.\n",
    "\n",
    "If you use this dataset, please cite:\n",
    "Al-Dhabyani W, Gomaa M, Khaled H, Fahmy A. Dataset of breast ultrasound images. Data in Brief. 2020 Feb;28:104863. DOI: 10.1016/j.dib.2019.104863."
   ]
  },
  {
   "cell_type": "markdown",
   "metadata": {},
   "source": [
    "## Imports"
   ]
  },
  {
   "cell_type": "code",
   "execution_count": 1,
   "metadata": {},
   "outputs": [],
   "source": [
    "import os\n",
    "\n",
    "import pyrootutils\n",
    "\n",
    "root = pyrootutils.setup_root(\n",
    "    search_from=os.path.dirname(os.getcwd()),\n",
    "    indicator=[\".git\", \"pyproject.toml\"],\n",
    "    pythonpath=True,\n",
    "    dotenv=True,\n",
    ")\n",
    "\n",
    "if os.getenv(\"DATA_ROOT\") is None:\n",
    "    os.environ[\"DATA_ROOT\"] = f\"{root}/data\""
   ]
  },
  {
   "cell_type": "code",
   "execution_count": 2,
   "metadata": {},
   "outputs": [
    {
     "name": "stdout",
     "output_type": "stream",
     "text": [
      "GPU Found!!\n"
     ]
    }
   ],
   "source": [
    "import torch\n",
    "import torch.nn as nn\n",
    "\n",
    "# Setup device-agnostic code\n",
    "if torch.cuda.is_available():\n",
    "    DEVICE = \"cuda\"  # NVIDIA GPU\n",
    "    print(\"GPU Found!!\")\n",
    "else:\n",
    "    raise Exception(\"No GPU Found!!\")"
   ]
  },
  {
   "cell_type": "code",
   "execution_count": 3,
   "metadata": {},
   "outputs": [],
   "source": [
    "import hydra\n",
    "from hydra import compose, initialize"
   ]
  },
  {
   "cell_type": "code",
   "execution_count": 4,
   "metadata": {},
   "outputs": [],
   "source": [
    "# # auto reload dotenv\n",
    "%load_ext dotenv\n",
    "%dotenv\n",
    "\n",
    "# auto reload libs\n",
    "%load_ext autoreload\n",
    "%autoreload 2"
   ]
  },
  {
   "cell_type": "markdown",
   "metadata": {},
   "source": [
    "## Paths setup"
   ]
  },
  {
   "cell_type": "code",
   "execution_count": 5,
   "metadata": {},
   "outputs": [
    {
     "name": "stdout",
     "output_type": "stream",
     "text": [
      "{'optimizer': {'_target_': 'torch.optim.Adam', '_partial_': True, 'lr': 0.001, 'weight_decay': 0.0, 'betas': [0.9, 0.999]}, 'scheduler': {'func': None}, 'model': {'_target_': 'src.models.vggnet_fcn_segmentation_model.VGGNetFCN16SegmentationModel', 'num_classes': 3}}\n"
     ]
    }
   ],
   "source": [
    "from omegaconf import DictConfig, OmegaConf\n",
    "\n",
    "# Register a resolver for torch dtypes\n",
    "OmegaConf.register_new_resolver(\"torch_dtype\", lambda name: getattr(torch, name))\n",
    "\n",
    "with initialize(config_path=\"../configs\", job_name=\"training_setup\", version_base=None):\n",
    "    cfg: DictConfig = compose(config_name=\"train.yaml\")\n",
    "    # print(OmegaConf.to_yaml(cfg))\n",
    "    print(cfg.models)"
   ]
  },
  {
   "cell_type": "code",
   "execution_count": 6,
   "metadata": {},
   "outputs": [],
   "source": [
    "os.chdir(root)"
   ]
  },
  {
   "cell_type": "markdown",
   "metadata": {},
   "source": [
    "## Loading Dataset"
   ]
  },
  {
   "cell_type": "code",
   "execution_count": 7,
   "metadata": {},
   "outputs": [
    {
     "data": {
      "text/plain": [
       "(['normal', 'malignant', 'benign'], 3, tensor([1.9774, 1.2494, 0.5903]))"
      ]
     },
     "execution_count": 7,
     "metadata": {},
     "output_type": "execute_result"
    }
   ],
   "source": [
    "data_module = hydra.utils.instantiate(cfg.datamodule)\n",
    "\n",
    "class_weights = data_module.class_weights\n",
    "class_names = data_module.classes\n",
    "num_classes = len(class_names)\n",
    "class_names, num_classes, class_weights"
   ]
  },
  {
   "cell_type": "code",
   "execution_count": 8,
   "metadata": {},
   "outputs": [],
   "source": [
    "import torch.optim as optim\n",
    "from torch.utils.data import DataLoader, Subset\n",
    "\n",
    "# # 1. Select a very small subset of your data\n",
    "train_dataset, val_dataset = data_module.split_and_preprocess_datasets()\n",
    "\n",
    "subset_indices = list(range(10))  # Select first 10 samples\n",
    "train_small_dataset = Subset(train_dataset, subset_indices)\n",
    "val_small_dataset = Subset(val_dataset, subset_indices)\n",
    "train_dl = DataLoader(train_small_dataset, batch_size=5, shuffle=False)\n",
    "val_dl = DataLoader(val_small_dataset, batch_size=5, shuffle=False)"
   ]
  },
  {
   "cell_type": "code",
   "execution_count": 9,
   "metadata": {},
   "outputs": [
    {
     "name": "stdout",
     "output_type": "stream",
     "text": [
      "torch.Size([5, 3, 224, 224]) torch.Size([5, 1, 224, 224]) torch.Size([5])\n",
      "images:torch.float32, -2.1179039478302, 2.640000104904175\n",
      "masks torch.uint8, 0, 1\n",
      "labels torch.int64, 1, 2\n"
     ]
    }
   ],
   "source": [
    "for images, targets in train_dl:\n",
    "    print(images.shape, targets[\"masks\"].shape, targets[\"labels\"].shape)\n",
    "\n",
    "    print(f\"images:{images.dtype}, {images[0].min()}, {images[0].max()}\")\n",
    "    print(\n",
    "        f'masks {targets[\"masks\"].dtype}, {targets[\"masks\"][0].min()}, {targets[\"masks\"][0].max()}'\n",
    "    )\n",
    "    print(\n",
    "        f'labels {targets[\"labels\"].dtype}, {targets[\"labels\"].min()}, {targets[\"labels\"].max()}'\n",
    "    )\n",
    "    break"
   ]
  },
  {
   "cell_type": "code",
   "execution_count": 10,
   "metadata": {},
   "outputs": [
    {
     "name": "stdout",
     "output_type": "stream",
     "text": [
      "torch.Size([5, 3, 224, 224]) torch.Size([5, 1, 224, 224]) torch.Size([5])\n",
      "images:torch.float32, -2.1179039478302, 2.5354254245758057\n",
      "masks torch.uint8, 0, 1\n",
      "labels torch.int64, 0, 2\n"
     ]
    }
   ],
   "source": [
    "for _images, _targets in val_dl:\n",
    "    print(_images.shape, _targets[\"masks\"].shape, _targets[\"labels\"].shape)\n",
    "\n",
    "    print(f\"images:{_images[0].dtype}, {_images[0].min()}, {_images[0].max()}\")\n",
    "    print(f'masks {_targets[\"masks\"].dtype}, {_targets[\"masks\"].min()}, {_targets[\"masks\"].max()}')\n",
    "    print(\n",
    "        f'labels {_targets[\"labels\"].dtype}, {_targets[\"labels\"].min()}, {_targets[\"labels\"].max()}'\n",
    "    )\n",
    "    break"
   ]
  },
  {
   "cell_type": "markdown",
   "metadata": {},
   "source": [
    "## Loading and training the FCN8 model "
   ]
  },
  {
   "cell_type": "code",
   "execution_count": 11,
   "metadata": {},
   "outputs": [],
   "source": [
    "from src.utils.gpu_utils import DeviceDataLoader, get_default_device, to_device\n",
    "\n",
    "torch.cuda.empty_cache()\n",
    "device = get_default_device()\n",
    "\n",
    "gpu_weights = to_device(class_weights, device)"
   ]
  },
  {
   "cell_type": "code",
   "execution_count": 12,
   "metadata": {},
   "outputs": [
    {
     "data": {
      "text/plain": [
       "OptimizedModule(\n",
       "  (_orig_mod): VGGNetFCN8SegmentationModel(\n",
       "    (segmentation_criterion): SoftDiceLoss()\n",
       "    (classification_criterion): CrossEntropyLoss()\n",
       "    (encoder): VGGNetEncoder(\n",
       "      (vgg): VGG(\n",
       "        (features): Sequential(\n",
       "          (0): Conv2d(3, 64, kernel_size=(3, 3), stride=(1, 1), padding=(1, 1))\n",
       "          (1): ReLU(inplace=True)\n",
       "          (2): Conv2d(64, 64, kernel_size=(3, 3), stride=(1, 1), padding=(1, 1))\n",
       "          (3): ReLU(inplace=True)\n",
       "          (4): MaxPool2d(kernel_size=2, stride=2, padding=0, dilation=1, ceil_mode=False)\n",
       "          (5): Conv2d(64, 128, kernel_size=(3, 3), stride=(1, 1), padding=(1, 1))\n",
       "          (6): ReLU(inplace=True)\n",
       "          (7): Conv2d(128, 128, kernel_size=(3, 3), stride=(1, 1), padding=(1, 1))\n",
       "          (8): ReLU(inplace=True)\n",
       "          (9): MaxPool2d(kernel_size=2, stride=2, padding=0, dilation=1, ceil_mode=False)\n",
       "          (10): Conv2d(128, 256, kernel_size=(3, 3), stride=(1, 1), padding=(1, 1))\n",
       "          (11): ReLU(inplace=True)\n",
       "          (12): Conv2d(256, 256, kernel_size=(3, 3), stride=(1, 1), padding=(1, 1))\n",
       "          (13): ReLU(inplace=True)\n",
       "          (14): Conv2d(256, 256, kernel_size=(3, 3), stride=(1, 1), padding=(1, 1))\n",
       "          (15): ReLU(inplace=True)\n",
       "          (16): MaxPool2d(kernel_size=2, stride=2, padding=0, dilation=1, ceil_mode=False)\n",
       "          (17): Conv2d(256, 512, kernel_size=(3, 3), stride=(1, 1), padding=(1, 1))\n",
       "          (18): ReLU(inplace=True)\n",
       "          (19): Conv2d(512, 512, kernel_size=(3, 3), stride=(1, 1), padding=(1, 1))\n",
       "          (20): ReLU(inplace=True)\n",
       "          (21): Conv2d(512, 512, kernel_size=(3, 3), stride=(1, 1), padding=(1, 1))\n",
       "          (22): ReLU(inplace=True)\n",
       "          (23): MaxPool2d(kernel_size=2, stride=2, padding=0, dilation=1, ceil_mode=False)\n",
       "          (24): Conv2d(512, 512, kernel_size=(3, 3), stride=(1, 1), padding=(1, 1))\n",
       "          (25): ReLU(inplace=True)\n",
       "          (26): Conv2d(512, 512, kernel_size=(3, 3), stride=(1, 1), padding=(1, 1))\n",
       "          (27): ReLU(inplace=True)\n",
       "          (28): Conv2d(512, 512, kernel_size=(3, 3), stride=(1, 1), padding=(1, 1))\n",
       "          (29): ReLU(inplace=True)\n",
       "          (30): MaxPool2d(kernel_size=2, stride=2, padding=0, dilation=1, ceil_mode=False)\n",
       "        )\n",
       "        (avgpool): AdaptiveAvgPool2d(output_size=(7, 7))\n",
       "      )\n",
       "      (final_conv): Sequential(\n",
       "        (0): Conv2d(512, 4096, kernel_size=(7, 7), stride=(1, 1), padding=same)\n",
       "        (1): ReLU(inplace=True)\n",
       "        (2): Conv2d(4096, 4096, kernel_size=(1, 1), stride=(1, 1), padding=same)\n",
       "        (3): ReLU(inplace=True)\n",
       "      )\n",
       "    )\n",
       "    (decoder): FCN8Decoder(\n",
       "      (encoder): VGGNetEncoder(\n",
       "        (vgg): VGG(\n",
       "          (features): Sequential(\n",
       "            (0): Conv2d(3, 64, kernel_size=(3, 3), stride=(1, 1), padding=(1, 1))\n",
       "            (1): ReLU(inplace=True)\n",
       "            (2): Conv2d(64, 64, kernel_size=(3, 3), stride=(1, 1), padding=(1, 1))\n",
       "            (3): ReLU(inplace=True)\n",
       "            (4): MaxPool2d(kernel_size=2, stride=2, padding=0, dilation=1, ceil_mode=False)\n",
       "            (5): Conv2d(64, 128, kernel_size=(3, 3), stride=(1, 1), padding=(1, 1))\n",
       "            (6): ReLU(inplace=True)\n",
       "            (7): Conv2d(128, 128, kernel_size=(3, 3), stride=(1, 1), padding=(1, 1))\n",
       "            (8): ReLU(inplace=True)\n",
       "            (9): MaxPool2d(kernel_size=2, stride=2, padding=0, dilation=1, ceil_mode=False)\n",
       "            (10): Conv2d(128, 256, kernel_size=(3, 3), stride=(1, 1), padding=(1, 1))\n",
       "            (11): ReLU(inplace=True)\n",
       "            (12): Conv2d(256, 256, kernel_size=(3, 3), stride=(1, 1), padding=(1, 1))\n",
       "            (13): ReLU(inplace=True)\n",
       "            (14): Conv2d(256, 256, kernel_size=(3, 3), stride=(1, 1), padding=(1, 1))\n",
       "            (15): ReLU(inplace=True)\n",
       "            (16): MaxPool2d(kernel_size=2, stride=2, padding=0, dilation=1, ceil_mode=False)\n",
       "            (17): Conv2d(256, 512, kernel_size=(3, 3), stride=(1, 1), padding=(1, 1))\n",
       "            (18): ReLU(inplace=True)\n",
       "            (19): Conv2d(512, 512, kernel_size=(3, 3), stride=(1, 1), padding=(1, 1))\n",
       "            (20): ReLU(inplace=True)\n",
       "            (21): Conv2d(512, 512, kernel_size=(3, 3), stride=(1, 1), padding=(1, 1))\n",
       "            (22): ReLU(inplace=True)\n",
       "            (23): MaxPool2d(kernel_size=2, stride=2, padding=0, dilation=1, ceil_mode=False)\n",
       "            (24): Conv2d(512, 512, kernel_size=(3, 3), stride=(1, 1), padding=(1, 1))\n",
       "            (25): ReLU(inplace=True)\n",
       "            (26): Conv2d(512, 512, kernel_size=(3, 3), stride=(1, 1), padding=(1, 1))\n",
       "            (27): ReLU(inplace=True)\n",
       "            (28): Conv2d(512, 512, kernel_size=(3, 3), stride=(1, 1), padding=(1, 1))\n",
       "            (29): ReLU(inplace=True)\n",
       "            (30): MaxPool2d(kernel_size=2, stride=2, padding=0, dilation=1, ceil_mode=False)\n",
       "          )\n",
       "          (avgpool): AdaptiveAvgPool2d(output_size=(7, 7))\n",
       "        )\n",
       "        (final_conv): Sequential(\n",
       "          (0): Conv2d(512, 4096, kernel_size=(7, 7), stride=(1, 1), padding=same)\n",
       "          (1): ReLU(inplace=True)\n",
       "          (2): Conv2d(4096, 4096, kernel_size=(1, 1), stride=(1, 1), padding=same)\n",
       "          (3): ReLU(inplace=True)\n",
       "        )\n",
       "      )\n",
       "      (upsample_5): Sequential(\n",
       "        (0): ConvTranspose2d(4096, 512, kernel_size=(3, 3), stride=(2, 2), padding=(1, 1), output_padding=(1, 1), bias=False)\n",
       "        (1): ReLU(inplace=True)\n",
       "      )\n",
       "      (bn5): BatchNorm2d(512, eps=1e-05, momentum=0.1, affine=True, track_running_stats=True)\n",
       "      (upsample_4): Sequential(\n",
       "        (0): ConvTranspose2d(512, 256, kernel_size=(3, 3), stride=(2, 2), padding=(1, 1), output_padding=(1, 1), bias=False)\n",
       "        (1): ReLU(inplace=True)\n",
       "      )\n",
       "      (bn4): BatchNorm2d(256, eps=1e-05, momentum=0.1, affine=True, track_running_stats=True)\n",
       "      (upsample3): Sequential(\n",
       "        (0): ConvTranspose2d(256, 128, kernel_size=(3, 3), stride=(2, 2), padding=(1, 1), output_padding=(1, 1), bias=False)\n",
       "        (1): ReLU(inplace=True)\n",
       "        (2): BatchNorm2d(128, eps=1e-05, momentum=0.1, affine=True, track_running_stats=True)\n",
       "      )\n",
       "      (upsample2): Sequential(\n",
       "        (0): ConvTranspose2d(128, 64, kernel_size=(3, 3), stride=(2, 2), padding=(1, 1), output_padding=(1, 1), bias=False)\n",
       "        (1): ReLU(inplace=True)\n",
       "        (2): BatchNorm2d(64, eps=1e-05, momentum=0.1, affine=True, track_running_stats=True)\n",
       "      )\n",
       "      (upsample1): Sequential(\n",
       "        (0): ConvTranspose2d(64, 32, kernel_size=(3, 3), stride=(2, 2), padding=(1, 1), output_padding=(1, 1), bias=False)\n",
       "        (1): ReLU(inplace=True)\n",
       "        (2): BatchNorm2d(32, eps=1e-05, momentum=0.1, affine=True, track_running_stats=True)\n",
       "      )\n",
       "      (mask_classifier): Conv2d(32, 1, kernel_size=(1, 1), stride=(1, 1))\n",
       "      (image_classifier): Sequential(\n",
       "        (0): AdaptiveAvgPool2d(output_size=1)\n",
       "        (1): Flatten(start_dim=1, end_dim=-1)\n",
       "        (2): Linear(in_features=4096, out_features=512, bias=True)\n",
       "        (3): ReLU(inplace=True)\n",
       "        (4): Linear(in_features=512, out_features=256, bias=True)\n",
       "        (5): ReLU(inplace=True)\n",
       "        (6): Linear(in_features=256, out_features=3, bias=True)\n",
       "      )\n",
       "    )\n",
       "  )\n",
       ")"
      ]
     },
     "execution_count": 12,
     "metadata": {},
     "output_type": "execute_result"
    }
   ],
   "source": [
    "from src.losses.dice_loss import SoftDiceLoss\n",
    "from src.models.vggnet_fcn8_segmentation_model import VGGNetFCN8SegmentationModel\n",
    "\n",
    "model = VGGNetFCN8SegmentationModel(\n",
    "    num_classes=num_classes,\n",
    "    vggnet_type=\"vgg16\",\n",
    "    segmentation_criterion=SoftDiceLoss(),  # nn.CrossEntropyLoss(),\n",
    "    classification_criterion=nn.CrossEntropyLoss(weight=gpu_weights),\n",
    ")\n",
    "model = torch.compile(model)\n",
    "model"
   ]
  },
  {
   "cell_type": "code",
   "execution_count": 13,
   "metadata": {},
   "outputs": [
    {
     "name": "stdout",
     "output_type": "stream",
     "text": [
      "tensor([-0.0435,  0.0072, -0.0249], grad_fn=<SelectBackward0>) torch.Size([5, 3])\n",
      "tensor([[[-0.3013,  1.0121, -0.9923,  ..., -0.3548, -1.5096,  0.1568],\n",
      "         [-0.4268, -0.8689,  1.1459,  ..., -4.8608,  0.2071,  0.7395],\n",
      "         [-0.4788,  0.1306, -2.2540,  ..., -2.4029,  0.3747, -0.4862],\n",
      "         ...,\n",
      "         [ 0.2484,  0.1647, -0.8105,  ...,  0.6102, -0.0219,  0.3082],\n",
      "         [ 0.0837, -0.2311, -0.0396,  ..., -0.7026, -0.1622, -0.6775],\n",
      "         [-0.0791, -0.4866, -0.0339,  ...,  0.5419, -0.3185, -0.2384]]],\n",
      "       grad_fn=<SelectBackward0>)\n",
      "torch.Size([5, 1, 224, 224])\n"
     ]
    }
   ],
   "source": [
    "for images, labels in train_dl:\n",
    "    # print(images.shape, labels)\n",
    "    out = model(images)\n",
    "    # l = labels['labels'][0]\n",
    "    # print(l , torch.argmax(l))\n",
    "    print(out[\"labels\"][0], out[\"labels\"].shape)\n",
    "    print(out[\"masks\"][0])\n",
    "    print(out[\"masks\"].shape)\n",
    "    break"
   ]
  },
  {
   "cell_type": "markdown",
   "metadata": {},
   "source": [
    "### Evaluate function"
   ]
  },
  {
   "cell_type": "code",
   "execution_count": 14,
   "metadata": {},
   "outputs": [],
   "source": [
    "@torch.no_grad()\n",
    "def evaluate(model, val_dl) -> dict[str, float]:\n",
    "    model.eval()  # set model to evaluate mode\n",
    "    outputs = [model.validation_step(batch) for batch in val_dl]\n",
    "    return model.validation_epoch_end(outputs)"
   ]
  },
  {
   "cell_type": "markdown",
   "metadata": {},
   "source": [
    "## GPU Training Setup"
   ]
  },
  {
   "cell_type": "markdown",
   "metadata": {},
   "source": [
    "## Moving data and model into memory"
   ]
  },
  {
   "cell_type": "code",
   "execution_count": 15,
   "metadata": {},
   "outputs": [
    {
     "data": {
      "text/plain": [
       "OptimizedModule(\n",
       "  (_orig_mod): VGGNetFCN8SegmentationModel(\n",
       "    (segmentation_criterion): SoftDiceLoss()\n",
       "    (classification_criterion): CrossEntropyLoss()\n",
       "    (encoder): VGGNetEncoder(\n",
       "      (vgg): VGG(\n",
       "        (features): Sequential(\n",
       "          (0): Conv2d(3, 64, kernel_size=(3, 3), stride=(1, 1), padding=(1, 1))\n",
       "          (1): ReLU(inplace=True)\n",
       "          (2): Conv2d(64, 64, kernel_size=(3, 3), stride=(1, 1), padding=(1, 1))\n",
       "          (3): ReLU(inplace=True)\n",
       "          (4): MaxPool2d(kernel_size=2, stride=2, padding=0, dilation=1, ceil_mode=False)\n",
       "          (5): Conv2d(64, 128, kernel_size=(3, 3), stride=(1, 1), padding=(1, 1))\n",
       "          (6): ReLU(inplace=True)\n",
       "          (7): Conv2d(128, 128, kernel_size=(3, 3), stride=(1, 1), padding=(1, 1))\n",
       "          (8): ReLU(inplace=True)\n",
       "          (9): MaxPool2d(kernel_size=2, stride=2, padding=0, dilation=1, ceil_mode=False)\n",
       "          (10): Conv2d(128, 256, kernel_size=(3, 3), stride=(1, 1), padding=(1, 1))\n",
       "          (11): ReLU(inplace=True)\n",
       "          (12): Conv2d(256, 256, kernel_size=(3, 3), stride=(1, 1), padding=(1, 1))\n",
       "          (13): ReLU(inplace=True)\n",
       "          (14): Conv2d(256, 256, kernel_size=(3, 3), stride=(1, 1), padding=(1, 1))\n",
       "          (15): ReLU(inplace=True)\n",
       "          (16): MaxPool2d(kernel_size=2, stride=2, padding=0, dilation=1, ceil_mode=False)\n",
       "          (17): Conv2d(256, 512, kernel_size=(3, 3), stride=(1, 1), padding=(1, 1))\n",
       "          (18): ReLU(inplace=True)\n",
       "          (19): Conv2d(512, 512, kernel_size=(3, 3), stride=(1, 1), padding=(1, 1))\n",
       "          (20): ReLU(inplace=True)\n",
       "          (21): Conv2d(512, 512, kernel_size=(3, 3), stride=(1, 1), padding=(1, 1))\n",
       "          (22): ReLU(inplace=True)\n",
       "          (23): MaxPool2d(kernel_size=2, stride=2, padding=0, dilation=1, ceil_mode=False)\n",
       "          (24): Conv2d(512, 512, kernel_size=(3, 3), stride=(1, 1), padding=(1, 1))\n",
       "          (25): ReLU(inplace=True)\n",
       "          (26): Conv2d(512, 512, kernel_size=(3, 3), stride=(1, 1), padding=(1, 1))\n",
       "          (27): ReLU(inplace=True)\n",
       "          (28): Conv2d(512, 512, kernel_size=(3, 3), stride=(1, 1), padding=(1, 1))\n",
       "          (29): ReLU(inplace=True)\n",
       "          (30): MaxPool2d(kernel_size=2, stride=2, padding=0, dilation=1, ceil_mode=False)\n",
       "        )\n",
       "        (avgpool): AdaptiveAvgPool2d(output_size=(7, 7))\n",
       "      )\n",
       "      (final_conv): Sequential(\n",
       "        (0): Conv2d(512, 4096, kernel_size=(7, 7), stride=(1, 1), padding=same)\n",
       "        (1): ReLU(inplace=True)\n",
       "        (2): Conv2d(4096, 4096, kernel_size=(1, 1), stride=(1, 1), padding=same)\n",
       "        (3): ReLU(inplace=True)\n",
       "      )\n",
       "    )\n",
       "    (decoder): FCN8Decoder(\n",
       "      (encoder): VGGNetEncoder(\n",
       "        (vgg): VGG(\n",
       "          (features): Sequential(\n",
       "            (0): Conv2d(3, 64, kernel_size=(3, 3), stride=(1, 1), padding=(1, 1))\n",
       "            (1): ReLU(inplace=True)\n",
       "            (2): Conv2d(64, 64, kernel_size=(3, 3), stride=(1, 1), padding=(1, 1))\n",
       "            (3): ReLU(inplace=True)\n",
       "            (4): MaxPool2d(kernel_size=2, stride=2, padding=0, dilation=1, ceil_mode=False)\n",
       "            (5): Conv2d(64, 128, kernel_size=(3, 3), stride=(1, 1), padding=(1, 1))\n",
       "            (6): ReLU(inplace=True)\n",
       "            (7): Conv2d(128, 128, kernel_size=(3, 3), stride=(1, 1), padding=(1, 1))\n",
       "            (8): ReLU(inplace=True)\n",
       "            (9): MaxPool2d(kernel_size=2, stride=2, padding=0, dilation=1, ceil_mode=False)\n",
       "            (10): Conv2d(128, 256, kernel_size=(3, 3), stride=(1, 1), padding=(1, 1))\n",
       "            (11): ReLU(inplace=True)\n",
       "            (12): Conv2d(256, 256, kernel_size=(3, 3), stride=(1, 1), padding=(1, 1))\n",
       "            (13): ReLU(inplace=True)\n",
       "            (14): Conv2d(256, 256, kernel_size=(3, 3), stride=(1, 1), padding=(1, 1))\n",
       "            (15): ReLU(inplace=True)\n",
       "            (16): MaxPool2d(kernel_size=2, stride=2, padding=0, dilation=1, ceil_mode=False)\n",
       "            (17): Conv2d(256, 512, kernel_size=(3, 3), stride=(1, 1), padding=(1, 1))\n",
       "            (18): ReLU(inplace=True)\n",
       "            (19): Conv2d(512, 512, kernel_size=(3, 3), stride=(1, 1), padding=(1, 1))\n",
       "            (20): ReLU(inplace=True)\n",
       "            (21): Conv2d(512, 512, kernel_size=(3, 3), stride=(1, 1), padding=(1, 1))\n",
       "            (22): ReLU(inplace=True)\n",
       "            (23): MaxPool2d(kernel_size=2, stride=2, padding=0, dilation=1, ceil_mode=False)\n",
       "            (24): Conv2d(512, 512, kernel_size=(3, 3), stride=(1, 1), padding=(1, 1))\n",
       "            (25): ReLU(inplace=True)\n",
       "            (26): Conv2d(512, 512, kernel_size=(3, 3), stride=(1, 1), padding=(1, 1))\n",
       "            (27): ReLU(inplace=True)\n",
       "            (28): Conv2d(512, 512, kernel_size=(3, 3), stride=(1, 1), padding=(1, 1))\n",
       "            (29): ReLU(inplace=True)\n",
       "            (30): MaxPool2d(kernel_size=2, stride=2, padding=0, dilation=1, ceil_mode=False)\n",
       "          )\n",
       "          (avgpool): AdaptiveAvgPool2d(output_size=(7, 7))\n",
       "        )\n",
       "        (final_conv): Sequential(\n",
       "          (0): Conv2d(512, 4096, kernel_size=(7, 7), stride=(1, 1), padding=same)\n",
       "          (1): ReLU(inplace=True)\n",
       "          (2): Conv2d(4096, 4096, kernel_size=(1, 1), stride=(1, 1), padding=same)\n",
       "          (3): ReLU(inplace=True)\n",
       "        )\n",
       "      )\n",
       "      (upsample_5): Sequential(\n",
       "        (0): ConvTranspose2d(4096, 512, kernel_size=(3, 3), stride=(2, 2), padding=(1, 1), output_padding=(1, 1), bias=False)\n",
       "        (1): ReLU(inplace=True)\n",
       "      )\n",
       "      (bn5): BatchNorm2d(512, eps=1e-05, momentum=0.1, affine=True, track_running_stats=True)\n",
       "      (upsample_4): Sequential(\n",
       "        (0): ConvTranspose2d(512, 256, kernel_size=(3, 3), stride=(2, 2), padding=(1, 1), output_padding=(1, 1), bias=False)\n",
       "        (1): ReLU(inplace=True)\n",
       "      )\n",
       "      (bn4): BatchNorm2d(256, eps=1e-05, momentum=0.1, affine=True, track_running_stats=True)\n",
       "      (upsample3): Sequential(\n",
       "        (0): ConvTranspose2d(256, 128, kernel_size=(3, 3), stride=(2, 2), padding=(1, 1), output_padding=(1, 1), bias=False)\n",
       "        (1): ReLU(inplace=True)\n",
       "        (2): BatchNorm2d(128, eps=1e-05, momentum=0.1, affine=True, track_running_stats=True)\n",
       "      )\n",
       "      (upsample2): Sequential(\n",
       "        (0): ConvTranspose2d(128, 64, kernel_size=(3, 3), stride=(2, 2), padding=(1, 1), output_padding=(1, 1), bias=False)\n",
       "        (1): ReLU(inplace=True)\n",
       "        (2): BatchNorm2d(64, eps=1e-05, momentum=0.1, affine=True, track_running_stats=True)\n",
       "      )\n",
       "      (upsample1): Sequential(\n",
       "        (0): ConvTranspose2d(64, 32, kernel_size=(3, 3), stride=(2, 2), padding=(1, 1), output_padding=(1, 1), bias=False)\n",
       "        (1): ReLU(inplace=True)\n",
       "        (2): BatchNorm2d(32, eps=1e-05, momentum=0.1, affine=True, track_running_stats=True)\n",
       "      )\n",
       "      (mask_classifier): Conv2d(32, 1, kernel_size=(1, 1), stride=(1, 1))\n",
       "      (image_classifier): Sequential(\n",
       "        (0): AdaptiveAvgPool2d(output_size=1)\n",
       "        (1): Flatten(start_dim=1, end_dim=-1)\n",
       "        (2): Linear(in_features=4096, out_features=512, bias=True)\n",
       "        (3): ReLU(inplace=True)\n",
       "        (4): Linear(in_features=512, out_features=256, bias=True)\n",
       "        (5): ReLU(inplace=True)\n",
       "        (6): Linear(in_features=256, out_features=3, bias=True)\n",
       "      )\n",
       "    )\n",
       "  )\n",
       ")"
      ]
     },
     "execution_count": 15,
     "metadata": {},
     "output_type": "execute_result"
    }
   ],
   "source": [
    "train_dl = DeviceDataLoader(train_dl, device)\n",
    "val_dl = DeviceDataLoader(val_dl, device)\n",
    "to_device(model, device)\n",
    "# train_dl.device"
   ]
  },
  {
   "cell_type": "markdown",
   "metadata": {},
   "source": [
    "## Overfiting the model"
   ]
  },
  {
   "cell_type": "code",
   "execution_count": 16,
   "metadata": {},
   "outputs": [],
   "source": [
    "import enum\n",
    "\n",
    "\n",
    "class MetricKey(enum.Enum):\n",
    "    \"\"\"Keys for metrics dictionary.\"\"\"\n",
    "\n",
    "    # Classification\n",
    "    CLS_LOSS = \"cls_loss\"\n",
    "    CLS_ACC = \"cls_acc\"\n",
    "    VAL_CLS_LOSS = \"val_cls_loss\"\n",
    "    VAL_CLS_ACC = \"val_cls_acc\"\n",
    "\n",
    "    # Segmentation\n",
    "    SEG_LOSS = \"seg_loss\"\n",
    "    SEG_DICE = \"seg_dice\"\n",
    "    VAL_SEG_LOSS = \"val_seg_loss\"\n",
    "    VAL_SEG_DICE = \"val_seg_dice\"\n",
    "\n",
    "\n",
    "def fit(\n",
    "    model,\n",
    "    train_dataloader,\n",
    "    validation_dataloader,\n",
    "    epochs: int = 2,\n",
    "    lr: float = 1e-3,\n",
    "    opt_func=torch.optim.Adam,\n",
    ") -> list[dict[str, float]]:\n",
    "    history = []\n",
    "    result = {}\n",
    "    optimizer = opt_func(model.parameters(), lr)\n",
    "    for epoch in range(epochs):\n",
    "        # Training Phase\n",
    "        model.train()\n",
    "        train_losses = []\n",
    "        masks_dice_sc = []\n",
    "        train_accuracies = []\n",
    "        cls_loss = []\n",
    "        masks_losses = []\n",
    "        for batch in train_dataloader:\n",
    "            step_output = model.training_step(batch)\n",
    "            seg_loss = step_output[f\"{MetricKey.SEG_LOSS.value}\"]\n",
    "            seg_dice = step_output[f\"{MetricKey.SEG_DICE.value}\"]\n",
    "\n",
    "            cls_acc = step_output[f\"{MetricKey.CLS_ACC.value}\"]\n",
    "            cls_loss = step_output[f\"{MetricKey.CLS_LOSS.value}\"]\n",
    "            # Detach loss and accuracy before appending to avoid holding onto computation graph\n",
    "            train_losses.append(cls_loss.detach())\n",
    "            masks_losses.append(seg_loss.detach())  # Assuming train_acc is a tensor\n",
    "            masks_dice_sc.append(seg_dice)  # Assuming train_acc is a tensor\n",
    "            train_accuracies.append(cls_acc.detach())  # Assuming train_acc is a tensor\n",
    "\n",
    "            seg_loss.backward()\n",
    "            optimizer.step()\n",
    "            optimizer.zero_grad()\n",
    "\n",
    "        # Validation Phase\n",
    "        result = evaluate(model, validation_dataloader)\n",
    "        result[f\"{MetricKey.CLS_LOSS.value}\"] = torch.stack(train_losses).mean().item()\n",
    "        result[f\"{MetricKey.SEG_LOSS.value}\"] = torch.stack(masks_losses).mean().item()\n",
    "        result[f\"{MetricKey.SEG_DICE.value}\"] = torch.stack(masks_dice_sc).mean().item()\n",
    "        result[f\"{MetricKey.CLS_ACC.value}\"] = torch.stack(train_accuracies).mean().item()\n",
    "        model.epoch_end(epoch, result)\n",
    "        history.append(result)\n",
    "    return history"
   ]
  },
  {
   "cell_type": "code",
   "execution_count": 17,
   "metadata": {},
   "outputs": [
    {
     "name": "stdout",
     "output_type": "stream",
     "text": [
      "Epoch [0] Validation Results: val_cls_loss=1.1794, val_cls_acc=0.2000, seg_loss=0.7888, val_seg_loss=0.7666, seg_dice=0.1180, val_seg_dice=0.1242\n",
      "Epoch [1] Validation Results: val_cls_loss=2.9000, val_cls_acc=0.2000, seg_loss=0.7474, val_seg_loss=0.7512, seg_dice=0.1444, val_seg_dice=0.1249\n",
      "Epoch [2] Validation Results: val_cls_loss=1.2276, val_cls_acc=0.2000, seg_loss=0.6998, val_seg_loss=0.7473, seg_dice=0.1806, val_seg_dice=0.1290\n",
      "Epoch [3] Validation Results: val_cls_loss=1.1295, val_cls_acc=0.2000, seg_loss=0.6376, val_seg_loss=0.7531, seg_dice=0.2191, val_seg_dice=0.1280\n",
      "Epoch [4] Validation Results: val_cls_loss=4.1974, val_cls_acc=0.2000, seg_loss=0.6630, val_seg_loss=0.6806, seg_dice=0.2025, val_seg_dice=0.1690\n",
      "Epoch [5] Validation Results: val_cls_loss=19.5770, val_cls_acc=0.2000, seg_loss=0.6179, val_seg_loss=0.6841, seg_dice=0.2359, val_seg_dice=0.1543\n",
      "Epoch [6] Validation Results: val_cls_loss=52.1355, val_cls_acc=0.2000, seg_loss=0.6012, val_seg_loss=0.7089, seg_dice=0.2435, val_seg_dice=0.1420\n",
      "Epoch [7] Validation Results: val_cls_loss=84.3512, val_cls_acc=0.2000, seg_loss=0.5769, val_seg_loss=0.7113, seg_dice=0.2494, val_seg_dice=0.1472\n",
      "Epoch [8] Validation Results: val_cls_loss=123.8192, val_cls_acc=0.2000, seg_loss=0.5867, val_seg_loss=0.6630, seg_dice=0.2446, val_seg_dice=0.1927\n",
      "Epoch [9] Validation Results: val_cls_loss=87.1723, val_cls_acc=0.2000, seg_loss=0.5661, val_seg_loss=0.7286, seg_dice=0.2568, val_seg_dice=0.1390\n",
      "Epoch [10] Validation Results: val_cls_loss=52.4625, val_cls_acc=0.2000, seg_loss=0.5442, val_seg_loss=0.7303, seg_dice=0.2642, val_seg_dice=0.2053\n",
      "Epoch [11] Validation Results: val_cls_loss=58.3902, val_cls_acc=0.6000, seg_loss=0.5518, val_seg_loss=0.7017, seg_dice=0.2770, val_seg_dice=0.2204\n",
      "Epoch [12] Validation Results: val_cls_loss=122.3802, val_cls_acc=0.2000, seg_loss=0.5396, val_seg_loss=0.5939, seg_dice=0.2746, val_seg_dice=0.2161\n",
      "Epoch [13] Validation Results: val_cls_loss=351.3574, val_cls_acc=0.2000, seg_loss=0.5109, val_seg_loss=0.6024, seg_dice=0.2752, val_seg_dice=0.2415\n",
      "Epoch [14] Validation Results: val_cls_loss=780.9042, val_cls_acc=0.2000, seg_loss=0.4933, val_seg_loss=0.6090, seg_dice=0.2997, val_seg_dice=0.2440\n",
      "Epoch [15] Validation Results: val_cls_loss=1582.9692, val_cls_acc=0.2000, seg_loss=0.4805, val_seg_loss=0.6418, seg_dice=0.3014, val_seg_dice=0.1645\n",
      "Epoch [16] Validation Results: val_cls_loss=2058.0828, val_cls_acc=0.2000, seg_loss=0.4645, val_seg_loss=0.6629, seg_dice=0.2988, val_seg_dice=0.1521\n",
      "Epoch [17] Validation Results: val_cls_loss=2388.1023, val_cls_acc=0.2000, seg_loss=0.4825, val_seg_loss=0.5330, seg_dice=0.2882, val_seg_dice=0.2459\n",
      "Epoch [18] Validation Results: val_cls_loss=2457.3140, val_cls_acc=0.2000, seg_loss=0.4467, val_seg_loss=0.6412, seg_dice=0.3150, val_seg_dice=0.2431\n",
      "Epoch [19] Validation Results: val_cls_loss=3603.1519, val_cls_acc=0.2000, seg_loss=0.4479, val_seg_loss=0.5311, seg_dice=0.3196, val_seg_dice=0.2538\n",
      "Epoch [20] Validation Results: val_cls_loss=4241.6035, val_cls_acc=0.2000, seg_loss=0.4320, val_seg_loss=0.5407, seg_dice=0.3205, val_seg_dice=0.2434\n",
      "Epoch [21] Validation Results: val_cls_loss=2944.7231, val_cls_acc=0.2000, seg_loss=0.4219, val_seg_loss=0.6136, seg_dice=0.3267, val_seg_dice=0.2593\n",
      "Epoch [22] Validation Results: val_cls_loss=3174.1155, val_cls_acc=0.2000, seg_loss=0.3952, val_seg_loss=0.5427, seg_dice=0.3427, val_seg_dice=0.2607\n",
      "Epoch [23] Validation Results: val_cls_loss=3531.9795, val_cls_acc=0.2000, seg_loss=0.3819, val_seg_loss=0.5354, seg_dice=0.3450, val_seg_dice=0.2446\n",
      "Epoch [24] Validation Results: val_cls_loss=3755.0391, val_cls_acc=0.2000, seg_loss=0.3780, val_seg_loss=0.5391, seg_dice=0.3439, val_seg_dice=0.2913\n",
      "Epoch [25] Validation Results: val_cls_loss=4901.3647, val_cls_acc=0.2000, seg_loss=0.3689, val_seg_loss=0.6188, seg_dice=0.3594, val_seg_dice=0.1753\n",
      "Epoch [26] Validation Results: val_cls_loss=4614.3145, val_cls_acc=0.2000, seg_loss=0.3452, val_seg_loss=0.5047, seg_dice=0.3655, val_seg_dice=0.2479\n",
      "Epoch [27] Validation Results: val_cls_loss=4915.0127, val_cls_acc=0.2000, seg_loss=0.3346, val_seg_loss=0.5854, seg_dice=0.3739, val_seg_dice=0.2005\n",
      "Epoch [28] Validation Results: val_cls_loss=5088.0791, val_cls_acc=0.2000, seg_loss=0.3195, val_seg_loss=0.5893, seg_dice=0.3769, val_seg_dice=0.2047\n",
      "Epoch [29] Validation Results: val_cls_loss=4165.6035, val_cls_acc=0.2000, seg_loss=0.3238, val_seg_loss=0.4678, seg_dice=0.3821, val_seg_dice=0.3064\n",
      "Epoch [30] Validation Results: val_cls_loss=4489.7905, val_cls_acc=0.2000, seg_loss=0.3263, val_seg_loss=0.5418, seg_dice=0.3748, val_seg_dice=0.2264\n",
      "Epoch [31] Validation Results: val_cls_loss=4495.4468, val_cls_acc=0.2000, seg_loss=0.2882, val_seg_loss=0.4594, seg_dice=0.3968, val_seg_dice=0.3075\n",
      "Epoch [32] Validation Results: val_cls_loss=5315.8423, val_cls_acc=0.2000, seg_loss=0.2982, val_seg_loss=0.6196, seg_dice=0.4108, val_seg_dice=0.1885\n",
      "Epoch [33] Validation Results: val_cls_loss=6646.3872, val_cls_acc=0.2000, seg_loss=0.2814, val_seg_loss=0.5559, seg_dice=0.4032, val_seg_dice=0.2323\n",
      "Epoch [34] Validation Results: val_cls_loss=7435.3984, val_cls_acc=0.2000, seg_loss=0.2629, val_seg_loss=0.5698, seg_dice=0.4249, val_seg_dice=0.2296\n",
      "Epoch [35] Validation Results: val_cls_loss=6827.5205, val_cls_acc=0.2000, seg_loss=0.2664, val_seg_loss=0.6163, seg_dice=0.4153, val_seg_dice=0.2054\n",
      "Epoch [36] Validation Results: val_cls_loss=5213.5859, val_cls_acc=0.2000, seg_loss=0.2469, val_seg_loss=0.4933, seg_dice=0.4291, val_seg_dice=0.3233\n",
      "Epoch [37] Validation Results: val_cls_loss=3983.3955, val_cls_acc=0.2000, seg_loss=0.2350, val_seg_loss=0.5072, seg_dice=0.4627, val_seg_dice=0.3049\n",
      "Epoch [38] Validation Results: val_cls_loss=4158.0889, val_cls_acc=0.2000, seg_loss=0.2347, val_seg_loss=0.4826, seg_dice=0.4467, val_seg_dice=0.3018\n",
      "Epoch [39] Validation Results: val_cls_loss=4477.0771, val_cls_acc=0.2000, seg_loss=0.2092, val_seg_loss=0.4305, seg_dice=0.4666, val_seg_dice=0.3609\n",
      "Epoch [40] Validation Results: val_cls_loss=5502.9180, val_cls_acc=0.2000, seg_loss=0.2068, val_seg_loss=0.6335, seg_dice=0.4677, val_seg_dice=0.2026\n",
      "Epoch [41] Validation Results: val_cls_loss=5979.1641, val_cls_acc=0.2000, seg_loss=0.2019, val_seg_loss=0.6545, seg_dice=0.4741, val_seg_dice=0.1929\n",
      "Epoch [42] Validation Results: val_cls_loss=4893.8755, val_cls_acc=0.2000, seg_loss=0.1826, val_seg_loss=0.5111, seg_dice=0.4914, val_seg_dice=0.2970\n",
      "Epoch [43] Validation Results: val_cls_loss=5636.1587, val_cls_acc=0.2000, seg_loss=0.1706, val_seg_loss=0.6071, seg_dice=0.5127, val_seg_dice=0.2232\n",
      "Epoch [44] Validation Results: val_cls_loss=5080.6362, val_cls_acc=0.2000, seg_loss=0.1743, val_seg_loss=0.6003, seg_dice=0.5012, val_seg_dice=0.2418\n",
      "Epoch [45] Validation Results: val_cls_loss=4575.5918, val_cls_acc=0.2000, seg_loss=0.1560, val_seg_loss=0.5791, seg_dice=0.5174, val_seg_dice=0.2633\n",
      "Epoch [46] Validation Results: val_cls_loss=4279.8350, val_cls_acc=0.2000, seg_loss=0.1500, val_seg_loss=0.5781, seg_dice=0.5381, val_seg_dice=0.2676\n",
      "Epoch [47] Validation Results: val_cls_loss=3578.0981, val_cls_acc=0.2000, seg_loss=0.1515, val_seg_loss=0.5629, seg_dice=0.5334, val_seg_dice=0.2819\n",
      "Epoch [48] Validation Results: val_cls_loss=3219.1934, val_cls_acc=0.2000, seg_loss=0.1367, val_seg_loss=0.4739, seg_dice=0.5494, val_seg_dice=0.3777\n",
      "Epoch [49] Validation Results: val_cls_loss=4106.0361, val_cls_acc=0.2000, seg_loss=0.1360, val_seg_loss=0.5817, seg_dice=0.5700, val_seg_dice=0.2655\n",
      "Epoch [50] Validation Results: val_cls_loss=4178.1328, val_cls_acc=0.2000, seg_loss=0.1386, val_seg_loss=0.4432, seg_dice=0.5317, val_seg_dice=0.3856\n",
      "Epoch [51] Validation Results: val_cls_loss=5167.7764, val_cls_acc=0.2000, seg_loss=0.1527, val_seg_loss=0.6331, seg_dice=0.5714, val_seg_dice=0.2399\n",
      "Epoch [52] Validation Results: val_cls_loss=5635.5356, val_cls_acc=0.2000, seg_loss=0.1456, val_seg_loss=0.5594, seg_dice=0.5537, val_seg_dice=0.3074\n",
      "Epoch [53] Validation Results: val_cls_loss=6884.4873, val_cls_acc=0.2000, seg_loss=0.1278, val_seg_loss=0.5934, seg_dice=0.5902, val_seg_dice=0.2788\n",
      "Epoch [54] Validation Results: val_cls_loss=7850.8164, val_cls_acc=0.2000, seg_loss=0.1231, val_seg_loss=0.6424, seg_dice=0.5830, val_seg_dice=0.2537\n",
      "Epoch [55] Validation Results: val_cls_loss=7381.6992, val_cls_acc=0.2000, seg_loss=0.1062, val_seg_loss=0.5613, seg_dice=0.6031, val_seg_dice=0.3252\n",
      "Epoch [56] Validation Results: val_cls_loss=6968.4336, val_cls_acc=0.2000, seg_loss=0.1151, val_seg_loss=0.6202, seg_dice=0.6265, val_seg_dice=0.2656\n",
      "Epoch [57] Validation Results: val_cls_loss=6276.9629, val_cls_acc=0.2000, seg_loss=0.1114, val_seg_loss=0.6201, seg_dice=0.6039, val_seg_dice=0.2707\n",
      "Epoch [58] Validation Results: val_cls_loss=5558.7852, val_cls_acc=0.2000, seg_loss=0.1122, val_seg_loss=0.4368, seg_dice=0.6024, val_seg_dice=0.4197\n",
      "Epoch [59] Validation Results: val_cls_loss=6173.3682, val_cls_acc=0.2000, seg_loss=0.1133, val_seg_loss=0.5382, seg_dice=0.6309, val_seg_dice=0.3288\n",
      "Epoch [60] Validation Results: val_cls_loss=7613.9189, val_cls_acc=0.2000, seg_loss=0.1052, val_seg_loss=0.5769, seg_dice=0.6245, val_seg_dice=0.3030\n",
      "Epoch [61] Validation Results: val_cls_loss=9128.4648, val_cls_acc=0.2000, seg_loss=0.1089, val_seg_loss=0.6421, seg_dice=0.6344, val_seg_dice=0.2539\n",
      "Epoch [62] Validation Results: val_cls_loss=8736.4199, val_cls_acc=0.2000, seg_loss=0.0851, val_seg_loss=0.4997, seg_dice=0.6483, val_seg_dice=0.3790\n",
      "Epoch [63] Validation Results: val_cls_loss=8589.5215, val_cls_acc=0.2000, seg_loss=0.0891, val_seg_loss=0.5306, seg_dice=0.6551, val_seg_dice=0.3505\n",
      "Epoch [64] Validation Results: val_cls_loss=7646.2920, val_cls_acc=0.2000, seg_loss=0.0905, val_seg_loss=0.6182, seg_dice=0.6397, val_seg_dice=0.2683\n",
      "Epoch [65] Validation Results: val_cls_loss=7851.7305, val_cls_acc=0.2000, seg_loss=0.0917, val_seg_loss=0.6215, seg_dice=0.6420, val_seg_dice=0.2724\n",
      "Epoch [66] Validation Results: val_cls_loss=8805.2295, val_cls_acc=0.2000, seg_loss=0.1299, val_seg_loss=0.5766, seg_dice=0.6112, val_seg_dice=0.3128\n",
      "Epoch [67] Validation Results: val_cls_loss=8864.0410, val_cls_acc=0.2000, seg_loss=0.0784, val_seg_loss=0.4835, seg_dice=0.6750, val_seg_dice=0.3890\n",
      "Epoch [68] Validation Results: val_cls_loss=10967.2959, val_cls_acc=0.2000, seg_loss=0.0905, val_seg_loss=0.6205, seg_dice=0.6714, val_seg_dice=0.2712\n",
      "Epoch [69] Validation Results: val_cls_loss=9578.4805, val_cls_acc=0.2000, seg_loss=0.1122, val_seg_loss=0.5284, seg_dice=0.6344, val_seg_dice=0.3579\n",
      "Epoch [70] Validation Results: val_cls_loss=7461.3066, val_cls_acc=0.2000, seg_loss=0.1111, val_seg_loss=0.5457, seg_dice=0.6884, val_seg_dice=0.3300\n",
      "Epoch [71] Validation Results: val_cls_loss=6467.1709, val_cls_acc=0.2000, seg_loss=0.0978, val_seg_loss=0.5617, seg_dice=0.6479, val_seg_dice=0.3040\n",
      "Epoch [72] Validation Results: val_cls_loss=6342.5195, val_cls_acc=0.2000, seg_loss=0.0910, val_seg_loss=0.3960, seg_dice=0.6472, val_seg_dice=0.4473\n",
      "Epoch [73] Validation Results: val_cls_loss=8824.4414, val_cls_acc=0.2000, seg_loss=0.0828, val_seg_loss=0.5230, seg_dice=0.6742, val_seg_dice=0.3493\n",
      "Epoch [74] Validation Results: val_cls_loss=9128.0391, val_cls_acc=0.2000, seg_loss=0.0820, val_seg_loss=0.6195, seg_dice=0.6688, val_seg_dice=0.2810\n",
      "Epoch [75] Validation Results: val_cls_loss=7880.1006, val_cls_acc=0.2000, seg_loss=0.0872, val_seg_loss=0.6267, seg_dice=0.6947, val_seg_dice=0.2767\n",
      "Epoch [76] Validation Results: val_cls_loss=7241.5938, val_cls_acc=0.2000, seg_loss=0.0780, val_seg_loss=0.5723, seg_dice=0.7168, val_seg_dice=0.3141\n",
      "Epoch [77] Validation Results: val_cls_loss=6018.2363, val_cls_acc=0.2000, seg_loss=0.0762, val_seg_loss=0.5004, seg_dice=0.7176, val_seg_dice=0.3729\n",
      "Epoch [78] Validation Results: val_cls_loss=5298.6143, val_cls_acc=0.2000, seg_loss=0.0718, val_seg_loss=0.6509, seg_dice=0.7217, val_seg_dice=0.2513\n",
      "Epoch [79] Validation Results: val_cls_loss=4744.6606, val_cls_acc=0.2000, seg_loss=0.0901, val_seg_loss=0.6712, seg_dice=0.6663, val_seg_dice=0.2483\n",
      "Epoch [80] Validation Results: val_cls_loss=3575.4614, val_cls_acc=0.2000, seg_loss=0.0597, val_seg_loss=0.5066, seg_dice=0.7139, val_seg_dice=0.3846\n",
      "Epoch [81] Validation Results: val_cls_loss=4036.1890, val_cls_acc=0.2000, seg_loss=0.0626, val_seg_loss=0.4607, seg_dice=0.7263, val_seg_dice=0.4116\n",
      "Epoch [82] Validation Results: val_cls_loss=5680.6304, val_cls_acc=0.2000, seg_loss=0.0716, val_seg_loss=0.4968, seg_dice=0.7106, val_seg_dice=0.3843\n",
      "Epoch [83] Validation Results: val_cls_loss=8504.8008, val_cls_acc=0.2000, seg_loss=0.0792, val_seg_loss=0.4542, seg_dice=0.6969, val_seg_dice=0.4332\n",
      "Epoch [84] Validation Results: val_cls_loss=10440.8047, val_cls_acc=0.2000, seg_loss=0.0678, val_seg_loss=0.4553, seg_dice=0.7128, val_seg_dice=0.4367\n",
      "Epoch [85] Validation Results: val_cls_loss=11209.6611, val_cls_acc=0.2000, seg_loss=0.0619, val_seg_loss=0.4451, seg_dice=0.7315, val_seg_dice=0.4389\n",
      "Epoch [86] Validation Results: val_cls_loss=11921.3984, val_cls_acc=0.2000, seg_loss=0.0558, val_seg_loss=0.4999, seg_dice=0.7328, val_seg_dice=0.3810\n",
      "Epoch [87] Validation Results: val_cls_loss=12180.1885, val_cls_acc=0.2000, seg_loss=0.0557, val_seg_loss=0.5355, seg_dice=0.7380, val_seg_dice=0.3474\n",
      "Epoch [88] Validation Results: val_cls_loss=12366.4395, val_cls_acc=0.2000, seg_loss=0.0495, val_seg_loss=0.5344, seg_dice=0.7385, val_seg_dice=0.3506\n",
      "Epoch [89] Validation Results: val_cls_loss=13524.7783, val_cls_acc=0.2000, seg_loss=0.0547, val_seg_loss=0.5928, seg_dice=0.7420, val_seg_dice=0.3095\n",
      "Epoch [90] Validation Results: val_cls_loss=13542.1348, val_cls_acc=0.2000, seg_loss=0.0549, val_seg_loss=0.5850, seg_dice=0.7464, val_seg_dice=0.3156\n",
      "Epoch [91] Validation Results: val_cls_loss=11828.5088, val_cls_acc=0.2000, seg_loss=0.0507, val_seg_loss=0.5032, seg_dice=0.7431, val_seg_dice=0.3775\n",
      "Epoch [92] Validation Results: val_cls_loss=10129.9951, val_cls_acc=0.2000, seg_loss=0.0448, val_seg_loss=0.3966, seg_dice=0.7544, val_seg_dice=0.4717\n",
      "Epoch [93] Validation Results: val_cls_loss=9779.0000, val_cls_acc=0.2000, seg_loss=0.0441, val_seg_loss=0.4057, seg_dice=0.7614, val_seg_dice=0.4759\n",
      "Epoch [94] Validation Results: val_cls_loss=9961.9062, val_cls_acc=0.2000, seg_loss=0.0400, val_seg_loss=0.4380, seg_dice=0.7635, val_seg_dice=0.4497\n",
      "Epoch [95] Validation Results: val_cls_loss=9868.7500, val_cls_acc=0.2000, seg_loss=0.0445, val_seg_loss=0.4722, seg_dice=0.7663, val_seg_dice=0.4170\n",
      "Epoch [96] Validation Results: val_cls_loss=9874.4785, val_cls_acc=0.2000, seg_loss=0.0428, val_seg_loss=0.4766, seg_dice=0.7663, val_seg_dice=0.4153\n",
      "Epoch [97] Validation Results: val_cls_loss=10571.9385, val_cls_acc=0.2000, seg_loss=0.0415, val_seg_loss=0.5007, seg_dice=0.7736, val_seg_dice=0.3969\n",
      "Epoch [98] Validation Results: val_cls_loss=11859.5234, val_cls_acc=0.2000, seg_loss=0.0402, val_seg_loss=0.5726, seg_dice=0.7700, val_seg_dice=0.3332\n",
      "Epoch [99] Validation Results: val_cls_loss=12506.5146, val_cls_acc=0.2000, seg_loss=0.0406, val_seg_loss=0.5700, seg_dice=0.7692, val_seg_dice=0.3353\n"
     ]
    }
   ],
   "source": [
    "EPOCHS = 100\n",
    "history = fit(\n",
    "    model=model,\n",
    "    train_dataloader=train_dl,\n",
    "    validation_dataloader=val_dl,\n",
    "    epochs=EPOCHS,\n",
    "    lr=1e-3,\n",
    "    opt_func=optim.Adam,\n",
    ")"
   ]
  },
  {
   "cell_type": "code",
   "execution_count": 18,
   "metadata": {},
   "outputs": [
    {
     "data": {
      "text/plain": [
       "Text(0.5, 1.0, 'Loss vs. NO. of epochs')"
      ]
     },
     "execution_count": 18,
     "metadata": {},
     "output_type": "execute_result"
    },
    {
     "data": {
      "image/png": "[encoded data removed]",
      "text/plain": [
       "<Figure size 640x480 with 1 Axes>"
      ]
     },
     "metadata": {},
     "output_type": "display_data"
    }
   ],
   "source": [
    "import matplotlib.pyplot as plt\n",
    "\n",
    "seg_losses = [x[\"seg_loss\"] for x in history]\n",
    "seg_dice = [x[\"seg_dice\"] for x in history]\n",
    "\n",
    "plt.plot(seg_losses, \"-bx\")\n",
    "plt.plot(seg_dice, \"-rx\")\n",
    "\n",
    "plt.xlabel(\"epoch\")\n",
    "plt.ylabel(\"loss\")\n",
    "plt.grid()\n",
    "plt.legend([\"seg_loss\", \"seg_dice\"])\n",
    "plt.title(\"Loss vs. NO. of epochs\")"
   ]
  },
  {
   "cell_type": "code",
   "execution_count": null,
   "metadata": {},
   "outputs": [],
   "source": []
  },
  {
   "cell_type": "code",
   "execution_count": null,
   "metadata": {},
   "outputs": [],
   "source": []
  }
 ],
 "metadata": {
  "kernelspec": {
   "display_name": "base",
   "language": "python",
   "name": "python3"
  },
  "language_info": {
   "codemirror_mode": {
    "name": "ipython",
    "version": 3
   },
   "file_extension": ".py",
   "mimetype": "text/x-python",
   "name": "python",
   "nbconvert_exporter": "python",
   "pygments_lexer": "ipython3",
   "version": "3.11.11"
  }
 },
 "nbformat": 4,
 "nbformat_minor": 2
}
