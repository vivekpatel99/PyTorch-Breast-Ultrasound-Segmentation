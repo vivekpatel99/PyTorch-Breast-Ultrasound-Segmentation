{
 "cells": [
  {
   "cell_type": "markdown",
   "metadata": {},
   "source": [
    "# Setup to train full model with findinng proper weights to train each head (Classification + Segmentation)\n",
    "## Breast-Ultrasound-Segmentation\n",
    "\n",
    "## About Dataset\n",
    "Breast cancer is one of the most common causes of death among women worldwide. Early detection helps in reducing the number of early deaths. The data reviews the medical images of breast cancer using ultrasound scan. Breast Ultrasound Dataset is categorized into three classes: normal, benign, and malignant images. Breast ultrasound images can produce great results in classification, detection, and segmentation of breast cancer when combined with machine learning.\n",
    "\n",
    "### Data\n",
    "The data collected at baseline include breast ultrasound images among women in ages between 25 and 75 years old. This data was collected in 2018. The number of patients is 600 female patients. The dataset consists of 780 images with an average image size of 500*500 pixels. The images are in PNG format. The ground truth images are presented with original images. The images are categorized into three classes, which are normal, benign, and malignant.\n",
    "\n",
    "If you use this dataset, please cite:\n",
    "Al-Dhabyani W, Gomaa M, Khaled H, Fahmy A. Dataset of breast ultrasound images. Data in Brief. 2020 Feb;28:104863. DOI: 10.1016/j.dib.2019.104863."
   ]
  },
  {
   "cell_type": "markdown",
   "metadata": {},
   "source": [
    "## Imports"
   ]
  },
  {
   "cell_type": "code",
   "execution_count": 1,
   "metadata": {},
   "outputs": [],
   "source": [
    "import os\n",
    "\n",
    "import pyrootutils\n",
    "\n",
    "root = pyrootutils.setup_root(\n",
    "    search_from=os.path.dirname(os.getcwd()),\n",
    "    indicator=[\".git\", \"pyproject.toml\"],\n",
    "    pythonpath=True,\n",
    "    dotenv=True,\n",
    ")\n",
    "\n",
    "if os.getenv(\"DATA_ROOT\") is None:\n",
    "    os.environ[\"DATA_ROOT\"] = f\"{root}/data\""
   ]
  },
  {
   "cell_type": "code",
   "execution_count": 2,
   "metadata": {},
   "outputs": [
    {
     "name": "stdout",
     "output_type": "stream",
     "text": [
      "GPU Found!!\n"
     ]
    }
   ],
   "source": [
    "import torch\n",
    "import torch.nn as nn\n",
    "\n",
    "# Setup device-agnostic code\n",
    "if torch.cuda.is_available():\n",
    "    DEVICE = \"cuda\"  # NVIDIA GPU\n",
    "    print(\"GPU Found!!\")\n",
    "else:\n",
    "    raise Exception(\"No GPU Found!!\")"
   ]
  },
  {
   "cell_type": "code",
   "execution_count": 3,
   "metadata": {},
   "outputs": [],
   "source": [
    "import hydra\n",
    "from hydra import compose, initialize"
   ]
  },
  {
   "cell_type": "code",
   "execution_count": 4,
   "metadata": {},
   "outputs": [],
   "source": [
    "# # auto reload dotenv\n",
    "%load_ext dotenv\n",
    "%dotenv\n",
    "\n",
    "# auto reload libs\n",
    "%load_ext autoreload\n",
    "%autoreload 2"
   ]
  },
  {
   "cell_type": "markdown",
   "metadata": {},
   "source": [
    "## Paths setup"
   ]
  },
  {
   "cell_type": "code",
   "execution_count": 5,
   "metadata": {},
   "outputs": [
    {
     "name": "stdout",
     "output_type": "stream",
     "text": [
      "{'optimizer': {'_target_': 'torch.optim.Adam', '_partial_': True, 'lr': 0.001, 'weight_decay': 0.0, 'betas': [0.9, 0.999]}, 'scheduler': {'func': None}, 'model': {'_target_': 'src.models.vggnet_fcn_segmentation_model.VGGNetFCN16SegmentationModel', 'num_classes': 3}}\n"
     ]
    }
   ],
   "source": [
    "from omegaconf import DictConfig, OmegaConf\n",
    "\n",
    "# Register a resolver for torch dtypes\n",
    "OmegaConf.register_new_resolver(\"torch_dtype\", lambda name: getattr(torch, name))\n",
    "\n",
    "with initialize(config_path=\"../configs\", job_name=\"training_setup\", version_base=None):\n",
    "    cfg: DictConfig = compose(config_name=\"train.yaml\")\n",
    "    # print(OmegaConf.to_yaml(cfg))\n",
    "    print(cfg.models)"
   ]
  },
  {
   "cell_type": "code",
   "execution_count": 6,
   "metadata": {},
   "outputs": [],
   "source": [
    "os.chdir(root)"
   ]
  },
  {
   "cell_type": "markdown",
   "metadata": {},
   "source": [
    "## Loading Dataset"
   ]
  },
  {
   "cell_type": "code",
   "execution_count": 7,
   "metadata": {},
   "outputs": [
    {
     "data": {
      "text/plain": [
       "(['normal', 'malignant', 'benign'], 3, tensor([1.9774, 1.2494, 0.5903]))"
      ]
     },
     "execution_count": 7,
     "metadata": {},
     "output_type": "execute_result"
    }
   ],
   "source": [
    "data_module = hydra.utils.instantiate(cfg.datamodule)\n",
    "\n",
    "class_weights = data_module.class_weights\n",
    "class_names = data_module.classes\n",
    "num_classes = len(class_names)\n",
    "class_names, num_classes, class_weights"
   ]
  },
  {
   "cell_type": "code",
   "execution_count": 8,
   "metadata": {},
   "outputs": [],
   "source": [
    "import torch.optim as optim\n",
    "from torch.utils.data import DataLoader, Subset\n",
    "\n",
    "# # 1. Select a very small subset of your data\n",
    "train_dataset, val_dataset = data_module.split_and_preprocess_datasets()\n",
    "\n",
    "subset_indices = list(range(200))  # Select first 10 samples\n",
    "train_small_dataset = Subset(train_dataset, subset_indices)\n",
    "val_small_dataset = Subset(val_dataset, subset_indices)\n",
    "train_dl = DataLoader(train_small_dataset, batch_size=32, shuffle=False)\n",
    "val_dl = DataLoader(val_small_dataset, batch_size=32, shuffle=False)"
   ]
  },
  {
   "cell_type": "code",
   "execution_count": 9,
   "metadata": {},
   "outputs": [
    {
     "name": "stdout",
     "output_type": "stream",
     "text": [
      "torch.Size([32, 3, 224, 224]) torch.Size([32, 1, 224, 224]) torch.Size([32])\n",
      "images:torch.float32, -2.1179039478302, 2.640000104904175\n",
      "masks torch.uint8, 0, 1\n",
      "labels torch.int64, 0, 2\n"
     ]
    }
   ],
   "source": [
    "for images, targets in train_dl:\n",
    "    print(images.shape, targets[\"masks\"].shape, targets[\"labels\"].shape)\n",
    "\n",
    "    print(f\"images:{images.dtype}, {images[0].min()}, {images[0].max()}\")\n",
    "    print(\n",
    "        f'masks {targets[\"masks\"].dtype}, {targets[\"masks\"][0].min()}, {targets[\"masks\"][0].max()}'\n",
    "    )\n",
    "    print(\n",
    "        f'labels {targets[\"labels\"].dtype}, {targets[\"labels\"].min()}, {targets[\"labels\"].max()}'\n",
    "    )\n",
    "    break"
   ]
  },
  {
   "cell_type": "code",
   "execution_count": 10,
   "metadata": {},
   "outputs": [
    {
     "name": "stdout",
     "output_type": "stream",
     "text": [
      "torch.Size([32, 3, 224, 224]) torch.Size([32, 1, 224, 224]) torch.Size([32])\n",
      "images:torch.float32, -2.1179039478302, 2.5354254245758057\n",
      "masks torch.uint8, 0, 1\n",
      "labels torch.int64, 0, 2\n"
     ]
    }
   ],
   "source": [
    "for _images, _targets in val_dl:\n",
    "    print(_images.shape, _targets[\"masks\"].shape, _targets[\"labels\"].shape)\n",
    "\n",
    "    print(f\"images:{_images[0].dtype}, {_images[0].min()}, {_images[0].max()}\")\n",
    "    print(f'masks {_targets[\"masks\"].dtype}, {_targets[\"masks\"].min()}, {_targets[\"masks\"].max()}')\n",
    "    print(\n",
    "        f'labels {_targets[\"labels\"].dtype}, {_targets[\"labels\"].min()}, {_targets[\"labels\"].max()}'\n",
    "    )\n",
    "    break"
   ]
  },
  {
   "cell_type": "markdown",
   "metadata": {},
   "source": [
    "## Loading and training the FCN8 model "
   ]
  },
  {
   "cell_type": "code",
   "execution_count": 11,
   "metadata": {},
   "outputs": [],
   "source": [
    "from src.utils.gpu_utils import DeviceDataLoader, get_default_device, to_device\n",
    "\n",
    "torch.cuda.empty_cache()\n",
    "device = get_default_device()\n",
    "\n",
    "gpu_weights = to_device(class_weights, device)"
   ]
  },
  {
   "cell_type": "code",
   "execution_count": 12,
   "metadata": {},
   "outputs": [
    {
     "data": {
      "text/plain": [
       "OptimizedModule(\n",
       "  (_orig_mod): VGGNetFCNSegmentationModel(\n",
       "    (segmentation_criterion): SoftDiceLoss()\n",
       "    (classification_criterion): CrossEntropyLoss()\n",
       "    (cls_auroc): MulticlassAUROC()\n",
       "    (encoder): VGGNetEncoder(\n",
       "      (vgg): VGG(\n",
       "        (features): Sequential(\n",
       "          (0): Conv2d(3, 64, kernel_size=(3, 3), stride=(1, 1), padding=(1, 1))\n",
       "          (1): BatchNorm2d(64, eps=1e-05, momentum=0.1, affine=True, track_running_stats=True)\n",
       "          (2): ReLU(inplace=True)\n",
       "          (3): Conv2d(64, 64, kernel_size=(3, 3), stride=(1, 1), padding=(1, 1))\n",
       "          (4): BatchNorm2d(64, eps=1e-05, momentum=0.1, affine=True, track_running_stats=True)\n",
       "          (5): ReLU(inplace=True)\n",
       "          (6): MaxPool2d(kernel_size=2, stride=2, padding=0, dilation=1, ceil_mode=False)\n",
       "          (7): Conv2d(64, 128, kernel_size=(3, 3), stride=(1, 1), padding=(1, 1))\n",
       "          (8): BatchNorm2d(128, eps=1e-05, momentum=0.1, affine=True, track_running_stats=True)\n",
       "          (9): ReLU(inplace=True)\n",
       "          (10): Conv2d(128, 128, kernel_size=(3, 3), stride=(1, 1), padding=(1, 1))\n",
       "          (11): BatchNorm2d(128, eps=1e-05, momentum=0.1, affine=True, track_running_stats=True)\n",
       "          (12): ReLU(inplace=True)\n",
       "          (13): MaxPool2d(kernel_size=2, stride=2, padding=0, dilation=1, ceil_mode=False)\n",
       "          (14): Conv2d(128, 256, kernel_size=(3, 3), stride=(1, 1), padding=(1, 1))\n",
       "          (15): BatchNorm2d(256, eps=1e-05, momentum=0.1, affine=True, track_running_stats=True)\n",
       "          (16): ReLU(inplace=True)\n",
       "          (17): Conv2d(256, 256, kernel_size=(3, 3), stride=(1, 1), padding=(1, 1))\n",
       "          (18): BatchNorm2d(256, eps=1e-05, momentum=0.1, affine=True, track_running_stats=True)\n",
       "          (19): ReLU(inplace=True)\n",
       "          (20): Conv2d(256, 256, kernel_size=(3, 3), stride=(1, 1), padding=(1, 1))\n",
       "          (21): BatchNorm2d(256, eps=1e-05, momentum=0.1, affine=True, track_running_stats=True)\n",
       "          (22): ReLU(inplace=True)\n",
       "          (23): MaxPool2d(kernel_size=2, stride=2, padding=0, dilation=1, ceil_mode=False)\n",
       "          (24): Conv2d(256, 512, kernel_size=(3, 3), stride=(1, 1), padding=(1, 1))\n",
       "          (25): BatchNorm2d(512, eps=1e-05, momentum=0.1, affine=True, track_running_stats=True)\n",
       "          (26): ReLU(inplace=True)\n",
       "          (27): Conv2d(512, 512, kernel_size=(3, 3), stride=(1, 1), padding=(1, 1))\n",
       "          (28): BatchNorm2d(512, eps=1e-05, momentum=0.1, affine=True, track_running_stats=True)\n",
       "          (29): ReLU(inplace=True)\n",
       "          (30): Conv2d(512, 512, kernel_size=(3, 3), stride=(1, 1), padding=(1, 1))\n",
       "          (31): BatchNorm2d(512, eps=1e-05, momentum=0.1, affine=True, track_running_stats=True)\n",
       "          (32): ReLU(inplace=True)\n",
       "          (33): MaxPool2d(kernel_size=2, stride=2, padding=0, dilation=1, ceil_mode=False)\n",
       "          (34): Conv2d(512, 512, kernel_size=(3, 3), stride=(1, 1), padding=(1, 1))\n",
       "          (35): BatchNorm2d(512, eps=1e-05, momentum=0.1, affine=True, track_running_stats=True)\n",
       "          (36): ReLU(inplace=True)\n",
       "          (37): Conv2d(512, 512, kernel_size=(3, 3), stride=(1, 1), padding=(1, 1))\n",
       "          (38): BatchNorm2d(512, eps=1e-05, momentum=0.1, affine=True, track_running_stats=True)\n",
       "          (39): ReLU(inplace=True)\n",
       "          (40): Conv2d(512, 512, kernel_size=(3, 3), stride=(1, 1), padding=(1, 1))\n",
       "          (41): BatchNorm2d(512, eps=1e-05, momentum=0.1, affine=True, track_running_stats=True)\n",
       "          (42): ReLU(inplace=True)\n",
       "          (43): MaxPool2d(kernel_size=2, stride=2, padding=0, dilation=1, ceil_mode=False)\n",
       "        )\n",
       "        (avgpool): AdaptiveAvgPool2d(output_size=(7, 7))\n",
       "      )\n",
       "      (final_conv): Sequential(\n",
       "        (0): Conv2d(512, 4096, kernel_size=(7, 7), stride=(1, 1), padding=same)\n",
       "        (1): ReLU(inplace=True)\n",
       "        (2): Conv2d(4096, 4096, kernel_size=(1, 1), stride=(1, 1), padding=same)\n",
       "        (3): ReLU(inplace=True)\n",
       "      )\n",
       "    )\n",
       "    (decoder): FCN8Decoder(\n",
       "      (upsample_5): Sequential(\n",
       "        (0): ConvTranspose2d(4096, 512, kernel_size=(3, 3), stride=(2, 2), padding=(1, 1), output_padding=(1, 1), bias=False)\n",
       "        (1): ReLU(inplace=True)\n",
       "      )\n",
       "      (bn5): BatchNorm2d(512, eps=1e-05, momentum=0.1, affine=True, track_running_stats=True)\n",
       "      (upsample_4): Sequential(\n",
       "        (0): ConvTranspose2d(512, 256, kernel_size=(3, 3), stride=(2, 2), padding=(1, 1), output_padding=(1, 1), bias=False)\n",
       "        (1): ReLU(inplace=True)\n",
       "      )\n",
       "      (bn4): BatchNorm2d(256, eps=1e-05, momentum=0.1, affine=True, track_running_stats=True)\n",
       "      (upsample3): Sequential(\n",
       "        (0): ConvTranspose2d(256, 128, kernel_size=(3, 3), stride=(2, 2), padding=(1, 1), output_padding=(1, 1), bias=False)\n",
       "        (1): ReLU(inplace=True)\n",
       "        (2): BatchNorm2d(128, eps=1e-05, momentum=0.1, affine=True, track_running_stats=True)\n",
       "      )\n",
       "      (upsample2): Sequential(\n",
       "        (0): ConvTranspose2d(128, 64, kernel_size=(3, 3), stride=(2, 2), padding=(1, 1), output_padding=(1, 1), bias=False)\n",
       "        (1): ReLU(inplace=True)\n",
       "        (2): BatchNorm2d(64, eps=1e-05, momentum=0.1, affine=True, track_running_stats=True)\n",
       "      )\n",
       "      (upsample1): Sequential(\n",
       "        (0): ConvTranspose2d(64, 32, kernel_size=(3, 3), stride=(2, 2), padding=(1, 1), output_padding=(1, 1), bias=False)\n",
       "        (1): ReLU(inplace=True)\n",
       "        (2): BatchNorm2d(32, eps=1e-05, momentum=0.1, affine=True, track_running_stats=True)\n",
       "      )\n",
       "      (fcn8_mask_segmentation): Conv2d(32, 1, kernel_size=(1, 1), stride=(1, 1))\n",
       "    )\n",
       "    (classification_head): ClassificationHead(\n",
       "      (head): Sequential(\n",
       "        (0): AdaptiveAvgPool2d(output_size=1)\n",
       "        (1): Flatten(start_dim=1, end_dim=-1)\n",
       "        (2): Linear(in_features=4096, out_features=512, bias=True)\n",
       "        (3): BatchNorm1d(512, eps=1e-05, momentum=0.1, affine=True, track_running_stats=True)\n",
       "        (4): ReLU(inplace=True)\n",
       "        (5): Dropout(p=0.5, inplace=False)\n",
       "        (6): Linear(in_features=512, out_features=256, bias=True)\n",
       "        (7): BatchNorm1d(256, eps=1e-05, momentum=0.1, affine=True, track_running_stats=True)\n",
       "        (8): ReLU(inplace=True)\n",
       "        (9): Dropout(p=0.5, inplace=False)\n",
       "        (10): Linear(in_features=256, out_features=3, bias=True)\n",
       "      )\n",
       "    )\n",
       "  )\n",
       ")"
      ]
     },
     "execution_count": 12,
     "metadata": {},
     "output_type": "execute_result"
    }
   ],
   "source": [
    "from src.losses.dice_loss import SoftDiceLoss\n",
    "from src.models.vggnet_fcn_segmentation_model import VGGNetFCNSegmentationModel\n",
    "\n",
    "model = VGGNetFCNSegmentationModel(\n",
    "    cls_num_classes=num_classes,\n",
    "    seg_num_classes=1,\n",
    "    vggnet_type=\"vgg16_bn\",\n",
    "    seg_weight=0.95,\n",
    "    cls_weight=0.05,\n",
    "    segmentation_criterion=SoftDiceLoss(),  # nn.CrossEntropyLoss(),\n",
    "    classification_criterion=nn.CrossEntropyLoss(weight=gpu_weights),\n",
    ")\n",
    "model = torch.compile(model)\n",
    "model"
   ]
  },
  {
   "cell_type": "code",
   "execution_count": 13,
   "metadata": {},
   "outputs": [
    {
     "name": "stdout",
     "output_type": "stream",
     "text": [
      "tensor([-0.0891, -0.0277,  0.6381], grad_fn=<SelectBackward0>) torch.Size([32, 3])\n",
      "tensor([[[ 0.2843, -0.3723,  0.5905,  ..., -0.6889, -0.0129, -0.0735],\n",
      "         [-0.2269, -0.8781, -1.0452,  ..., -0.6614, -0.0808, -0.3464],\n",
      "         [-0.5564, -1.0220, -0.0271,  ...,  0.4852,  0.0378,  0.5885],\n",
      "         ...,\n",
      "         [ 0.9330,  0.5234,  0.6357,  ..., -1.3837, -1.0692, -0.4629],\n",
      "         [-0.3920,  0.5641, -0.3922,  ...,  0.0981, -0.0103, -0.0813],\n",
      "         [ 0.1880, -0.6990,  0.5471,  ...,  0.3258, -0.2395, -0.1229]]],\n",
      "       grad_fn=<SelectBackward0>)\n",
      "torch.Size([32, 1, 224, 224])\n"
     ]
    }
   ],
   "source": [
    "for images, labels in train_dl:\n",
    "    # print(images.shape, labels)\n",
    "    out = model(images)\n",
    "    # l = labels['labels'][0]\n",
    "    # print(l , torch.argmax(l))\n",
    "    print(out[\"labels\"][0], out[\"labels\"].shape)\n",
    "    print(out[\"masks\"][0])\n",
    "    print(out[\"masks\"].shape)\n",
    "    break"
   ]
  },
  {
   "cell_type": "markdown",
   "metadata": {},
   "source": [
    "## GPU Training Setup"
   ]
  },
  {
   "cell_type": "markdown",
   "metadata": {},
   "source": [
    "## Moving data and model into memory"
   ]
  },
  {
   "cell_type": "code",
   "execution_count": 14,
   "metadata": {},
   "outputs": [
    {
     "data": {
      "text/plain": [
       "OptimizedModule(\n",
       "  (_orig_mod): VGGNetFCNSegmentationModel(\n",
       "    (segmentation_criterion): SoftDiceLoss()\n",
       "    (classification_criterion): CrossEntropyLoss()\n",
       "    (cls_auroc): MulticlassAUROC()\n",
       "    (encoder): VGGNetEncoder(\n",
       "      (vgg): VGG(\n",
       "        (features): Sequential(\n",
       "          (0): Conv2d(3, 64, kernel_size=(3, 3), stride=(1, 1), padding=(1, 1))\n",
       "          (1): BatchNorm2d(64, eps=1e-05, momentum=0.1, affine=True, track_running_stats=True)\n",
       "          (2): ReLU(inplace=True)\n",
       "          (3): Conv2d(64, 64, kernel_size=(3, 3), stride=(1, 1), padding=(1, 1))\n",
       "          (4): BatchNorm2d(64, eps=1e-05, momentum=0.1, affine=True, track_running_stats=True)\n",
       "          (5): ReLU(inplace=True)\n",
       "          (6): MaxPool2d(kernel_size=2, stride=2, padding=0, dilation=1, ceil_mode=False)\n",
       "          (7): Conv2d(64, 128, kernel_size=(3, 3), stride=(1, 1), padding=(1, 1))\n",
       "          (8): BatchNorm2d(128, eps=1e-05, momentum=0.1, affine=True, track_running_stats=True)\n",
       "          (9): ReLU(inplace=True)\n",
       "          (10): Conv2d(128, 128, kernel_size=(3, 3), stride=(1, 1), padding=(1, 1))\n",
       "          (11): BatchNorm2d(128, eps=1e-05, momentum=0.1, affine=True, track_running_stats=True)\n",
       "          (12): ReLU(inplace=True)\n",
       "          (13): MaxPool2d(kernel_size=2, stride=2, padding=0, dilation=1, ceil_mode=False)\n",
       "          (14): Conv2d(128, 256, kernel_size=(3, 3), stride=(1, 1), padding=(1, 1))\n",
       "          (15): BatchNorm2d(256, eps=1e-05, momentum=0.1, affine=True, track_running_stats=True)\n",
       "          (16): ReLU(inplace=True)\n",
       "          (17): Conv2d(256, 256, kernel_size=(3, 3), stride=(1, 1), padding=(1, 1))\n",
       "          (18): BatchNorm2d(256, eps=1e-05, momentum=0.1, affine=True, track_running_stats=True)\n",
       "          (19): ReLU(inplace=True)\n",
       "          (20): Conv2d(256, 256, kernel_size=(3, 3), stride=(1, 1), padding=(1, 1))\n",
       "          (21): BatchNorm2d(256, eps=1e-05, momentum=0.1, affine=True, track_running_stats=True)\n",
       "          (22): ReLU(inplace=True)\n",
       "          (23): MaxPool2d(kernel_size=2, stride=2, padding=0, dilation=1, ceil_mode=False)\n",
       "          (24): Conv2d(256, 512, kernel_size=(3, 3), stride=(1, 1), padding=(1, 1))\n",
       "          (25): BatchNorm2d(512, eps=1e-05, momentum=0.1, affine=True, track_running_stats=True)\n",
       "          (26): ReLU(inplace=True)\n",
       "          (27): Conv2d(512, 512, kernel_size=(3, 3), stride=(1, 1), padding=(1, 1))\n",
       "          (28): BatchNorm2d(512, eps=1e-05, momentum=0.1, affine=True, track_running_stats=True)\n",
       "          (29): ReLU(inplace=True)\n",
       "          (30): Conv2d(512, 512, kernel_size=(3, 3), stride=(1, 1), padding=(1, 1))\n",
       "          (31): BatchNorm2d(512, eps=1e-05, momentum=0.1, affine=True, track_running_stats=True)\n",
       "          (32): ReLU(inplace=True)\n",
       "          (33): MaxPool2d(kernel_size=2, stride=2, padding=0, dilation=1, ceil_mode=False)\n",
       "          (34): Conv2d(512, 512, kernel_size=(3, 3), stride=(1, 1), padding=(1, 1))\n",
       "          (35): BatchNorm2d(512, eps=1e-05, momentum=0.1, affine=True, track_running_stats=True)\n",
       "          (36): ReLU(inplace=True)\n",
       "          (37): Conv2d(512, 512, kernel_size=(3, 3), stride=(1, 1), padding=(1, 1))\n",
       "          (38): BatchNorm2d(512, eps=1e-05, momentum=0.1, affine=True, track_running_stats=True)\n",
       "          (39): ReLU(inplace=True)\n",
       "          (40): Conv2d(512, 512, kernel_size=(3, 3), stride=(1, 1), padding=(1, 1))\n",
       "          (41): BatchNorm2d(512, eps=1e-05, momentum=0.1, affine=True, track_running_stats=True)\n",
       "          (42): ReLU(inplace=True)\n",
       "          (43): MaxPool2d(kernel_size=2, stride=2, padding=0, dilation=1, ceil_mode=False)\n",
       "        )\n",
       "        (avgpool): AdaptiveAvgPool2d(output_size=(7, 7))\n",
       "      )\n",
       "      (final_conv): Sequential(\n",
       "        (0): Conv2d(512, 4096, kernel_size=(7, 7), stride=(1, 1), padding=same)\n",
       "        (1): ReLU(inplace=True)\n",
       "        (2): Conv2d(4096, 4096, kernel_size=(1, 1), stride=(1, 1), padding=same)\n",
       "        (3): ReLU(inplace=True)\n",
       "      )\n",
       "    )\n",
       "    (decoder): FCN8Decoder(\n",
       "      (upsample_5): Sequential(\n",
       "        (0): ConvTranspose2d(4096, 512, kernel_size=(3, 3), stride=(2, 2), padding=(1, 1), output_padding=(1, 1), bias=False)\n",
       "        (1): ReLU(inplace=True)\n",
       "      )\n",
       "      (bn5): BatchNorm2d(512, eps=1e-05, momentum=0.1, affine=True, track_running_stats=True)\n",
       "      (upsample_4): Sequential(\n",
       "        (0): ConvTranspose2d(512, 256, kernel_size=(3, 3), stride=(2, 2), padding=(1, 1), output_padding=(1, 1), bias=False)\n",
       "        (1): ReLU(inplace=True)\n",
       "      )\n",
       "      (bn4): BatchNorm2d(256, eps=1e-05, momentum=0.1, affine=True, track_running_stats=True)\n",
       "      (upsample3): Sequential(\n",
       "        (0): ConvTranspose2d(256, 128, kernel_size=(3, 3), stride=(2, 2), padding=(1, 1), output_padding=(1, 1), bias=False)\n",
       "        (1): ReLU(inplace=True)\n",
       "        (2): BatchNorm2d(128, eps=1e-05, momentum=0.1, affine=True, track_running_stats=True)\n",
       "      )\n",
       "      (upsample2): Sequential(\n",
       "        (0): ConvTranspose2d(128, 64, kernel_size=(3, 3), stride=(2, 2), padding=(1, 1), output_padding=(1, 1), bias=False)\n",
       "        (1): ReLU(inplace=True)\n",
       "        (2): BatchNorm2d(64, eps=1e-05, momentum=0.1, affine=True, track_running_stats=True)\n",
       "      )\n",
       "      (upsample1): Sequential(\n",
       "        (0): ConvTranspose2d(64, 32, kernel_size=(3, 3), stride=(2, 2), padding=(1, 1), output_padding=(1, 1), bias=False)\n",
       "        (1): ReLU(inplace=True)\n",
       "        (2): BatchNorm2d(32, eps=1e-05, momentum=0.1, affine=True, track_running_stats=True)\n",
       "      )\n",
       "      (fcn8_mask_segmentation): Conv2d(32, 1, kernel_size=(1, 1), stride=(1, 1))\n",
       "    )\n",
       "    (classification_head): ClassificationHead(\n",
       "      (head): Sequential(\n",
       "        (0): AdaptiveAvgPool2d(output_size=1)\n",
       "        (1): Flatten(start_dim=1, end_dim=-1)\n",
       "        (2): Linear(in_features=4096, out_features=512, bias=True)\n",
       "        (3): BatchNorm1d(512, eps=1e-05, momentum=0.1, affine=True, track_running_stats=True)\n",
       "        (4): ReLU(inplace=True)\n",
       "        (5): Dropout(p=0.5, inplace=False)\n",
       "        (6): Linear(in_features=512, out_features=256, bias=True)\n",
       "        (7): BatchNorm1d(256, eps=1e-05, momentum=0.1, affine=True, track_running_stats=True)\n",
       "        (8): ReLU(inplace=True)\n",
       "        (9): Dropout(p=0.5, inplace=False)\n",
       "        (10): Linear(in_features=256, out_features=3, bias=True)\n",
       "      )\n",
       "    )\n",
       "  )\n",
       ")"
      ]
     },
     "execution_count": 14,
     "metadata": {},
     "output_type": "execute_result"
    }
   ],
   "source": [
    "train_dl = DeviceDataLoader(train_dl, device)\n",
    "val_dl = DeviceDataLoader(val_dl, device)\n",
    "to_device(model, device)\n",
    "# train_dl.device"
   ]
  },
  {
   "cell_type": "markdown",
   "metadata": {},
   "source": [
    "## Overfiting the model"
   ]
  },
  {
   "cell_type": "code",
   "execution_count": 15,
   "metadata": {},
   "outputs": [
    {
     "name": "stdout",
     "output_type": "stream",
     "text": [
      "Epoch [0] Validation Results: lr=1e-03, total_loss=5.2513, cls_loss=1.0939, val_cls_loss=4.0182, cls_acc=0.3259, val_cls_acc=0.3170, val_cls_auroc=0.4839, seg_loss=0.7321, val_seg_loss=0.7907, seg_dice=0.1671, val_seg_dice=0.1663\n",
      "Epoch [1] Validation Results: lr=1e-03, total_loss=4.5840, cls_loss=1.0776, val_cls_loss=2.6581, cls_acc=0.3393, val_cls_acc=0.3393, val_cls_auroc=0.6072, seg_loss=0.6326, val_seg_loss=0.7491, seg_dice=0.2361, val_seg_dice=0.1988\n",
      "Epoch [2] Validation Results: lr=1e-03, total_loss=4.4180, cls_loss=1.1252, val_cls_loss=3.4555, cls_acc=0.4018, val_cls_acc=0.3214, val_cls_auroc=0.6921, seg_loss=0.6051, val_seg_loss=0.8210, seg_dice=0.2576, val_seg_dice=0.1673\n",
      "Epoch [3] Validation Results: lr=1e-03, total_loss=3.9550, cls_loss=0.9968, val_cls_loss=0.9575, cls_acc=0.4107, val_cls_acc=0.4643, val_cls_auroc=0.7361, seg_loss=0.5423, val_seg_loss=0.6738, seg_dice=0.2863, val_seg_dice=0.2529\n",
      "Epoch [4] Validation Results: lr=1e-03, total_loss=3.7471, cls_loss=0.8794, val_cls_loss=1.2752, cls_acc=0.4152, val_cls_acc=0.1830, val_cls_auroc=0.7219, seg_loss=0.5172, val_seg_loss=0.4994, seg_dice=0.2969, val_seg_dice=0.3097\n",
      "Epoch [5] Validation Results: lr=1e-03, total_loss=3.4473, cls_loss=0.8674, val_cls_loss=1.3491, cls_acc=0.4464, val_cls_acc=0.2188, val_cls_auroc=0.6964, seg_loss=0.4727, val_seg_loss=0.4191, seg_dice=0.3261, val_seg_dice=0.3401\n",
      "Epoch [6] Validation Results: lr=1e-03, total_loss=3.1468, cls_loss=0.8187, val_cls_loss=1.0217, cls_acc=0.5000, val_cls_acc=0.3393, val_cls_auroc=0.7194, seg_loss=0.4301, val_seg_loss=0.4290, seg_dice=0.3537, val_seg_dice=0.3990\n",
      "Epoch [7] Validation Results: lr=1e-03, total_loss=3.0253, cls_loss=0.8254, val_cls_loss=0.9366, cls_acc=0.4911, val_cls_acc=0.4330, val_cls_auroc=0.7665, seg_loss=0.4115, val_seg_loss=0.3711, seg_dice=0.3595, val_seg_dice=0.4377\n",
      "Epoch [8] Validation Results: lr=1e-03, total_loss=2.7458, cls_loss=0.8178, val_cls_loss=1.0849, cls_acc=0.5045, val_cls_acc=0.4152, val_cls_auroc=0.7208, seg_loss=0.3699, val_seg_loss=0.4136, seg_dice=0.3823, val_seg_dice=0.4276\n"
     ]
    },
    {
     "ename": "KeyboardInterrupt",
     "evalue": "",
     "output_type": "error",
     "traceback": [
      "\u001b[0;31m---------------------------------------------------------------------------\u001b[0m",
      "\u001b[0;31mKeyboardInterrupt\u001b[0m                         Traceback (most recent call last)",
      "Cell \u001b[0;32mIn[15], line 4\u001b[0m\n\u001b[1;32m      2\u001b[0m EPOCHS \u001b[38;5;241m=\u001b[39m \u001b[38;5;241m100\u001b[39m\n\u001b[1;32m      3\u001b[0m optimizer \u001b[38;5;241m=\u001b[39m torch\u001b[38;5;241m.\u001b[39moptim\u001b[38;5;241m.\u001b[39mAdamW(model\u001b[38;5;241m.\u001b[39mparameters(), lr\u001b[38;5;241m=\u001b[39m\u001b[38;5;241m1e-3\u001b[39m)\n\u001b[0;32m----> 4\u001b[0m history \u001b[38;5;241m=\u001b[39m \u001b[43mfit\u001b[49m\u001b[43m(\u001b[49m\n\u001b[1;32m      5\u001b[0m \u001b[43m    \u001b[49m\u001b[43mmodel\u001b[49m\u001b[38;5;241;43m=\u001b[39;49m\u001b[43mmodel\u001b[49m\u001b[43m,\u001b[49m\n\u001b[1;32m      6\u001b[0m \u001b[43m    \u001b[49m\u001b[43mtrain_dataloader\u001b[49m\u001b[38;5;241;43m=\u001b[39;49m\u001b[43mtrain_dl\u001b[49m\u001b[43m,\u001b[49m\n\u001b[1;32m      7\u001b[0m \u001b[43m    \u001b[49m\u001b[43mvalidation_dataloader\u001b[49m\u001b[38;5;241;43m=\u001b[39;49m\u001b[43mval_dl\u001b[49m\u001b[43m,\u001b[49m\n\u001b[1;32m      8\u001b[0m \u001b[43m    \u001b[49m\u001b[43mepochs\u001b[49m\u001b[38;5;241;43m=\u001b[39;49m\u001b[43mEPOCHS\u001b[49m\u001b[43m,\u001b[49m\n\u001b[1;32m      9\u001b[0m \u001b[43m    \u001b[49m\u001b[43moptimizer\u001b[49m\u001b[38;5;241;43m=\u001b[39;49m\u001b[43moptimizer\u001b[49m\u001b[43m,\u001b[49m\n\u001b[1;32m     10\u001b[0m \u001b[43m    \u001b[49m\u001b[43mdevice_type\u001b[49m\u001b[38;5;241;43m=\u001b[39;49m\u001b[43mdevice\u001b[49m\u001b[38;5;241;43m.\u001b[39;49m\u001b[43mtype\u001b[49m\u001b[43m,\u001b[49m\n\u001b[1;32m     11\u001b[0m \u001b[43m    \u001b[49m\u001b[43mdtype\u001b[49m\u001b[38;5;241;43m=\u001b[39;49m\u001b[43mtorch\u001b[49m\u001b[38;5;241;43m.\u001b[39;49m\u001b[43mfloat16\u001b[49m\u001b[43m,\u001b[49m\n\u001b[1;32m     12\u001b[0m \u001b[43m    \u001b[49m\u001b[43mreduce_lr_on_plateau\u001b[49m\u001b[43m \u001b[49m\u001b[38;5;241;43m=\u001b[39;49m\u001b[43m \u001b[49m\u001b[43mtorch\u001b[49m\u001b[38;5;241;43m.\u001b[39;49m\u001b[43moptim\u001b[49m\u001b[38;5;241;43m.\u001b[39;49m\u001b[43mlr_scheduler\u001b[49m\u001b[38;5;241;43m.\u001b[39;49m\u001b[43mReduceLROnPlateau\u001b[49m\u001b[43m(\u001b[49m\u001b[43moptimizer\u001b[49m\u001b[43m,\u001b[49m\u001b[43m \u001b[49m\u001b[43mfactor\u001b[49m\u001b[38;5;241;43m=\u001b[39;49m\u001b[38;5;241;43m0.1\u001b[39;49m\u001b[43m,\u001b[49m\u001b[43m \u001b[49m\u001b[43mpatience\u001b[49m\u001b[38;5;241;43m=\u001b[39;49m\u001b[38;5;241;43m5\u001b[39;49m\u001b[43m)\u001b[49m\n\u001b[1;32m     13\u001b[0m \u001b[43m)\u001b[49m\n",
      "File \u001b[0;32m/workspaces/PyTorch-Breast-Ultrasound-Segmentation/src/utils/train_utils.py:49\u001b[0m, in \u001b[0;36mfit\u001b[0;34m(model, train_dataloader, validation_dataloader, optimizer, reduce_lr_on_plateau, epochs, device_type, dtype)\u001b[0m\n\u001b[1;32m     47\u001b[0m \u001b[38;5;66;03m# Runs the forward pass with autocasting.\u001b[39;00m\n\u001b[1;32m     48\u001b[0m \u001b[38;5;28;01mwith\u001b[39;00m torch\u001b[38;5;241m.\u001b[39mautocast(device_type\u001b[38;5;241m=\u001b[39mdevice_type, dtype\u001b[38;5;241m=\u001b[39mdtype):\n\u001b[0;32m---> 49\u001b[0m     step_output \u001b[38;5;241m=\u001b[39m \u001b[43mmodel\u001b[49m\u001b[38;5;241;43m.\u001b[39;49m\u001b[43mtraining_step\u001b[49m\u001b[43m(\u001b[49m\u001b[43mbatch\u001b[49m\u001b[43m)\u001b[49m\n\u001b[1;32m     50\u001b[0m     seg_loss \u001b[38;5;241m=\u001b[39m step_output[\u001b[38;5;124mf\u001b[39m\u001b[38;5;124m\"\u001b[39m\u001b[38;5;132;01m{\u001b[39;00mMetricKey\u001b[38;5;241m.\u001b[39mSEG_LOSS\u001b[38;5;241m.\u001b[39mvalue\u001b[38;5;132;01m}\u001b[39;00m\u001b[38;5;124m\"\u001b[39m]\n\u001b[1;32m     51\u001b[0m     seg_dice \u001b[38;5;241m=\u001b[39m step_output[\u001b[38;5;124mf\u001b[39m\u001b[38;5;124m\"\u001b[39m\u001b[38;5;132;01m{\u001b[39;00mMetricKey\u001b[38;5;241m.\u001b[39mSEG_DICE\u001b[38;5;241m.\u001b[39mvalue\u001b[38;5;132;01m}\u001b[39;00m\u001b[38;5;124m\"\u001b[39m]\n",
      "File \u001b[0;32m/workspaces/PyTorch-Breast-Ultrasound-Segmentation/src/models/basemodel.py:175\u001b[0m, in \u001b[0;36mSegmentationBaseModel.training_step\u001b[0;34m(self, batch)\u001b[0m\n\u001b[1;32m    173\u001b[0m \u001b[38;5;28;01mdef\u001b[39;00m\u001b[38;5;250m \u001b[39m\u001b[38;5;21mtraining_step\u001b[39m(\u001b[38;5;28mself\u001b[39m, batch: \u001b[38;5;28mtuple\u001b[39m[Tensor, \u001b[38;5;28mdict\u001b[39m[\u001b[38;5;28mstr\u001b[39m, Tensor]]) \u001b[38;5;241m-\u001b[39m\u001b[38;5;241m>\u001b[39m \u001b[38;5;28mdict\u001b[39m[\u001b[38;5;28mstr\u001b[39m, Tensor]:\n\u001b[1;32m    174\u001b[0m \u001b[38;5;250m    \u001b[39m\u001b[38;5;124;03m\"\"\"Performs one training step.\"\"\"\u001b[39;00m\n\u001b[0;32m--> 175\u001b[0m     metrics \u001b[38;5;241m=\u001b[39m \u001b[38;5;28;43mself\u001b[39;49m\u001b[38;5;241;43m.\u001b[39;49m\u001b[43m_shared_step\u001b[49m\u001b[43m(\u001b[49m\u001b[43mbatch\u001b[49m\u001b[43m)\u001b[49m\n\u001b[1;32m    177\u001b[0m     \u001b[38;5;66;03m# Return metrics needed for logging or backpropagation\u001b[39;00m\n\u001b[1;32m    178\u001b[0m     \u001b[38;5;28;01mreturn\u001b[39;00m {\n\u001b[1;32m    179\u001b[0m         MetricKey\u001b[38;5;241m.\u001b[39mSEG_LOSS\u001b[38;5;241m.\u001b[39mvalue: metrics[\u001b[38;5;124m\"\u001b[39m\u001b[38;5;124mseg_loss\u001b[39m\u001b[38;5;124m\"\u001b[39m],\n\u001b[1;32m    180\u001b[0m         MetricKey\u001b[38;5;241m.\u001b[39mSEG_DICE\u001b[38;5;241m.\u001b[39mvalue: metrics[\u001b[38;5;124m\"\u001b[39m\u001b[38;5;124mseg_dice\u001b[39m\u001b[38;5;124m\"\u001b[39m],\n\u001b[0;32m   (...)\u001b[0m\n\u001b[1;32m    185\u001b[0m         MetricKey\u001b[38;5;241m.\u001b[39mTOTAL_LOSS\u001b[38;5;241m.\u001b[39mvalue: metrics[\u001b[38;5;124m\"\u001b[39m\u001b[38;5;124mtotal_loss\u001b[39m\u001b[38;5;124m\"\u001b[39m]\n\u001b[1;32m    186\u001b[0m     }\n",
      "File \u001b[0;32m/workspaces/PyTorch-Breast-Ultrasound-Segmentation/src/models/basemodel.py:159\u001b[0m, in \u001b[0;36mSegmentationBaseModel._shared_step\u001b[0;34m(self, batch)\u001b[0m\n\u001b[1;32m    157\u001b[0m \u001b[38;5;66;03m# --- Calculate Metrics ---\u001b[39;00m\n\u001b[1;32m    158\u001b[0m seg_loss, seg_dice \u001b[38;5;241m=\u001b[39m \u001b[38;5;28mself\u001b[39m\u001b[38;5;241m.\u001b[39m_calculate_segmentation_metrics(seg_logits, gt_masks)\n\u001b[0;32m--> 159\u001b[0m cls_loss, cls_acc, cls_auroc \u001b[38;5;241m=\u001b[39m \u001b[38;5;28;43mself\u001b[39;49m\u001b[38;5;241;43m.\u001b[39;49m\u001b[43m_calculate_classification_metrics\u001b[49m\u001b[43m(\u001b[49m\n\u001b[1;32m    160\u001b[0m \u001b[43m    \u001b[49m\u001b[43mcls_logits\u001b[49m\u001b[43m,\u001b[49m\u001b[43m \u001b[49m\u001b[43mgt_labels\u001b[49m\n\u001b[1;32m    161\u001b[0m \u001b[43m\u001b[49m\u001b[43m)\u001b[49m\n\u001b[1;32m    163\u001b[0m \u001b[38;5;28;01mreturn\u001b[39;00m {\n\u001b[1;32m    164\u001b[0m     \u001b[38;5;124m\"\u001b[39m\u001b[38;5;124mseg_loss\u001b[39m\u001b[38;5;124m\"\u001b[39m: seg_loss,\n\u001b[1;32m    165\u001b[0m     \u001b[38;5;124m\"\u001b[39m\u001b[38;5;124mseg_dice\u001b[39m\u001b[38;5;124m\"\u001b[39m: seg_dice,\n\u001b[0;32m   (...)\u001b[0m\n\u001b[1;32m    170\u001b[0m     \u001b[38;5;124m\"\u001b[39m\u001b[38;5;124mtotal_loss\u001b[39m\u001b[38;5;124m\"\u001b[39m: (\u001b[38;5;28mself\u001b[39m\u001b[38;5;241m.\u001b[39mseg_weight \u001b[38;5;241m*\u001b[39m seg_loss) \u001b[38;5;241m+\u001b[39m (\u001b[38;5;28mself\u001b[39m\u001b[38;5;241m.\u001b[39mcls_weight \u001b[38;5;241m*\u001b[39m cls_loss)\n\u001b[1;32m    171\u001b[0m }\n",
      "File \u001b[0;32m/workspaces/PyTorch-Breast-Ultrasound-Segmentation/src/models/basemodel.py:138\u001b[0m, in \u001b[0;36mSegmentationBaseModel._calculate_classification_metrics\u001b[0;34m(self, cls_logits, gt_labels)\u001b[0m\n\u001b[1;32m    127\u001b[0m \u001b[38;5;250m\u001b[39m\u001b[38;5;124;03m\"\"\"\u001b[39;00m\n\u001b[1;32m    128\u001b[0m \u001b[38;5;124;03mCalculates classification loss and accuracy.\u001b[39;00m\n\u001b[1;32m    129\u001b[0m \n\u001b[0;32m   (...)\u001b[0m\n\u001b[1;32m    135\u001b[0m \u001b[38;5;124;03m    A tuple containing (classification_loss, classification_accuracy).\u001b[39;00m\n\u001b[1;32m    136\u001b[0m \u001b[38;5;124;03m\"\"\"\u001b[39;00m\n\u001b[1;32m    137\u001b[0m cls_loss \u001b[38;5;241m=\u001b[39m \u001b[38;5;28mself\u001b[39m\u001b[38;5;241m.\u001b[39mclassification_criterion(cls_logits, gt_labels)\n\u001b[0;32m--> 138\u001b[0m cls_acc \u001b[38;5;241m=\u001b[39m \u001b[43maccuracy\u001b[49m\u001b[43m(\u001b[49m\u001b[43mcls_logits\u001b[49m\u001b[43m,\u001b[49m\u001b[43m \u001b[49m\u001b[43mgt_labels\u001b[49m\u001b[43m)\u001b[49m\n\u001b[1;32m    139\u001b[0m cls_auroc \u001b[38;5;241m=\u001b[39m \u001b[38;5;28mself\u001b[39m\u001b[38;5;241m.\u001b[39mcls_auroc(cls_logits, gt_labels)\n\u001b[1;32m    140\u001b[0m \u001b[38;5;28;01mreturn\u001b[39;00m cls_loss, cls_acc, cls_auroc\n",
      "File \u001b[0;32m/workspaces/PyTorch-Breast-Ultrasound-Segmentation/src/models/basemodel.py:41\u001b[0m, in \u001b[0;36maccuracy\u001b[0;34m(preds, labels)\u001b[0m\n\u001b[1;32m     38\u001b[0m \u001b[38;5;250m\u001b[39m\u001b[38;5;124;03m\"\"\"Calculates classification accuracy.\"\"\"\u001b[39;00m\n\u001b[1;32m     40\u001b[0m pred_labels \u001b[38;5;241m=\u001b[39m torch\u001b[38;5;241m.\u001b[39margmax(preds, dim\u001b[38;5;241m=\u001b[39m\u001b[38;5;241m1\u001b[39m)\n\u001b[0;32m---> 41\u001b[0m correct \u001b[38;5;241m=\u001b[39m \u001b[43mtorch\u001b[49m\u001b[38;5;241;43m.\u001b[39;49m\u001b[43msum\u001b[49m\u001b[43m(\u001b[49m\u001b[43mpred_labels\u001b[49m\u001b[43m \u001b[49m\u001b[38;5;241;43m==\u001b[39;49m\u001b[43m \u001b[49m\u001b[43mlabels\u001b[49m\u001b[43m)\u001b[49m\u001b[38;5;241;43m.\u001b[39;49m\u001b[43mitem\u001b[49m\u001b[43m(\u001b[49m\u001b[43m)\u001b[49m\n\u001b[1;32m     42\u001b[0m total \u001b[38;5;241m=\u001b[39m \u001b[38;5;28mlen\u001b[39m(pred_labels)\n\u001b[1;32m     43\u001b[0m \u001b[38;5;28;01mreturn\u001b[39;00m torch\u001b[38;5;241m.\u001b[39mtensor(correct \u001b[38;5;241m/\u001b[39m total, device\u001b[38;5;241m=\u001b[39mpreds\u001b[38;5;241m.\u001b[39mdevice)\n",
      "\u001b[0;31mKeyboardInterrupt\u001b[0m: "
     ]
    }
   ],
   "source": [
    "from src.utils.train_utils import fit\n",
    "\n",
    "EPOCHS = 100\n",
    "optimizer = torch.optim.AdamW(model.parameters(), lr=1e-3)\n",
    "history = fit(\n",
    "    model=model,\n",
    "    train_dataloader=train_dl,\n",
    "    validation_dataloader=val_dl,\n",
    "    epochs=EPOCHS,\n",
    "    optimizer=optimizer,\n",
    "    device_type=device.type,\n",
    "    dtype=torch.float16,\n",
    "    reduce_lr_on_plateau=torch.optim.lr_scheduler.ReduceLROnPlateau(\n",
    "        optimizer, factor=0.1, patience=5\n",
    "    ),\n",
    ")"
   ]
  },
  {
   "cell_type": "code",
   "execution_count": null,
   "metadata": {},
   "outputs": [],
   "source": [
    "import matplotlib.pyplot as plt\n",
    "\n",
    "seg_losses = [x[\"seg_loss\"] for x in history]\n",
    "seg_dice = [x[\"seg_dice\"] for x in history]\n",
    "\n",
    "plt.plot(seg_losses, \"-bx\")\n",
    "plt.plot(seg_dice, \"-rx\")\n",
    "\n",
    "plt.xlabel(\"epoch\")\n",
    "plt.ylabel(\"loss\")\n",
    "plt.grid()\n",
    "plt.legend([\"seg_loss\", \"seg_dice\"])\n",
    "plt.title(\"Loss vs. NO. of epochs\")"
   ]
  },
  {
   "cell_type": "code",
   "execution_count": null,
   "metadata": {},
   "outputs": [],
   "source": []
  },
  {
   "cell_type": "code",
   "execution_count": null,
   "metadata": {},
   "outputs": [],
   "source": []
  }
 ],
 "metadata": {
  "kernelspec": {
   "display_name": "base",
   "language": "python",
   "name": "python3"
  },
  "language_info": {
   "codemirror_mode": {
    "name": "ipython",
    "version": 3
   },
   "file_extension": ".py",
   "mimetype": "text/x-python",
   "name": "python",
   "nbconvert_exporter": "python",
   "pygments_lexer": "ipython3",
   "version": "3.11.11"
  }
 },
 "nbformat": 4,
 "nbformat_minor": 2
}
