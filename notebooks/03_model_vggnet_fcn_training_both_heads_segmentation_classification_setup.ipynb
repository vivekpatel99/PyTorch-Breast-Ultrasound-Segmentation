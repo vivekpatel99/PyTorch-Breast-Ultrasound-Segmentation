{
 "cells": [
  {
   "cell_type": "markdown",
   "metadata": {},
   "source": [
    "# Setup to train full model with findinng proper weights to train each head (Classification + Segmentation)\n",
    "## Breast-Ultrasound-Segmentation\n",
    "\n",
    "## About Dataset\n",
    "Breast cancer is one of the most common causes of death among women worldwide. Early detection helps in reducing the number of early deaths. The data reviews the medical images of breast cancer using ultrasound scan. Breast Ultrasound Dataset is categorized into three classes: normal, benign, and malignant images. Breast ultrasound images can produce great results in classification, detection, and segmentation of breast cancer when combined with machine learning.\n",
    "\n",
    "### Data\n",
    "The data collected at baseline include breast ultrasound images among women in ages between 25 and 75 years old. This data was collected in 2018. The number of patients is 600 female patients. The dataset consists of 780 images with an average image size of 500*500 pixels. The images are in PNG format. The ground truth images are presented with original images. The images are categorized into three classes, which are normal, benign, and malignant.\n",
    "\n",
    "If you use this dataset, please cite:\n",
    "Al-Dhabyani W, Gomaa M, Khaled H, Fahmy A. Dataset of breast ultrasound images. Data in Brief. 2020 Feb;28:104863. DOI: 10.1016/j.dib.2019.104863."
   ]
  },
  {
   "cell_type": "markdown",
   "metadata": {},
   "source": [
    "## Imports"
   ]
  },
  {
   "cell_type": "code",
   "execution_count": 1,
   "metadata": {},
   "outputs": [],
   "source": [
    "import os\n",
    "\n",
    "import pyrootutils\n",
    "\n",
    "root = pyrootutils.setup_root(\n",
    "    search_from=os.path.dirname(os.getcwd()),\n",
    "    indicator=[\".git\", \"pyproject.toml\"],\n",
    "    pythonpath=True,\n",
    "    dotenv=True,\n",
    ")\n",
    "\n",
    "if os.getenv(\"DATA_ROOT\") is None:\n",
    "    os.environ[\"DATA_ROOT\"] = f\"{root}/data\""
   ]
  },
  {
   "cell_type": "code",
   "execution_count": 2,
   "metadata": {},
   "outputs": [
    {
     "name": "stdout",
     "output_type": "stream",
     "text": [
      "GPU Found!!\n"
     ]
    }
   ],
   "source": [
    "import torch\n",
    "import torch.nn as nn\n",
    "\n",
    "# Setup device-agnostic code\n",
    "if torch.cuda.is_available():\n",
    "    DEVICE = \"cuda\"  # NVIDIA GPU\n",
    "    print(\"GPU Found!!\")\n",
    "else:\n",
    "    raise Exception(\"No GPU Found!!\")"
   ]
  },
  {
   "cell_type": "code",
   "execution_count": 3,
   "metadata": {},
   "outputs": [],
   "source": [
    "import hydra\n",
    "from hydra import compose, initialize"
   ]
  },
  {
   "cell_type": "code",
   "execution_count": 4,
   "metadata": {},
   "outputs": [],
   "source": [
    "# # auto reload dotenv\n",
    "%load_ext dotenv\n",
    "%dotenv\n",
    "\n",
    "# auto reload libs\n",
    "%load_ext autoreload\n",
    "%autoreload 2"
   ]
  },
  {
   "cell_type": "markdown",
   "metadata": {},
   "source": [
    "## Paths setup"
   ]
  },
  {
   "cell_type": "code",
   "execution_count": 5,
   "metadata": {},
   "outputs": [
    {
     "name": "stdout",
     "output_type": "stream",
     "text": [
      "{'optimizer': {'_target_': 'torch.optim.Adam', '_partial_': True, 'lr': 0.001, 'weight_decay': 0.0, 'betas': [0.9, 0.999]}, 'scheduler': {'func': None}, 'model': {'_target_': 'src.models.vggnet_fcn_segmentation_model.VGGNetFCN16SegmentationModel', 'num_classes': 3}}\n"
     ]
    }
   ],
   "source": [
    "from omegaconf import DictConfig, OmegaConf\n",
    "\n",
    "# Register a resolver for torch dtypes\n",
    "OmegaConf.register_new_resolver(\"torch_dtype\", lambda name: getattr(torch, name))\n",
    "\n",
    "with initialize(config_path=\"../configs\", job_name=\"training_setup\", version_base=None):\n",
    "    cfg: DictConfig = compose(config_name=\"train.yaml\")\n",
    "    # print(OmegaConf.to_yaml(cfg))\n",
    "    print(cfg.models)"
   ]
  },
  {
   "cell_type": "code",
   "execution_count": 6,
   "metadata": {},
   "outputs": [],
   "source": [
    "os.chdir(root)"
   ]
  },
  {
   "cell_type": "markdown",
   "metadata": {},
   "source": [
    "## Loading Dataset"
   ]
  },
  {
   "cell_type": "code",
   "execution_count": 7,
   "metadata": {},
   "outputs": [
    {
     "data": {
      "text/plain": [
       "(['normal', 'malignant', 'benign'], 3, tensor([1.9774, 1.2494, 0.5903]))"
      ]
     },
     "execution_count": 7,
     "metadata": {},
     "output_type": "execute_result"
    }
   ],
   "source": [
    "data_module = hydra.utils.instantiate(cfg.datamodule)\n",
    "\n",
    "class_weights = data_module.class_weights\n",
    "class_names = data_module.classes\n",
    "num_classes = len(class_names)\n",
    "class_names, num_classes, class_weights"
   ]
  },
  {
   "cell_type": "code",
   "execution_count": 8,
   "metadata": {},
   "outputs": [],
   "source": [
    "import torch.optim as optim\n",
    "from torch.utils.data import DataLoader, Subset\n",
    "\n",
    "# # 1. Select a very small subset of your data\n",
    "train_dataset, val_dataset = data_module.split_and_preprocess_datasets()\n",
    "\n",
    "subset_indices = list(range(100))  # Select first 10 samples\n",
    "train_small_dataset = Subset(train_dataset, subset_indices)\n",
    "val_small_dataset = Subset(val_dataset, subset_indices)\n",
    "train_dl = DataLoader(train_small_dataset, batch_size=5, shuffle=False)\n",
    "val_dl = DataLoader(val_small_dataset, batch_size=5, shuffle=False)"
   ]
  },
  {
   "cell_type": "code",
   "execution_count": 9,
   "metadata": {},
   "outputs": [
    {
     "name": "stdout",
     "output_type": "stream",
     "text": [
      "torch.Size([5, 3, 224, 224]) torch.Size([5, 1, 224, 224]) torch.Size([5])\n",
      "images:torch.float32, -2.1179039478302, 2.640000104904175\n",
      "masks torch.uint8, 0, 1\n",
      "labels torch.int64, 1, 2\n"
     ]
    }
   ],
   "source": [
    "for images, targets in train_dl:\n",
    "    print(images.shape, targets[\"masks\"].shape, targets[\"labels\"].shape)\n",
    "\n",
    "    print(f\"images:{images.dtype}, {images[0].min()}, {images[0].max()}\")\n",
    "    print(\n",
    "        f'masks {targets[\"masks\"].dtype}, {targets[\"masks\"][0].min()}, {targets[\"masks\"][0].max()}'\n",
    "    )\n",
    "    print(\n",
    "        f'labels {targets[\"labels\"].dtype}, {targets[\"labels\"].min()}, {targets[\"labels\"].max()}'\n",
    "    )\n",
    "    break"
   ]
  },
  {
   "cell_type": "code",
   "execution_count": 10,
   "metadata": {},
   "outputs": [
    {
     "name": "stdout",
     "output_type": "stream",
     "text": [
      "torch.Size([5, 3, 224, 224]) torch.Size([5, 1, 224, 224]) torch.Size([5])\n",
      "images:torch.float32, -2.1179039478302, 2.5354254245758057\n",
      "masks torch.uint8, 0, 1\n",
      "labels torch.int64, 0, 2\n"
     ]
    }
   ],
   "source": [
    "for _images, _targets in val_dl:\n",
    "    print(_images.shape, _targets[\"masks\"].shape, _targets[\"labels\"].shape)\n",
    "\n",
    "    print(f\"images:{_images[0].dtype}, {_images[0].min()}, {_images[0].max()}\")\n",
    "    print(f'masks {_targets[\"masks\"].dtype}, {_targets[\"masks\"].min()}, {_targets[\"masks\"].max()}')\n",
    "    print(\n",
    "        f'labels {_targets[\"labels\"].dtype}, {_targets[\"labels\"].min()}, {_targets[\"labels\"].max()}'\n",
    "    )\n",
    "    break"
   ]
  },
  {
   "cell_type": "markdown",
   "metadata": {},
   "source": [
    "## Loading and training the FCN8 model "
   ]
  },
  {
   "cell_type": "code",
   "execution_count": 11,
   "metadata": {},
   "outputs": [],
   "source": [
    "from src.utils.gpu_utils import DeviceDataLoader, get_default_device, to_device\n",
    "\n",
    "torch.cuda.empty_cache()\n",
    "device = get_default_device()\n",
    "\n",
    "gpu_weights = to_device(class_weights, device)"
   ]
  },
  {
   "cell_type": "code",
   "execution_count": 12,
   "metadata": {},
   "outputs": [
    {
     "data": {
      "text/plain": [
       "OptimizedModule(\n",
       "  (_orig_mod): VGGNetFCN8SegmentationModel(\n",
       "    (segmentation_criterion): SoftDiceLoss()\n",
       "    (classification_criterion): CrossEntropyLoss()\n",
       "    (cls_auroc): MulticlassAUROC()\n",
       "    (encoder): VGGNetEncoder(\n",
       "      (vgg): VGG(\n",
       "        (features): Sequential(\n",
       "          (0): Conv2d(3, 64, kernel_size=(3, 3), stride=(1, 1), padding=(1, 1))\n",
       "          (1): BatchNorm2d(64, eps=1e-05, momentum=0.1, affine=True, track_running_stats=True)\n",
       "          (2): ReLU(inplace=True)\n",
       "          (3): Conv2d(64, 64, kernel_size=(3, 3), stride=(1, 1), padding=(1, 1))\n",
       "          (4): BatchNorm2d(64, eps=1e-05, momentum=0.1, affine=True, track_running_stats=True)\n",
       "          (5): ReLU(inplace=True)\n",
       "          (6): MaxPool2d(kernel_size=2, stride=2, padding=0, dilation=1, ceil_mode=False)\n",
       "          (7): Conv2d(64, 128, kernel_size=(3, 3), stride=(1, 1), padding=(1, 1))\n",
       "          (8): BatchNorm2d(128, eps=1e-05, momentum=0.1, affine=True, track_running_stats=True)\n",
       "          (9): ReLU(inplace=True)\n",
       "          (10): Conv2d(128, 128, kernel_size=(3, 3), stride=(1, 1), padding=(1, 1))\n",
       "          (11): BatchNorm2d(128, eps=1e-05, momentum=0.1, affine=True, track_running_stats=True)\n",
       "          (12): ReLU(inplace=True)\n",
       "          (13): MaxPool2d(kernel_size=2, stride=2, padding=0, dilation=1, ceil_mode=False)\n",
       "          (14): Conv2d(128, 256, kernel_size=(3, 3), stride=(1, 1), padding=(1, 1))\n",
       "          (15): BatchNorm2d(256, eps=1e-05, momentum=0.1, affine=True, track_running_stats=True)\n",
       "          (16): ReLU(inplace=True)\n",
       "          (17): Conv2d(256, 256, kernel_size=(3, 3), stride=(1, 1), padding=(1, 1))\n",
       "          (18): BatchNorm2d(256, eps=1e-05, momentum=0.1, affine=True, track_running_stats=True)\n",
       "          (19): ReLU(inplace=True)\n",
       "          (20): Conv2d(256, 256, kernel_size=(3, 3), stride=(1, 1), padding=(1, 1))\n",
       "          (21): BatchNorm2d(256, eps=1e-05, momentum=0.1, affine=True, track_running_stats=True)\n",
       "          (22): ReLU(inplace=True)\n",
       "          (23): MaxPool2d(kernel_size=2, stride=2, padding=0, dilation=1, ceil_mode=False)\n",
       "          (24): Conv2d(256, 512, kernel_size=(3, 3), stride=(1, 1), padding=(1, 1))\n",
       "          (25): BatchNorm2d(512, eps=1e-05, momentum=0.1, affine=True, track_running_stats=True)\n",
       "          (26): ReLU(inplace=True)\n",
       "          (27): Conv2d(512, 512, kernel_size=(3, 3), stride=(1, 1), padding=(1, 1))\n",
       "          (28): BatchNorm2d(512, eps=1e-05, momentum=0.1, affine=True, track_running_stats=True)\n",
       "          (29): ReLU(inplace=True)\n",
       "          (30): Conv2d(512, 512, kernel_size=(3, 3), stride=(1, 1), padding=(1, 1))\n",
       "          (31): BatchNorm2d(512, eps=1e-05, momentum=0.1, affine=True, track_running_stats=True)\n",
       "          (32): ReLU(inplace=True)\n",
       "          (33): MaxPool2d(kernel_size=2, stride=2, padding=0, dilation=1, ceil_mode=False)\n",
       "          (34): Conv2d(512, 512, kernel_size=(3, 3), stride=(1, 1), padding=(1, 1))\n",
       "          (35): BatchNorm2d(512, eps=1e-05, momentum=0.1, affine=True, track_running_stats=True)\n",
       "          (36): ReLU(inplace=True)\n",
       "          (37): Conv2d(512, 512, kernel_size=(3, 3), stride=(1, 1), padding=(1, 1))\n",
       "          (38): BatchNorm2d(512, eps=1e-05, momentum=0.1, affine=True, track_running_stats=True)\n",
       "          (39): ReLU(inplace=True)\n",
       "          (40): Conv2d(512, 512, kernel_size=(3, 3), stride=(1, 1), padding=(1, 1))\n",
       "          (41): BatchNorm2d(512, eps=1e-05, momentum=0.1, affine=True, track_running_stats=True)\n",
       "          (42): ReLU(inplace=True)\n",
       "          (43): MaxPool2d(kernel_size=2, stride=2, padding=0, dilation=1, ceil_mode=False)\n",
       "        )\n",
       "        (avgpool): AdaptiveAvgPool2d(output_size=(7, 7))\n",
       "      )\n",
       "      (final_conv): Sequential(\n",
       "        (0): Conv2d(512, 4096, kernel_size=(7, 7), stride=(1, 1), padding=same)\n",
       "        (1): ReLU(inplace=True)\n",
       "        (2): Conv2d(4096, 4096, kernel_size=(1, 1), stride=(1, 1), padding=same)\n",
       "        (3): ReLU(inplace=True)\n",
       "      )\n",
       "    )\n",
       "    (decoder): FCN8Decoder(\n",
       "      (encoder): VGGNetEncoder(\n",
       "        (vgg): VGG(\n",
       "          (features): Sequential(\n",
       "            (0): Conv2d(3, 64, kernel_size=(3, 3), stride=(1, 1), padding=(1, 1))\n",
       "            (1): BatchNorm2d(64, eps=1e-05, momentum=0.1, affine=True, track_running_stats=True)\n",
       "            (2): ReLU(inplace=True)\n",
       "            (3): Conv2d(64, 64, kernel_size=(3, 3), stride=(1, 1), padding=(1, 1))\n",
       "            (4): BatchNorm2d(64, eps=1e-05, momentum=0.1, affine=True, track_running_stats=True)\n",
       "            (5): ReLU(inplace=True)\n",
       "            (6): MaxPool2d(kernel_size=2, stride=2, padding=0, dilation=1, ceil_mode=False)\n",
       "            (7): Conv2d(64, 128, kernel_size=(3, 3), stride=(1, 1), padding=(1, 1))\n",
       "            (8): BatchNorm2d(128, eps=1e-05, momentum=0.1, affine=True, track_running_stats=True)\n",
       "            (9): ReLU(inplace=True)\n",
       "            (10): Conv2d(128, 128, kernel_size=(3, 3), stride=(1, 1), padding=(1, 1))\n",
       "            (11): BatchNorm2d(128, eps=1e-05, momentum=0.1, affine=True, track_running_stats=True)\n",
       "            (12): ReLU(inplace=True)\n",
       "            (13): MaxPool2d(kernel_size=2, stride=2, padding=0, dilation=1, ceil_mode=False)\n",
       "            (14): Conv2d(128, 256, kernel_size=(3, 3), stride=(1, 1), padding=(1, 1))\n",
       "            (15): BatchNorm2d(256, eps=1e-05, momentum=0.1, affine=True, track_running_stats=True)\n",
       "            (16): ReLU(inplace=True)\n",
       "            (17): Conv2d(256, 256, kernel_size=(3, 3), stride=(1, 1), padding=(1, 1))\n",
       "            (18): BatchNorm2d(256, eps=1e-05, momentum=0.1, affine=True, track_running_stats=True)\n",
       "            (19): ReLU(inplace=True)\n",
       "            (20): Conv2d(256, 256, kernel_size=(3, 3), stride=(1, 1), padding=(1, 1))\n",
       "            (21): BatchNorm2d(256, eps=1e-05, momentum=0.1, affine=True, track_running_stats=True)\n",
       "            (22): ReLU(inplace=True)\n",
       "            (23): MaxPool2d(kernel_size=2, stride=2, padding=0, dilation=1, ceil_mode=False)\n",
       "            (24): Conv2d(256, 512, kernel_size=(3, 3), stride=(1, 1), padding=(1, 1))\n",
       "            (25): BatchNorm2d(512, eps=1e-05, momentum=0.1, affine=True, track_running_stats=True)\n",
       "            (26): ReLU(inplace=True)\n",
       "            (27): Conv2d(512, 512, kernel_size=(3, 3), stride=(1, 1), padding=(1, 1))\n",
       "            (28): BatchNorm2d(512, eps=1e-05, momentum=0.1, affine=True, track_running_stats=True)\n",
       "            (29): ReLU(inplace=True)\n",
       "            (30): Conv2d(512, 512, kernel_size=(3, 3), stride=(1, 1), padding=(1, 1))\n",
       "            (31): BatchNorm2d(512, eps=1e-05, momentum=0.1, affine=True, track_running_stats=True)\n",
       "            (32): ReLU(inplace=True)\n",
       "            (33): MaxPool2d(kernel_size=2, stride=2, padding=0, dilation=1, ceil_mode=False)\n",
       "            (34): Conv2d(512, 512, kernel_size=(3, 3), stride=(1, 1), padding=(1, 1))\n",
       "            (35): BatchNorm2d(512, eps=1e-05, momentum=0.1, affine=True, track_running_stats=True)\n",
       "            (36): ReLU(inplace=True)\n",
       "            (37): Conv2d(512, 512, kernel_size=(3, 3), stride=(1, 1), padding=(1, 1))\n",
       "            (38): BatchNorm2d(512, eps=1e-05, momentum=0.1, affine=True, track_running_stats=True)\n",
       "            (39): ReLU(inplace=True)\n",
       "            (40): Conv2d(512, 512, kernel_size=(3, 3), stride=(1, 1), padding=(1, 1))\n",
       "            (41): BatchNorm2d(512, eps=1e-05, momentum=0.1, affine=True, track_running_stats=True)\n",
       "            (42): ReLU(inplace=True)\n",
       "            (43): MaxPool2d(kernel_size=2, stride=2, padding=0, dilation=1, ceil_mode=False)\n",
       "          )\n",
       "          (avgpool): AdaptiveAvgPool2d(output_size=(7, 7))\n",
       "        )\n",
       "        (final_conv): Sequential(\n",
       "          (0): Conv2d(512, 4096, kernel_size=(7, 7), stride=(1, 1), padding=same)\n",
       "          (1): ReLU(inplace=True)\n",
       "          (2): Conv2d(4096, 4096, kernel_size=(1, 1), stride=(1, 1), padding=same)\n",
       "          (3): ReLU(inplace=True)\n",
       "        )\n",
       "      )\n",
       "      (upsample_5): Sequential(\n",
       "        (0): ConvTranspose2d(4096, 512, kernel_size=(3, 3), stride=(2, 2), padding=(1, 1), output_padding=(1, 1), bias=False)\n",
       "        (1): ReLU(inplace=True)\n",
       "      )\n",
       "      (bn5): BatchNorm2d(512, eps=1e-05, momentum=0.1, affine=True, track_running_stats=True)\n",
       "      (upsample_4): Sequential(\n",
       "        (0): ConvTranspose2d(512, 256, kernel_size=(3, 3), stride=(2, 2), padding=(1, 1), output_padding=(1, 1), bias=False)\n",
       "        (1): ReLU(inplace=True)\n",
       "      )\n",
       "      (bn4): BatchNorm2d(256, eps=1e-05, momentum=0.1, affine=True, track_running_stats=True)\n",
       "      (upsample3): Sequential(\n",
       "        (0): ConvTranspose2d(256, 128, kernel_size=(3, 3), stride=(2, 2), padding=(1, 1), output_padding=(1, 1), bias=False)\n",
       "        (1): ReLU(inplace=True)\n",
       "        (2): BatchNorm2d(128, eps=1e-05, momentum=0.1, affine=True, track_running_stats=True)\n",
       "      )\n",
       "      (upsample2): Sequential(\n",
       "        (0): ConvTranspose2d(128, 64, kernel_size=(3, 3), stride=(2, 2), padding=(1, 1), output_padding=(1, 1), bias=False)\n",
       "        (1): ReLU(inplace=True)\n",
       "        (2): BatchNorm2d(64, eps=1e-05, momentum=0.1, affine=True, track_running_stats=True)\n",
       "      )\n",
       "      (upsample1): Sequential(\n",
       "        (0): ConvTranspose2d(64, 32, kernel_size=(3, 3), stride=(2, 2), padding=(1, 1), output_padding=(1, 1), bias=False)\n",
       "        (1): ReLU(inplace=True)\n",
       "        (2): BatchNorm2d(32, eps=1e-05, momentum=0.1, affine=True, track_running_stats=True)\n",
       "      )\n",
       "      (mask_classifier): Conv2d(32, 1, kernel_size=(1, 1), stride=(1, 1))\n",
       "      (image_classifier): Sequential(\n",
       "        (0): AdaptiveAvgPool2d(output_size=1)\n",
       "        (1): Flatten(start_dim=1, end_dim=-1)\n",
       "        (2): Linear(in_features=4096, out_features=512, bias=True)\n",
       "        (3): ReLU(inplace=True)\n",
       "        (4): Linear(in_features=512, out_features=256, bias=True)\n",
       "        (5): ReLU(inplace=True)\n",
       "        (6): Linear(in_features=256, out_features=3, bias=True)\n",
       "      )\n",
       "    )\n",
       "  )\n",
       ")"
      ]
     },
     "execution_count": 12,
     "metadata": {},
     "output_type": "execute_result"
    }
   ],
   "source": [
    "from src.losses.dice_loss import SoftDiceLoss\n",
    "from src.models.vggnet_fcn8_segmentation_model import VGGNetFCN8SegmentationModel\n",
    "\n",
    "model = VGGNetFCN8SegmentationModel(\n",
    "    num_classes=num_classes,\n",
    "    vggnet_type=\"vgg16_bn\",\n",
    "    segmentation_criterion=SoftDiceLoss(),  # nn.CrossEntropyLoss(),\n",
    "    classification_criterion=nn.CrossEntropyLoss(weight=gpu_weights),\n",
    ")\n",
    "model = torch.compile(model)\n",
    "model"
   ]
  },
  {
   "cell_type": "code",
   "execution_count": 13,
   "metadata": {},
   "outputs": [
    {
     "name": "stdout",
     "output_type": "stream",
     "text": [
      "tensor([ 0.0534, -0.0378, -0.0057], grad_fn=<SelectBackward0>) torch.Size([5, 3])\n",
      "tensor([[[ 0.3389, -0.6467,  0.3181,  ...,  0.0487,  0.6339,  0.7698],\n",
      "         [-0.0514,  0.8744,  0.1707,  ..., -0.4369, -0.9902,  0.7319],\n",
      "         [-0.3130, -1.3449,  0.0165,  ..., -1.3221,  0.3496, -0.6902],\n",
      "         ...,\n",
      "         [ 0.2463,  0.5570, -0.9306,  ...,  0.1519, -0.1127,  0.2716],\n",
      "         [-0.0437,  0.0144,  0.4453,  ...,  0.2124,  0.0851,  0.2013],\n",
      "         [ 0.2595,  1.0601, -0.2363,  ..., -0.5286,  0.0249,  0.0783]]],\n",
      "       grad_fn=<SelectBackward0>)\n",
      "torch.Size([5, 1, 224, 224])\n"
     ]
    }
   ],
   "source": [
    "for images, labels in train_dl:\n",
    "    # print(images.shape, labels)\n",
    "    out = model(images)\n",
    "    # l = labels['labels'][0]\n",
    "    # print(l , torch.argmax(l))\n",
    "    print(out[\"labels\"][0], out[\"labels\"].shape)\n",
    "    print(out[\"masks\"][0])\n",
    "    print(out[\"masks\"].shape)\n",
    "    break"
   ]
  },
  {
   "cell_type": "markdown",
   "metadata": {},
   "source": [
    "### Evaluate function"
   ]
  },
  {
   "cell_type": "code",
   "execution_count": 14,
   "metadata": {},
   "outputs": [],
   "source": [
    "@torch.no_grad()\n",
    "def evaluate(model, val_dl) -> dict[str, float]:\n",
    "    model.eval()  # set model to evaluate mode\n",
    "    outputs = [model.validation_step(batch) for batch in val_dl]\n",
    "    return model.validation_epoch_end(outputs)"
   ]
  },
  {
   "cell_type": "markdown",
   "metadata": {},
   "source": [
    "## GPU Training Setup"
   ]
  },
  {
   "cell_type": "markdown",
   "metadata": {},
   "source": [
    "## Moving data and model into memory"
   ]
  },
  {
   "cell_type": "code",
   "execution_count": 15,
   "metadata": {},
   "outputs": [
    {
     "data": {
      "text/plain": [
       "OptimizedModule(\n",
       "  (_orig_mod): VGGNetFCN8SegmentationModel(\n",
       "    (segmentation_criterion): SoftDiceLoss()\n",
       "    (classification_criterion): CrossEntropyLoss()\n",
       "    (cls_auroc): MulticlassAUROC()\n",
       "    (encoder): VGGNetEncoder(\n",
       "      (vgg): VGG(\n",
       "        (features): Sequential(\n",
       "          (0): Conv2d(3, 64, kernel_size=(3, 3), stride=(1, 1), padding=(1, 1))\n",
       "          (1): BatchNorm2d(64, eps=1e-05, momentum=0.1, affine=True, track_running_stats=True)\n",
       "          (2): ReLU(inplace=True)\n",
       "          (3): Conv2d(64, 64, kernel_size=(3, 3), stride=(1, 1), padding=(1, 1))\n",
       "          (4): BatchNorm2d(64, eps=1e-05, momentum=0.1, affine=True, track_running_stats=True)\n",
       "          (5): ReLU(inplace=True)\n",
       "          (6): MaxPool2d(kernel_size=2, stride=2, padding=0, dilation=1, ceil_mode=False)\n",
       "          (7): Conv2d(64, 128, kernel_size=(3, 3), stride=(1, 1), padding=(1, 1))\n",
       "          (8): BatchNorm2d(128, eps=1e-05, momentum=0.1, affine=True, track_running_stats=True)\n",
       "          (9): ReLU(inplace=True)\n",
       "          (10): Conv2d(128, 128, kernel_size=(3, 3), stride=(1, 1), padding=(1, 1))\n",
       "          (11): BatchNorm2d(128, eps=1e-05, momentum=0.1, affine=True, track_running_stats=True)\n",
       "          (12): ReLU(inplace=True)\n",
       "          (13): MaxPool2d(kernel_size=2, stride=2, padding=0, dilation=1, ceil_mode=False)\n",
       "          (14): Conv2d(128, 256, kernel_size=(3, 3), stride=(1, 1), padding=(1, 1))\n",
       "          (15): BatchNorm2d(256, eps=1e-05, momentum=0.1, affine=True, track_running_stats=True)\n",
       "          (16): ReLU(inplace=True)\n",
       "          (17): Conv2d(256, 256, kernel_size=(3, 3), stride=(1, 1), padding=(1, 1))\n",
       "          (18): BatchNorm2d(256, eps=1e-05, momentum=0.1, affine=True, track_running_stats=True)\n",
       "          (19): ReLU(inplace=True)\n",
       "          (20): Conv2d(256, 256, kernel_size=(3, 3), stride=(1, 1), padding=(1, 1))\n",
       "          (21): BatchNorm2d(256, eps=1e-05, momentum=0.1, affine=True, track_running_stats=True)\n",
       "          (22): ReLU(inplace=True)\n",
       "          (23): MaxPool2d(kernel_size=2, stride=2, padding=0, dilation=1, ceil_mode=False)\n",
       "          (24): Conv2d(256, 512, kernel_size=(3, 3), stride=(1, 1), padding=(1, 1))\n",
       "          (25): BatchNorm2d(512, eps=1e-05, momentum=0.1, affine=True, track_running_stats=True)\n",
       "          (26): ReLU(inplace=True)\n",
       "          (27): Conv2d(512, 512, kernel_size=(3, 3), stride=(1, 1), padding=(1, 1))\n",
       "          (28): BatchNorm2d(512, eps=1e-05, momentum=0.1, affine=True, track_running_stats=True)\n",
       "          (29): ReLU(inplace=True)\n",
       "          (30): Conv2d(512, 512, kernel_size=(3, 3), stride=(1, 1), padding=(1, 1))\n",
       "          (31): BatchNorm2d(512, eps=1e-05, momentum=0.1, affine=True, track_running_stats=True)\n",
       "          (32): ReLU(inplace=True)\n",
       "          (33): MaxPool2d(kernel_size=2, stride=2, padding=0, dilation=1, ceil_mode=False)\n",
       "          (34): Conv2d(512, 512, kernel_size=(3, 3), stride=(1, 1), padding=(1, 1))\n",
       "          (35): BatchNorm2d(512, eps=1e-05, momentum=0.1, affine=True, track_running_stats=True)\n",
       "          (36): ReLU(inplace=True)\n",
       "          (37): Conv2d(512, 512, kernel_size=(3, 3), stride=(1, 1), padding=(1, 1))\n",
       "          (38): BatchNorm2d(512, eps=1e-05, momentum=0.1, affine=True, track_running_stats=True)\n",
       "          (39): ReLU(inplace=True)\n",
       "          (40): Conv2d(512, 512, kernel_size=(3, 3), stride=(1, 1), padding=(1, 1))\n",
       "          (41): BatchNorm2d(512, eps=1e-05, momentum=0.1, affine=True, track_running_stats=True)\n",
       "          (42): ReLU(inplace=True)\n",
       "          (43): MaxPool2d(kernel_size=2, stride=2, padding=0, dilation=1, ceil_mode=False)\n",
       "        )\n",
       "        (avgpool): AdaptiveAvgPool2d(output_size=(7, 7))\n",
       "      )\n",
       "      (final_conv): Sequential(\n",
       "        (0): Conv2d(512, 4096, kernel_size=(7, 7), stride=(1, 1), padding=same)\n",
       "        (1): ReLU(inplace=True)\n",
       "        (2): Conv2d(4096, 4096, kernel_size=(1, 1), stride=(1, 1), padding=same)\n",
       "        (3): ReLU(inplace=True)\n",
       "      )\n",
       "    )\n",
       "    (decoder): FCN8Decoder(\n",
       "      (encoder): VGGNetEncoder(\n",
       "        (vgg): VGG(\n",
       "          (features): Sequential(\n",
       "            (0): Conv2d(3, 64, kernel_size=(3, 3), stride=(1, 1), padding=(1, 1))\n",
       "            (1): BatchNorm2d(64, eps=1e-05, momentum=0.1, affine=True, track_running_stats=True)\n",
       "            (2): ReLU(inplace=True)\n",
       "            (3): Conv2d(64, 64, kernel_size=(3, 3), stride=(1, 1), padding=(1, 1))\n",
       "            (4): BatchNorm2d(64, eps=1e-05, momentum=0.1, affine=True, track_running_stats=True)\n",
       "            (5): ReLU(inplace=True)\n",
       "            (6): MaxPool2d(kernel_size=2, stride=2, padding=0, dilation=1, ceil_mode=False)\n",
       "            (7): Conv2d(64, 128, kernel_size=(3, 3), stride=(1, 1), padding=(1, 1))\n",
       "            (8): BatchNorm2d(128, eps=1e-05, momentum=0.1, affine=True, track_running_stats=True)\n",
       "            (9): ReLU(inplace=True)\n",
       "            (10): Conv2d(128, 128, kernel_size=(3, 3), stride=(1, 1), padding=(1, 1))\n",
       "            (11): BatchNorm2d(128, eps=1e-05, momentum=0.1, affine=True, track_running_stats=True)\n",
       "            (12): ReLU(inplace=True)\n",
       "            (13): MaxPool2d(kernel_size=2, stride=2, padding=0, dilation=1, ceil_mode=False)\n",
       "            (14): Conv2d(128, 256, kernel_size=(3, 3), stride=(1, 1), padding=(1, 1))\n",
       "            (15): BatchNorm2d(256, eps=1e-05, momentum=0.1, affine=True, track_running_stats=True)\n",
       "            (16): ReLU(inplace=True)\n",
       "            (17): Conv2d(256, 256, kernel_size=(3, 3), stride=(1, 1), padding=(1, 1))\n",
       "            (18): BatchNorm2d(256, eps=1e-05, momentum=0.1, affine=True, track_running_stats=True)\n",
       "            (19): ReLU(inplace=True)\n",
       "            (20): Conv2d(256, 256, kernel_size=(3, 3), stride=(1, 1), padding=(1, 1))\n",
       "            (21): BatchNorm2d(256, eps=1e-05, momentum=0.1, affine=True, track_running_stats=True)\n",
       "            (22): ReLU(inplace=True)\n",
       "            (23): MaxPool2d(kernel_size=2, stride=2, padding=0, dilation=1, ceil_mode=False)\n",
       "            (24): Conv2d(256, 512, kernel_size=(3, 3), stride=(1, 1), padding=(1, 1))\n",
       "            (25): BatchNorm2d(512, eps=1e-05, momentum=0.1, affine=True, track_running_stats=True)\n",
       "            (26): ReLU(inplace=True)\n",
       "            (27): Conv2d(512, 512, kernel_size=(3, 3), stride=(1, 1), padding=(1, 1))\n",
       "            (28): BatchNorm2d(512, eps=1e-05, momentum=0.1, affine=True, track_running_stats=True)\n",
       "            (29): ReLU(inplace=True)\n",
       "            (30): Conv2d(512, 512, kernel_size=(3, 3), stride=(1, 1), padding=(1, 1))\n",
       "            (31): BatchNorm2d(512, eps=1e-05, momentum=0.1, affine=True, track_running_stats=True)\n",
       "            (32): ReLU(inplace=True)\n",
       "            (33): MaxPool2d(kernel_size=2, stride=2, padding=0, dilation=1, ceil_mode=False)\n",
       "            (34): Conv2d(512, 512, kernel_size=(3, 3), stride=(1, 1), padding=(1, 1))\n",
       "            (35): BatchNorm2d(512, eps=1e-05, momentum=0.1, affine=True, track_running_stats=True)\n",
       "            (36): ReLU(inplace=True)\n",
       "            (37): Conv2d(512, 512, kernel_size=(3, 3), stride=(1, 1), padding=(1, 1))\n",
       "            (38): BatchNorm2d(512, eps=1e-05, momentum=0.1, affine=True, track_running_stats=True)\n",
       "            (39): ReLU(inplace=True)\n",
       "            (40): Conv2d(512, 512, kernel_size=(3, 3), stride=(1, 1), padding=(1, 1))\n",
       "            (41): BatchNorm2d(512, eps=1e-05, momentum=0.1, affine=True, track_running_stats=True)\n",
       "            (42): ReLU(inplace=True)\n",
       "            (43): MaxPool2d(kernel_size=2, stride=2, padding=0, dilation=1, ceil_mode=False)\n",
       "          )\n",
       "          (avgpool): AdaptiveAvgPool2d(output_size=(7, 7))\n",
       "        )\n",
       "        (final_conv): Sequential(\n",
       "          (0): Conv2d(512, 4096, kernel_size=(7, 7), stride=(1, 1), padding=same)\n",
       "          (1): ReLU(inplace=True)\n",
       "          (2): Conv2d(4096, 4096, kernel_size=(1, 1), stride=(1, 1), padding=same)\n",
       "          (3): ReLU(inplace=True)\n",
       "        )\n",
       "      )\n",
       "      (upsample_5): Sequential(\n",
       "        (0): ConvTranspose2d(4096, 512, kernel_size=(3, 3), stride=(2, 2), padding=(1, 1), output_padding=(1, 1), bias=False)\n",
       "        (1): ReLU(inplace=True)\n",
       "      )\n",
       "      (bn5): BatchNorm2d(512, eps=1e-05, momentum=0.1, affine=True, track_running_stats=True)\n",
       "      (upsample_4): Sequential(\n",
       "        (0): ConvTranspose2d(512, 256, kernel_size=(3, 3), stride=(2, 2), padding=(1, 1), output_padding=(1, 1), bias=False)\n",
       "        (1): ReLU(inplace=True)\n",
       "      )\n",
       "      (bn4): BatchNorm2d(256, eps=1e-05, momentum=0.1, affine=True, track_running_stats=True)\n",
       "      (upsample3): Sequential(\n",
       "        (0): ConvTranspose2d(256, 128, kernel_size=(3, 3), stride=(2, 2), padding=(1, 1), output_padding=(1, 1), bias=False)\n",
       "        (1): ReLU(inplace=True)\n",
       "        (2): BatchNorm2d(128, eps=1e-05, momentum=0.1, affine=True, track_running_stats=True)\n",
       "      )\n",
       "      (upsample2): Sequential(\n",
       "        (0): ConvTranspose2d(128, 64, kernel_size=(3, 3), stride=(2, 2), padding=(1, 1), output_padding=(1, 1), bias=False)\n",
       "        (1): ReLU(inplace=True)\n",
       "        (2): BatchNorm2d(64, eps=1e-05, momentum=0.1, affine=True, track_running_stats=True)\n",
       "      )\n",
       "      (upsample1): Sequential(\n",
       "        (0): ConvTranspose2d(64, 32, kernel_size=(3, 3), stride=(2, 2), padding=(1, 1), output_padding=(1, 1), bias=False)\n",
       "        (1): ReLU(inplace=True)\n",
       "        (2): BatchNorm2d(32, eps=1e-05, momentum=0.1, affine=True, track_running_stats=True)\n",
       "      )\n",
       "      (mask_classifier): Conv2d(32, 1, kernel_size=(1, 1), stride=(1, 1))\n",
       "      (image_classifier): Sequential(\n",
       "        (0): AdaptiveAvgPool2d(output_size=1)\n",
       "        (1): Flatten(start_dim=1, end_dim=-1)\n",
       "        (2): Linear(in_features=4096, out_features=512, bias=True)\n",
       "        (3): ReLU(inplace=True)\n",
       "        (4): Linear(in_features=512, out_features=256, bias=True)\n",
       "        (5): ReLU(inplace=True)\n",
       "        (6): Linear(in_features=256, out_features=3, bias=True)\n",
       "      )\n",
       "    )\n",
       "  )\n",
       ")"
      ]
     },
     "execution_count": 15,
     "metadata": {},
     "output_type": "execute_result"
    }
   ],
   "source": [
    "train_dl = DeviceDataLoader(train_dl, device)\n",
    "val_dl = DeviceDataLoader(val_dl, device)\n",
    "to_device(model, device)\n",
    "# train_dl.device"
   ]
  },
  {
   "cell_type": "markdown",
   "metadata": {},
   "source": [
    "## Overfiting the model"
   ]
  },
  {
   "cell_type": "code",
   "execution_count": 16,
   "metadata": {},
   "outputs": [],
   "source": [
    "import enum\n",
    "\n",
    "\n",
    "class MetricKey(enum.Enum):\n",
    "    \"\"\"Keys for metrics dictionary.\"\"\"\n",
    "\n",
    "    # Classification\n",
    "    CLS_LOSS = \"cls_loss\"\n",
    "    CLS_ACC = \"cls_acc\"\n",
    "    VAL_CLS_LOSS = \"val_cls_loss\"\n",
    "    VAL_CLS_ACC = \"val_cls_acc\"\n",
    "\n",
    "    # Segmentation\n",
    "    SEG_LOSS = \"seg_loss\"\n",
    "    SEG_DICE = \"seg_dice\"\n",
    "    VAL_SEG_LOSS = \"val_seg_loss\"\n",
    "    VAL_SEG_DICE = \"val_seg_dice\"\n",
    "\n",
    "\n",
    "def fit(\n",
    "    model,\n",
    "    train_dataloader,\n",
    "    validation_dataloader,\n",
    "    epochs: int = 2,\n",
    "    lr: float = 1e-3,\n",
    "    opt_func=torch.optim.Adam,\n",
    ") -> list[dict[str, float]]:\n",
    "    history = []\n",
    "    result = {}\n",
    "    optimizer = opt_func(model.parameters(), lr)\n",
    "    for epoch in range(epochs):\n",
    "        # Training Phase\n",
    "        model.train()\n",
    "        train_losses = []\n",
    "        masks_dice_sc = []\n",
    "        train_accuracies = []\n",
    "        cls_loss = []\n",
    "        masks_losses = []\n",
    "        for batch in train_dataloader:\n",
    "            step_output = model.training_step(batch)\n",
    "            seg_loss = step_output[f\"{MetricKey.SEG_LOSS.value}\"]\n",
    "            seg_dice = step_output[f\"{MetricKey.SEG_DICE.value}\"]\n",
    "\n",
    "            cls_acc = step_output[f\"{MetricKey.CLS_ACC.value}\"]\n",
    "            cls_loss = step_output[f\"{MetricKey.CLS_LOSS.value}\"]\n",
    "            # Detach loss and accuracy before appending to avoid holding onto computation graph\n",
    "            train_losses.append(cls_loss.detach())\n",
    "            masks_losses.append(seg_loss.detach())  # Assuming train_acc is a tensor\n",
    "            masks_dice_sc.append(seg_dice)  # Assuming train_acc is a tensor\n",
    "            train_accuracies.append(cls_acc.detach())  # Assuming train_acc is a tensor\n",
    "\n",
    "            cls_loss.backward()\n",
    "            optimizer.step()\n",
    "            optimizer.zero_grad()\n",
    "\n",
    "        # Validation Phase\n",
    "        result = evaluate(model, validation_dataloader)\n",
    "        result[f\"{MetricKey.CLS_LOSS.value}\"] = torch.stack(train_losses).mean().item()\n",
    "        result[f\"{MetricKey.SEG_LOSS.value}\"] = torch.stack(masks_losses).mean().item()\n",
    "        result[f\"{MetricKey.SEG_DICE.value}\"] = torch.stack(masks_dice_sc).mean().item()\n",
    "        result[f\"{MetricKey.CLS_ACC.value}\"] = torch.stack(train_accuracies).mean().item()\n",
    "        model.epoch_end(epoch, result)\n",
    "        history.append(result)\n",
    "    return history"
   ]
  },
  {
   "cell_type": "code",
   "execution_count": 17,
   "metadata": {},
   "outputs": [
    {
     "name": "stderr",
     "output_type": "stream",
     "text": [
      "/home/ubuntu/.local/lib/python3.11/site-packages/torchmetrics/utilities/prints.py:43: UserWarning: No positive samples in targets, true positive value should be meaningless. Returning zero tensor in true positive score\n",
      "  warnings.warn(*args, **kwargs)\n",
      "/home/ubuntu/.local/lib/python3.11/site-packages/torchmetrics/utilities/prints.py:43: UserWarning: No negative samples in targets, false positive value should be meaningless. Returning zero tensor in false positive score\n",
      "  warnings.warn(*args, **kwargs)\n"
     ]
    },
    {
     "name": "stdout",
     "output_type": "stream",
     "text": [
      "Epoch [0] Validation Results: cls_loss=1.1276, val_cls_loss=1.0921, cls_acc=0.2100, val_cls_acc=0.3800, val_cls_auroc=0.4847, seg_loss=0.7795, val_seg_loss=0.7746, seg_dice=0.1319, val_seg_dice=0.1296\n",
      "Epoch [1] Validation Results: cls_loss=1.0958, val_cls_loss=1.0888, cls_acc=0.4700, val_cls_acc=0.4900, val_cls_auroc=0.5014, seg_loss=0.7790, val_seg_loss=0.7777, seg_dice=0.1321, val_seg_dice=0.1294\n",
      "Epoch [2] Validation Results: cls_loss=1.0607, val_cls_loss=1.0820, cls_acc=0.5800, val_cls_acc=0.5500, val_cls_auroc=0.5153, seg_loss=0.7798, val_seg_loss=0.7900, seg_dice=0.1317, val_seg_dice=0.1273\n",
      "Epoch [3] Validation Results: cls_loss=1.1003, val_cls_loss=1.0414, cls_acc=0.5300, val_cls_acc=0.5700, val_cls_auroc=0.5611, seg_loss=0.7806, val_seg_loss=0.7836, seg_dice=0.1311, val_seg_dice=0.1282\n",
      "Epoch [4] Validation Results: cls_loss=1.0302, val_cls_loss=1.0186, cls_acc=0.5800, val_cls_acc=0.5500, val_cls_auroc=0.5819, seg_loss=0.7796, val_seg_loss=0.7977, seg_dice=0.1317, val_seg_dice=0.1271\n",
      "Epoch [5] Validation Results: cls_loss=0.9922, val_cls_loss=0.9594, cls_acc=0.6500, val_cls_acc=0.5700, val_cls_auroc=0.5542, seg_loss=0.7790, val_seg_loss=0.7808, seg_dice=0.1317, val_seg_dice=0.1286\n",
      "Epoch [6] Validation Results: cls_loss=0.8715, val_cls_loss=0.9001, cls_acc=0.6600, val_cls_acc=0.6000, val_cls_auroc=0.5847, seg_loss=0.7790, val_seg_loss=0.7810, seg_dice=0.1317, val_seg_dice=0.1289\n",
      "Epoch [7] Validation Results: cls_loss=0.8801, val_cls_loss=3.1493, cls_acc=0.6400, val_cls_acc=0.5800, val_cls_auroc=0.5833, seg_loss=0.7785, val_seg_loss=0.7969, seg_dice=0.1319, val_seg_dice=0.1276\n",
      "Epoch [8] Validation Results: cls_loss=1.0426, val_cls_loss=0.9184, cls_acc=0.7300, val_cls_acc=0.6600, val_cls_auroc=0.6389, seg_loss=0.7786, val_seg_loss=0.7797, seg_dice=0.1319, val_seg_dice=0.1291\n",
      "Epoch [9] Validation Results: cls_loss=0.7649, val_cls_loss=0.9191, cls_acc=0.6700, val_cls_acc=0.6500, val_cls_auroc=0.6528, seg_loss=0.7781, val_seg_loss=0.7823, seg_dice=0.1319, val_seg_dice=0.1294\n",
      "Epoch [10] Validation Results: cls_loss=0.7264, val_cls_loss=1.4769, cls_acc=0.7200, val_cls_acc=0.5800, val_cls_auroc=0.6056, seg_loss=0.7786, val_seg_loss=0.7829, seg_dice=0.1316, val_seg_dice=0.1300\n",
      "Epoch [11] Validation Results: cls_loss=0.6772, val_cls_loss=0.9158, cls_acc=0.7800, val_cls_acc=0.6000, val_cls_auroc=0.6653, seg_loss=0.7779, val_seg_loss=0.7803, seg_dice=0.1319, val_seg_dice=0.1293\n",
      "Epoch [12] Validation Results: cls_loss=0.6560, val_cls_loss=1.0321, cls_acc=0.7900, val_cls_acc=0.7500, val_cls_auroc=0.6500, seg_loss=0.7784, val_seg_loss=0.7806, seg_dice=0.1317, val_seg_dice=0.1289\n",
      "Epoch [13] Validation Results: cls_loss=0.6880, val_cls_loss=0.8849, cls_acc=0.7800, val_cls_acc=0.7200, val_cls_auroc=0.6514, seg_loss=0.7784, val_seg_loss=0.7814, seg_dice=0.1317, val_seg_dice=0.1290\n",
      "Epoch [14] Validation Results: cls_loss=0.5755, val_cls_loss=0.9191, cls_acc=0.8600, val_cls_acc=0.6900, val_cls_auroc=0.6542, seg_loss=0.7780, val_seg_loss=0.7805, seg_dice=0.1318, val_seg_dice=0.1287\n",
      "Epoch [15] Validation Results: cls_loss=0.4453, val_cls_loss=1.0928, cls_acc=0.8700, val_cls_acc=0.6900, val_cls_auroc=0.6500, seg_loss=0.7785, val_seg_loss=0.7839, seg_dice=0.1317, val_seg_dice=0.1281\n",
      "Epoch [16] Validation Results: cls_loss=0.2649, val_cls_loss=1.2579, cls_acc=0.9200, val_cls_acc=0.6200, val_cls_auroc=0.5944, seg_loss=0.7786, val_seg_loss=0.7798, seg_dice=0.1317, val_seg_dice=0.1288\n",
      "Epoch [17] Validation Results: cls_loss=0.2997, val_cls_loss=1.1140, cls_acc=0.9000, val_cls_acc=0.6600, val_cls_auroc=0.5889, seg_loss=0.7792, val_seg_loss=0.7805, seg_dice=0.1314, val_seg_dice=0.1288\n",
      "Epoch [18] Validation Results: cls_loss=0.4461, val_cls_loss=1.4023, cls_acc=0.8800, val_cls_acc=0.6200, val_cls_auroc=0.5778, seg_loss=0.7786, val_seg_loss=0.7807, seg_dice=0.1318, val_seg_dice=0.1292\n",
      "Epoch [19] Validation Results: cls_loss=0.2442, val_cls_loss=1.3691, cls_acc=0.9400, val_cls_acc=0.7000, val_cls_auroc=0.6431, seg_loss=0.7795, val_seg_loss=0.7857, seg_dice=0.1314, val_seg_dice=0.1278\n",
      "Epoch [20] Validation Results: cls_loss=0.5442, val_cls_loss=1.1543, cls_acc=0.8700, val_cls_acc=0.4900, val_cls_auroc=0.5681, seg_loss=0.7803, val_seg_loss=0.7791, seg_dice=0.1310, val_seg_dice=0.1291\n",
      "Epoch [21] Validation Results: cls_loss=0.3300, val_cls_loss=1.0548, cls_acc=0.9000, val_cls_acc=0.7100, val_cls_auroc=0.6500, seg_loss=0.7789, val_seg_loss=0.7841, seg_dice=0.1318, val_seg_dice=0.1282\n",
      "Epoch [22] Validation Results: cls_loss=0.0837, val_cls_loss=1.2313, cls_acc=0.9700, val_cls_acc=0.7500, val_cls_auroc=0.6361, seg_loss=0.7795, val_seg_loss=0.7831, seg_dice=0.1314, val_seg_dice=0.1284\n",
      "Epoch [23] Validation Results: cls_loss=0.0591, val_cls_loss=1.5772, cls_acc=0.9800, val_cls_acc=0.7300, val_cls_auroc=0.6569, seg_loss=0.7798, val_seg_loss=0.7817, seg_dice=0.1313, val_seg_dice=0.1284\n",
      "Epoch [24] Validation Results: cls_loss=0.0825, val_cls_loss=1.7907, cls_acc=0.9500, val_cls_acc=0.6900, val_cls_auroc=0.6472, seg_loss=0.7795, val_seg_loss=0.7830, seg_dice=0.1314, val_seg_dice=0.1283\n",
      "Epoch [25] Validation Results: cls_loss=0.0633, val_cls_loss=1.6986, cls_acc=0.9700, val_cls_acc=0.6600, val_cls_auroc=0.6292, seg_loss=0.7788, val_seg_loss=0.7812, seg_dice=0.1317, val_seg_dice=0.1285\n",
      "Epoch [26] Validation Results: cls_loss=0.1208, val_cls_loss=1.3791, cls_acc=0.9600, val_cls_acc=0.5900, val_cls_auroc=0.5778, seg_loss=0.7796, val_seg_loss=0.7805, seg_dice=0.1313, val_seg_dice=0.1286\n",
      "Epoch [27] Validation Results: cls_loss=0.0892, val_cls_loss=1.5204, cls_acc=0.9700, val_cls_acc=0.6700, val_cls_auroc=0.6208, seg_loss=0.7793, val_seg_loss=0.7825, seg_dice=0.1315, val_seg_dice=0.1284\n",
      "Epoch [28] Validation Results: cls_loss=0.1884, val_cls_loss=1.6768, cls_acc=0.9500, val_cls_acc=0.6600, val_cls_auroc=0.6250, seg_loss=0.7783, val_seg_loss=0.7802, seg_dice=0.1320, val_seg_dice=0.1291\n",
      "Epoch [29] Validation Results: cls_loss=0.1178, val_cls_loss=1.4128, cls_acc=0.9800, val_cls_acc=0.6800, val_cls_auroc=0.6431, seg_loss=0.7792, val_seg_loss=0.7808, seg_dice=0.1316, val_seg_dice=0.1290\n",
      "Epoch [30] Validation Results: cls_loss=0.0482, val_cls_loss=1.4828, cls_acc=0.9900, val_cls_acc=0.6600, val_cls_auroc=0.6083, seg_loss=0.7795, val_seg_loss=0.7800, seg_dice=0.1314, val_seg_dice=0.1290\n",
      "Epoch [31] Validation Results: cls_loss=0.1081, val_cls_loss=3.3654, cls_acc=0.9700, val_cls_acc=0.6500, val_cls_auroc=0.5972, seg_loss=0.7790, val_seg_loss=0.7837, seg_dice=0.1316, val_seg_dice=0.1284\n",
      "Epoch [32] Validation Results: cls_loss=0.1686, val_cls_loss=2.8788, cls_acc=0.9600, val_cls_acc=0.6100, val_cls_auroc=0.5799, seg_loss=0.7787, val_seg_loss=0.7833, seg_dice=0.1318, val_seg_dice=0.1287\n",
      "Epoch [33] Validation Results: cls_loss=0.1638, val_cls_loss=2.4089, cls_acc=0.9200, val_cls_acc=0.7100, val_cls_auroc=0.6646, seg_loss=0.7788, val_seg_loss=0.7841, seg_dice=0.1319, val_seg_dice=0.1291\n",
      "Epoch [34] Validation Results: cls_loss=0.5317, val_cls_loss=1.1080, cls_acc=0.8300, val_cls_acc=0.6200, val_cls_auroc=0.5875, seg_loss=0.7790, val_seg_loss=0.7794, seg_dice=0.1316, val_seg_dice=0.1293\n",
      "Epoch [35] Validation Results: cls_loss=0.2926, val_cls_loss=1.3046, cls_acc=0.9000, val_cls_acc=0.6800, val_cls_auroc=0.6375, seg_loss=0.7788, val_seg_loss=0.7828, seg_dice=0.1316, val_seg_dice=0.1285\n",
      "Epoch [36] Validation Results: cls_loss=0.1930, val_cls_loss=1.2931, cls_acc=0.9300, val_cls_acc=0.6000, val_cls_auroc=0.6278, seg_loss=0.7793, val_seg_loss=0.7816, seg_dice=0.1313, val_seg_dice=0.1287\n",
      "Epoch [37] Validation Results: cls_loss=0.0495, val_cls_loss=1.5841, cls_acc=1.0000, val_cls_acc=0.6700, val_cls_auroc=0.6306, seg_loss=0.7790, val_seg_loss=0.7833, seg_dice=0.1317, val_seg_dice=0.1286\n",
      "Epoch [38] Validation Results: cls_loss=0.1114, val_cls_loss=1.8667, cls_acc=0.9500, val_cls_acc=0.7000, val_cls_auroc=0.6542, seg_loss=0.7790, val_seg_loss=0.7820, seg_dice=0.1316, val_seg_dice=0.1287\n",
      "Epoch [39] Validation Results: cls_loss=0.0441, val_cls_loss=2.1965, cls_acc=1.0000, val_cls_acc=0.7100, val_cls_auroc=0.6444, seg_loss=0.7793, val_seg_loss=0.7823, seg_dice=0.1314, val_seg_dice=0.1285\n",
      "Epoch [40] Validation Results: cls_loss=0.0248, val_cls_loss=2.5373, cls_acc=0.9900, val_cls_acc=0.6800, val_cls_auroc=0.6181, seg_loss=0.7789, val_seg_loss=0.7816, seg_dice=0.1317, val_seg_dice=0.1287\n",
      "Epoch [41] Validation Results: cls_loss=0.0046, val_cls_loss=2.6737, cls_acc=1.0000, val_cls_acc=0.6400, val_cls_auroc=0.6292, seg_loss=0.7794, val_seg_loss=0.7818, seg_dice=0.1314, val_seg_dice=0.1288\n",
      "Epoch [42] Validation Results: cls_loss=0.0711, val_cls_loss=3.1205, cls_acc=0.9800, val_cls_acc=0.7200, val_cls_auroc=0.6375, seg_loss=0.7797, val_seg_loss=0.7846, seg_dice=0.1313, val_seg_dice=0.1281\n",
      "Epoch [43] Validation Results: cls_loss=0.1395, val_cls_loss=2.0757, cls_acc=0.9000, val_cls_acc=0.7200, val_cls_auroc=0.6417, seg_loss=0.7784, val_seg_loss=0.7806, seg_dice=0.1318, val_seg_dice=0.1289\n",
      "Epoch [44] Validation Results: cls_loss=0.1319, val_cls_loss=1.8621, cls_acc=0.9700, val_cls_acc=0.6500, val_cls_auroc=0.6306, seg_loss=0.7790, val_seg_loss=0.7804, seg_dice=0.1315, val_seg_dice=0.1288\n",
      "Epoch [45] Validation Results: cls_loss=0.0641, val_cls_loss=1.6570, cls_acc=0.9800, val_cls_acc=0.7000, val_cls_auroc=0.6278, seg_loss=0.7788, val_seg_loss=0.7812, seg_dice=0.1318, val_seg_dice=0.1287\n",
      "Epoch [46] Validation Results: cls_loss=0.0097, val_cls_loss=1.8059, cls_acc=1.0000, val_cls_acc=0.6900, val_cls_auroc=0.6417, seg_loss=0.7782, val_seg_loss=0.7810, seg_dice=0.1320, val_seg_dice=0.1287\n",
      "Epoch [47] Validation Results: cls_loss=0.0497, val_cls_loss=2.0563, cls_acc=0.9900, val_cls_acc=0.7000, val_cls_auroc=0.6486, seg_loss=0.7790, val_seg_loss=0.7811, seg_dice=0.1317, val_seg_dice=0.1288\n",
      "Epoch [48] Validation Results: cls_loss=0.3545, val_cls_loss=2.6110, cls_acc=0.9800, val_cls_acc=0.7300, val_cls_auroc=0.6056, seg_loss=0.7787, val_seg_loss=0.7811, seg_dice=0.1318, val_seg_dice=0.1290\n",
      "Epoch [49] Validation Results: cls_loss=0.2768, val_cls_loss=1.4290, cls_acc=0.9500, val_cls_acc=0.8000, val_cls_auroc=0.6722, seg_loss=0.7779, val_seg_loss=0.7818, seg_dice=0.1322, val_seg_dice=0.1294\n",
      "Epoch [50] Validation Results: cls_loss=0.1363, val_cls_loss=1.4602, cls_acc=0.9400, val_cls_acc=0.7400, val_cls_auroc=0.6514, seg_loss=0.7784, val_seg_loss=0.7815, seg_dice=0.1319, val_seg_dice=0.1291\n",
      "Epoch [51] Validation Results: cls_loss=0.0637, val_cls_loss=1.9906, cls_acc=0.9800, val_cls_acc=0.7800, val_cls_auroc=0.6556, seg_loss=0.7785, val_seg_loss=0.7836, seg_dice=0.1320, val_seg_dice=0.1288\n",
      "Epoch [52] Validation Results: cls_loss=0.1251, val_cls_loss=1.8808, cls_acc=0.9500, val_cls_acc=0.7400, val_cls_auroc=0.6347, seg_loss=0.7788, val_seg_loss=0.7837, seg_dice=0.1319, val_seg_dice=0.1285\n",
      "Epoch [53] Validation Results: cls_loss=0.1197, val_cls_loss=1.6455, cls_acc=0.9600, val_cls_acc=0.7900, val_cls_auroc=0.6375, seg_loss=0.7795, val_seg_loss=0.7845, seg_dice=0.1314, val_seg_dice=0.1287\n",
      "Epoch [54] Validation Results: cls_loss=0.0830, val_cls_loss=1.9291, cls_acc=0.9800, val_cls_acc=0.7100, val_cls_auroc=0.6403, seg_loss=0.7786, val_seg_loss=0.7820, seg_dice=0.1319, val_seg_dice=0.1289\n",
      "Epoch [55] Validation Results: cls_loss=0.0407, val_cls_loss=1.6976, cls_acc=0.9800, val_cls_acc=0.7200, val_cls_auroc=0.6500, seg_loss=0.7795, val_seg_loss=0.7818, seg_dice=0.1314, val_seg_dice=0.1288\n",
      "Epoch [56] Validation Results: cls_loss=0.0081, val_cls_loss=1.8088, cls_acc=1.0000, val_cls_acc=0.7400, val_cls_auroc=0.6694, seg_loss=0.7791, val_seg_loss=0.7820, seg_dice=0.1316, val_seg_dice=0.1288\n",
      "Epoch [57] Validation Results: cls_loss=0.0030, val_cls_loss=2.0485, cls_acc=1.0000, val_cls_acc=0.7400, val_cls_auroc=0.6667, seg_loss=0.7787, val_seg_loss=0.7819, seg_dice=0.1320, val_seg_dice=0.1288\n",
      "Epoch [58] Validation Results: cls_loss=0.0029, val_cls_loss=2.2162, cls_acc=1.0000, val_cls_acc=0.7400, val_cls_auroc=0.6667, seg_loss=0.7790, val_seg_loss=0.7820, seg_dice=0.1317, val_seg_dice=0.1289\n",
      "Epoch [59] Validation Results: cls_loss=0.0012, val_cls_loss=2.5399, cls_acc=1.0000, val_cls_acc=0.7400, val_cls_auroc=0.6625, seg_loss=0.7791, val_seg_loss=0.7822, seg_dice=0.1317, val_seg_dice=0.1288\n",
      "Epoch [60] Validation Results: cls_loss=0.0013, val_cls_loss=2.8307, cls_acc=1.0000, val_cls_acc=0.7600, val_cls_auroc=0.6625, seg_loss=0.7794, val_seg_loss=0.7827, seg_dice=0.1315, val_seg_dice=0.1288\n",
      "Epoch [61] Validation Results: cls_loss=0.0003, val_cls_loss=2.6293, cls_acc=1.0000, val_cls_acc=0.7400, val_cls_auroc=0.6667, seg_loss=0.7794, val_seg_loss=0.7820, seg_dice=0.1315, val_seg_dice=0.1289\n",
      "Epoch [62] Validation Results: cls_loss=0.0002, val_cls_loss=2.7771, cls_acc=1.0000, val_cls_acc=0.7500, val_cls_auroc=0.6667, seg_loss=0.7793, val_seg_loss=0.7825, seg_dice=0.1316, val_seg_dice=0.1288\n",
      "Epoch [63] Validation Results: cls_loss=0.0003, val_cls_loss=2.8883, cls_acc=1.0000, val_cls_acc=0.7400, val_cls_auroc=0.6667, seg_loss=0.7789, val_seg_loss=0.7825, seg_dice=0.1319, val_seg_dice=0.1288\n",
      "Epoch [64] Validation Results: cls_loss=0.0001, val_cls_loss=2.8511, cls_acc=1.0000, val_cls_acc=0.7400, val_cls_auroc=0.6583, seg_loss=0.7789, val_seg_loss=0.7821, seg_dice=0.1318, val_seg_dice=0.1289\n",
      "Epoch [65] Validation Results: cls_loss=0.0000, val_cls_loss=2.7870, cls_acc=1.0000, val_cls_acc=0.7500, val_cls_auroc=0.6667, seg_loss=0.7793, val_seg_loss=0.7821, seg_dice=0.1317, val_seg_dice=0.1289\n",
      "Epoch [66] Validation Results: cls_loss=0.0001, val_cls_loss=2.9874, cls_acc=1.0000, val_cls_acc=0.7500, val_cls_auroc=0.6667, seg_loss=0.7791, val_seg_loss=0.7824, seg_dice=0.1317, val_seg_dice=0.1288\n",
      "Epoch [67] Validation Results: cls_loss=0.0000, val_cls_loss=2.8502, cls_acc=1.0000, val_cls_acc=0.7300, val_cls_auroc=0.6667, seg_loss=0.7791, val_seg_loss=0.7820, seg_dice=0.1318, val_seg_dice=0.1289\n",
      "Epoch [68] Validation Results: cls_loss=0.0001, val_cls_loss=3.0154, cls_acc=1.0000, val_cls_acc=0.7500, val_cls_auroc=0.6625, seg_loss=0.7793, val_seg_loss=0.7821, seg_dice=0.1316, val_seg_dice=0.1289\n",
      "Epoch [69] Validation Results: cls_loss=0.0643, val_cls_loss=2.9683, cls_acc=0.9900, val_cls_acc=0.7000, val_cls_auroc=0.6056, seg_loss=0.7794, val_seg_loss=0.7817, seg_dice=0.1316, val_seg_dice=0.1289\n",
      "Epoch [70] Validation Results: cls_loss=0.2922, val_cls_loss=3.6219, cls_acc=0.9300, val_cls_acc=0.7200, val_cls_auroc=0.6139, seg_loss=0.7783, val_seg_loss=0.7849, seg_dice=0.1320, val_seg_dice=0.1289\n",
      "Epoch [71] Validation Results: cls_loss=0.3970, val_cls_loss=1.5580, cls_acc=0.8800, val_cls_acc=0.6000, val_cls_auroc=0.5889, seg_loss=0.7781, val_seg_loss=0.7804, seg_dice=0.1321, val_seg_dice=0.1292\n",
      "Epoch [72] Validation Results: cls_loss=0.1189, val_cls_loss=2.0461, cls_acc=0.9700, val_cls_acc=0.6800, val_cls_auroc=0.6528, seg_loss=0.7787, val_seg_loss=0.7829, seg_dice=0.1317, val_seg_dice=0.1291\n",
      "Epoch [73] Validation Results: cls_loss=0.1380, val_cls_loss=2.5133, cls_acc=0.9400, val_cls_acc=0.6900, val_cls_auroc=0.6625, seg_loss=0.7783, val_seg_loss=0.7833, seg_dice=0.1320, val_seg_dice=0.1292\n",
      "Epoch [74] Validation Results: cls_loss=0.0303, val_cls_loss=3.1470, cls_acc=0.9900, val_cls_acc=0.7300, val_cls_auroc=0.6667, seg_loss=0.7783, val_seg_loss=0.7828, seg_dice=0.1321, val_seg_dice=0.1290\n",
      "Epoch [75] Validation Results: cls_loss=0.0844, val_cls_loss=2.4512, cls_acc=0.9800, val_cls_acc=0.6600, val_cls_auroc=0.6222, seg_loss=0.7789, val_seg_loss=0.7800, seg_dice=0.1318, val_seg_dice=0.1293\n",
      "Epoch [76] Validation Results: cls_loss=0.2041, val_cls_loss=1.7161, cls_acc=0.9600, val_cls_acc=0.7100, val_cls_auroc=0.6889, seg_loss=0.7789, val_seg_loss=0.7808, seg_dice=0.1318, val_seg_dice=0.1297\n",
      "Epoch [77] Validation Results: cls_loss=0.0526, val_cls_loss=1.5872, cls_acc=0.9900, val_cls_acc=0.7600, val_cls_auroc=0.6792, seg_loss=0.7789, val_seg_loss=0.7817, seg_dice=0.1318, val_seg_dice=0.1292\n",
      "Epoch [78] Validation Results: cls_loss=0.0328, val_cls_loss=2.5367, cls_acc=1.0000, val_cls_acc=0.7600, val_cls_auroc=0.6972, seg_loss=0.7793, val_seg_loss=0.7818, seg_dice=0.1315, val_seg_dice=0.1291\n",
      "Epoch [79] Validation Results: cls_loss=0.0377, val_cls_loss=2.7708, cls_acc=1.0000, val_cls_acc=0.7200, val_cls_auroc=0.6382, seg_loss=0.7791, val_seg_loss=0.7812, seg_dice=0.1317, val_seg_dice=0.1291\n",
      "Epoch [80] Validation Results: cls_loss=0.0048, val_cls_loss=2.7585, cls_acc=1.0000, val_cls_acc=0.7700, val_cls_auroc=0.6750, seg_loss=0.7789, val_seg_loss=0.7829, seg_dice=0.1318, val_seg_dice=0.1292\n",
      "Epoch [81] Validation Results: cls_loss=0.0038, val_cls_loss=2.7842, cls_acc=1.0000, val_cls_acc=0.7600, val_cls_auroc=0.6979, seg_loss=0.7791, val_seg_loss=0.7825, seg_dice=0.1316, val_seg_dice=0.1293\n",
      "Epoch [82] Validation Results: cls_loss=0.0064, val_cls_loss=3.5722, cls_acc=0.9900, val_cls_acc=0.7900, val_cls_auroc=0.6958, seg_loss=0.7786, val_seg_loss=0.7826, seg_dice=0.1319, val_seg_dice=0.1292\n",
      "Epoch [83] Validation Results: cls_loss=0.0782, val_cls_loss=4.5858, cls_acc=0.9900, val_cls_acc=0.7600, val_cls_auroc=0.6389, seg_loss=0.7788, val_seg_loss=0.7812, seg_dice=0.1319, val_seg_dice=0.1289\n",
      "Epoch [84] Validation Results: cls_loss=0.0915, val_cls_loss=3.6704, cls_acc=0.9600, val_cls_acc=0.7400, val_cls_auroc=0.7042, seg_loss=0.7787, val_seg_loss=0.7831, seg_dice=0.1318, val_seg_dice=0.1297\n",
      "Epoch [85] Validation Results: cls_loss=0.0811, val_cls_loss=3.5077, cls_acc=0.9800, val_cls_acc=0.7700, val_cls_auroc=0.6653, seg_loss=0.7783, val_seg_loss=0.7813, seg_dice=0.1320, val_seg_dice=0.1293\n",
      "Epoch [86] Validation Results: cls_loss=0.2633, val_cls_loss=5.2037, cls_acc=0.9500, val_cls_acc=0.7000, val_cls_auroc=0.6347, seg_loss=0.7777, val_seg_loss=0.7830, seg_dice=0.1323, val_seg_dice=0.1295\n",
      "Epoch [87] Validation Results: cls_loss=0.0784, val_cls_loss=3.2523, cls_acc=0.9700, val_cls_acc=0.7300, val_cls_auroc=0.6778, seg_loss=0.7793, val_seg_loss=0.7822, seg_dice=0.1314, val_seg_dice=0.1294\n",
      "Epoch [88] Validation Results: cls_loss=0.1150, val_cls_loss=2.4509, cls_acc=0.9600, val_cls_acc=0.6700, val_cls_auroc=0.6611, seg_loss=0.7794, val_seg_loss=0.7809, seg_dice=0.1313, val_seg_dice=0.1289\n",
      "Epoch [89] Validation Results: cls_loss=0.1128, val_cls_loss=3.0160, cls_acc=0.9700, val_cls_acc=0.7100, val_cls_auroc=0.6431, seg_loss=0.7786, val_seg_loss=0.7834, seg_dice=0.1317, val_seg_dice=0.1287\n",
      "Epoch [90] Validation Results: cls_loss=0.0503, val_cls_loss=1.4330, cls_acc=0.9800, val_cls_acc=0.7300, val_cls_auroc=0.6681, seg_loss=0.7788, val_seg_loss=0.7797, seg_dice=0.1317, val_seg_dice=0.1292\n",
      "Epoch [91] Validation Results: cls_loss=0.0434, val_cls_loss=1.2608, cls_acc=0.9700, val_cls_acc=0.7400, val_cls_auroc=0.6667, seg_loss=0.7793, val_seg_loss=0.7804, seg_dice=0.1315, val_seg_dice=0.1292\n",
      "Epoch [92] Validation Results: cls_loss=0.0258, val_cls_loss=4.9168, cls_acc=0.9800, val_cls_acc=0.7300, val_cls_auroc=0.6319, seg_loss=0.7788, val_seg_loss=0.7860, seg_dice=0.1317, val_seg_dice=0.1278\n",
      "Epoch [93] Validation Results: cls_loss=0.0451, val_cls_loss=1.8635, cls_acc=0.9900, val_cls_acc=0.6700, val_cls_auroc=0.6681, seg_loss=0.7790, val_seg_loss=0.7804, seg_dice=0.1316, val_seg_dice=0.1293\n",
      "Epoch [94] Validation Results: cls_loss=0.1271, val_cls_loss=1.1081, cls_acc=0.9400, val_cls_acc=0.7500, val_cls_auroc=0.6847, seg_loss=0.7789, val_seg_loss=0.7812, seg_dice=0.1317, val_seg_dice=0.1292\n",
      "Epoch [95] Validation Results: cls_loss=0.0310, val_cls_loss=1.7603, cls_acc=1.0000, val_cls_acc=0.7400, val_cls_auroc=0.6833, seg_loss=0.7778, val_seg_loss=0.7811, seg_dice=0.1324, val_seg_dice=0.1292\n",
      "Epoch [96] Validation Results: cls_loss=0.0257, val_cls_loss=1.7270, cls_acc=0.9800, val_cls_acc=0.7300, val_cls_auroc=0.6833, seg_loss=0.7780, val_seg_loss=0.7797, seg_dice=0.1321, val_seg_dice=0.1295\n",
      "Epoch [97] Validation Results: cls_loss=0.0062, val_cls_loss=2.0764, cls_acc=1.0000, val_cls_acc=0.7400, val_cls_auroc=0.6792, seg_loss=0.7781, val_seg_loss=0.7802, seg_dice=0.1321, val_seg_dice=0.1295\n",
      "Epoch [98] Validation Results: cls_loss=0.0030, val_cls_loss=2.2508, cls_acc=1.0000, val_cls_acc=0.7600, val_cls_auroc=0.6875, seg_loss=0.7778, val_seg_loss=0.7804, seg_dice=0.1323, val_seg_dice=0.1296\n",
      "Epoch [99] Validation Results: cls_loss=0.0004, val_cls_loss=2.3960, cls_acc=1.0000, val_cls_acc=0.7400, val_cls_auroc=0.6875, seg_loss=0.7783, val_seg_loss=0.7801, seg_dice=0.1320, val_seg_dice=0.1295\n"
     ]
    }
   ],
   "source": [
    "EPOCHS = 100\n",
    "history = fit(\n",
    "    model=model,\n",
    "    train_dataloader=train_dl,\n",
    "    validation_dataloader=val_dl,\n",
    "    epochs=EPOCHS,\n",
    "    lr=1e-4,\n",
    "    opt_func=optim.AdamW,\n",
    ")"
   ]
  },
  {
   "cell_type": "code",
   "execution_count": 18,
   "metadata": {},
   "outputs": [
    {
     "data": {
      "text/plain": [
       "Text(0.5, 1.0, 'Loss vs. NO. of epochs')"
      ]
     },
     "execution_count": 18,
     "metadata": {},
     "output_type": "execute_result"
    },
    {
     "data": {
      "image/png": "[encoded data removed]",
      "text/plain": [
       "<Figure size 640x480 with 1 Axes>"
      ]
     },
     "metadata": {},
     "output_type": "display_data"
    }
   ],
   "source": [
    "import matplotlib.pyplot as plt\n",
    "\n",
    "seg_losses = [x[\"seg_loss\"] for x in history]\n",
    "seg_dice = [x[\"seg_dice\"] for x in history]\n",
    "\n",
    "plt.plot(seg_losses, \"-bx\")\n",
    "plt.plot(seg_dice, \"-rx\")\n",
    "\n",
    "plt.xlabel(\"epoch\")\n",
    "plt.ylabel(\"loss\")\n",
    "plt.grid()\n",
    "plt.legend([\"seg_loss\", \"seg_dice\"])\n",
    "plt.title(\"Loss vs. NO. of epochs\")"
   ]
  },
  {
   "cell_type": "code",
   "execution_count": null,
   "metadata": {},
   "outputs": [],
   "source": []
  },
  {
   "cell_type": "code",
   "execution_count": null,
   "metadata": {},
   "outputs": [],
   "source": []
  },
  {
   "cell_type": "code",
   "execution_count": null,
   "metadata": {},
   "outputs": [],
   "source": []
  }
 ],
 "metadata": {
  "kernelspec": {
   "display_name": "base",
   "language": "python",
   "name": "python3"
  },
  "language_info": {
   "codemirror_mode": {
    "name": "ipython",
    "version": 3
   },
   "file_extension": ".py",
   "mimetype": "text/x-python",
   "name": "python",
   "nbconvert_exporter": "python",
   "pygments_lexer": "ipython3",
   "version": "3.11.11"
  }
 },
 "nbformat": 4,
 "nbformat_minor": 2
}
